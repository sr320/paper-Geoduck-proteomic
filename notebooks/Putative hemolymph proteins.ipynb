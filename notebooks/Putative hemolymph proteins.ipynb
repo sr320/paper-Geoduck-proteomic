{
 "cells": [
  {
   "cell_type": "markdown",
   "metadata": {},
   "source": [
    "## ID putative proteins that could be in hemolymph based on other transcriptomes."
   ]
  },
  {
   "cell_type": "markdown",
   "metadata": {},
   "source": [
    "using \n",
    "\n",
    "<img src=\"http://eagle.fish.washington.edu/cnidarian/skitch/RNA-Seq_in_Mytilus_galloprovincialis__comparative_transcriptomics_and_expression_profiles_among_different_tissues_1D872550.png\" alt=\"RNA-Seq_in_Mytilus_galloprovincialis__comparative_transcriptomics_and_expression_profiles_among_different_tissues_1D872550.png\"/>"
   ]
  },
  {
   "cell_type": "markdown",
   "metadata": {},
   "source": [
    "Using supplemental table #5\n",
    "<img src=\"http://eagle.fish.washington.edu/cnidarian/skitch/12864_2015_1817_MOESM1_ESM_xlsx_and_Putative_hemolymph_proteins_and_sr320_—_bash_—_80×24_1D87257B.png\" alt=\"12864_2015_1817_MOESM1_ESM_xlsx_and_Putative_hemolymph_proteins_and_sr320_—_bash_—_80×24_1D87257B.png\"/>"
   ]
  },
  {
   "cell_type": "code",
   "execution_count": 1,
   "metadata": {
    "collapsed": true
   },
   "outputs": [],
   "source": [
    "#created new column of combined hemocyte FPKM"
   ]
  },
  {
   "cell_type": "code",
   "execution_count": 2,
   "metadata": {
    "collapsed": true
   },
   "outputs": [],
   "source": [
    "## Selecting 3328 sequences that have combined FPKM >50"
   ]
  },
  {
   "cell_type": "code",
   "execution_count": 4,
   "metadata": {
    "collapsed": false
   },
   "outputs": [
    {
     "name": "stdout",
     "output_type": "stream",
     "text": [
      "CL5699.Contig1_All\r\n",
      "Unigene28249_All\r\n",
      "CL8632.Contig1_All\r\n",
      "Unigene6540_All\r\n",
      "CL16558.Contig1_All\r\n",
      "Unigene23766_All\r\n",
      "CL7546.Contig1_All\r\n",
      "CL3416.Contig3_All\r\n",
      "Unigene36723_All\r\n",
      "Unigene984_All\r\n"
     ]
    }
   ],
   "source": [
    "!head ../data/Mytilus-hemo-genes.txt"
   ]
  },
  {
   "cell_type": "code",
   "execution_count": 5,
   "metadata": {
    "collapsed": false
   },
   "outputs": [
    {
     "name": "stdout",
     "output_type": "stream",
     "text": [
      "    3328 ../data/Mytilus-hemo-genes.txt\r\n"
     ]
    }
   ],
   "source": [
    "!wc -l ../data/Mytilus-hemo-genes.txt"
   ]
  },
  {
   "cell_type": "code",
   "execution_count": 6,
   "metadata": {
    "collapsed": true
   },
   "outputs": [],
   "source": [
    "#Will blast all then sort tables"
   ]
  },
  {
   "cell_type": "code",
   "execution_count": 7,
   "metadata": {
    "collapsed": true
   },
   "outputs": [],
   "source": [
    "!blastx \\\n",
    "-query ../data/Mytilus-transcriptome.fa \\\n",
    "-db ../data/Pgenerosa-transdecoder_36003 \\\n",
    "-evalue 1e-40 \\\n",
    "-outfmt 6 \\\n",
    "-num_threads 6 \\\n",
    "-out ../analyses/Mytilus_blastx_Pgen_36003.tab "
   ]
  },
  {
   "cell_type": "code",
   "execution_count": 8,
   "metadata": {
    "collapsed": false
   },
   "outputs": [
    {
     "name": "stdout",
     "output_type": "stream",
     "text": [
      "   63593 ../analyses/Mytilus_blastx_Pgen_36003.tab\r\n"
     ]
    }
   ],
   "source": [
    "!wc -l ../analyses/Mytilus_blastx_Pgen_36003.tab"
   ]
  },
  {
   "cell_type": "code",
   "execution_count": 9,
   "metadata": {
    "collapsed": true
   },
   "outputs": [],
   "source": [
    "# join some list"
   ]
  },
  {
   "cell_type": "code",
   "execution_count": 10,
   "metadata": {
    "collapsed": false
   },
   "outputs": [
    {
     "name": "stdout",
     "output_type": "stream",
     "text": [
      "CL5699.Contig1_All\r\n",
      "Unigene28249_All\r\n",
      "CL8632.Contig1_All\r\n",
      "Unigene6540_All\r\n",
      "CL16558.Contig1_All\r\n",
      "Unigene23766_All\r\n",
      "CL7546.Contig1_All\r\n",
      "CL3416.Contig3_All\r\n",
      "Unigene36723_All\r\n",
      "Unigene984_All\r\n"
     ]
    }
   ],
   "source": [
    "!head ../data/Mytilus-hemo-genes.txt"
   ]
  },
  {
   "cell_type": "code",
   "execution_count": 11,
   "metadata": {
    "collapsed": true
   },
   "outputs": [],
   "source": [
    "!sort ../data/Mytilus-hemo-genes.txt \\\n",
    "> ../data/sorted-Mytilus-hemo-genes.txt"
   ]
  },
  {
   "cell_type": "code",
   "execution_count": 22,
   "metadata": {
    "collapsed": false
   },
   "outputs": [
    {
     "name": "stdout",
     "output_type": "stream",
     "text": [
      "CL10017.Contig1_All\n",
      "CL10018.Contig2_All\n",
      "CL10031.Contig2_All\n",
      "CL10116.Contig2_All\n",
      "CL10146.Contig2_All\n",
      "CL1015.Contig4_All\n",
      "CL1015.Contig5_All\n",
      "CL1015.Contig6_All\n",
      "CL1016.Contig2_All\n",
      "CL1019.Contig2_All\n",
      "    3329 ../data/sorted-Mytilus-hemo-genes.txt\n"
     ]
    }
   ],
   "source": [
    "!head ../data/sorted-Mytilus-hemo-genes.txt \n",
    "!wc -l ../data/sorted-Mytilus-hemo-genes.txt"
   ]
  },
  {
   "cell_type": "code",
   "execution_count": 13,
   "metadata": {
    "collapsed": false
   },
   "outputs": [
    {
     "name": "stdout",
     "output_type": "stream",
     "text": [
      "CL1.Contig1_All\tcds.comp144529_c0_seq3|m.52467\t50.99\t151\t71\t2\t2\t448\t130\t279\t4e-46\t  154\r\n",
      "CL1.Contig1_All\tcds.comp144529_c0_seq5|m.52471\t50.33\t153\t73\t2\t2\t454\t286\t437\t6e-45\t  157\r\n",
      "CL7.Contig4_All\tcds.comp129637_c0_seq2|m.17393\t44.79\t163\t90\t0\t148\t636\t13\t175\t8e-46\t  162\r\n",
      "CL7.Contig4_All\tcds.comp137281_c0_seq5|m.27787\t50.31\t163\t80\t1\t145\t633\t3\t164\t1e-44\t  159\r\n",
      "CL7.Contig4_All\tcds.comp129637_c0_seq1|m.17392\t43.48\t161\t91\t0\t148\t630\t13\t173\t7e-44\t  155\r\n",
      "CL9.Contig1_All\tcds.comp143114_c0_seq2|m.44678\t51.31\t343\t165\t2\t1167\t145\t1\t343\t6e-124\t  366\r\n",
      "CL9.Contig1_All\tcds.comp143114_c0_seq1|m.44677\t51.02\t343\t166\t2\t1167\t145\t1\t343\t3e-123\t  364\r\n",
      "CL9.Contig1_All\tcds.comp124156_c0_seq1|m.13337\t59.54\t173\t70\t0\t774\t256\t2\t174\t3e-68\t  216\r\n",
      "CL9.Contig1_All\tcds.comp119810_c0_seq1|m.11194\t43.65\t197\t100\t4\t717\t154\t3\t197\t2e-51\t  174\r\n",
      "CL9.Contig2_All\tcds.comp143114_c0_seq2|m.44678\t52.01\t348\t161\t3\t1185\t145\t1\t343\t7e-124\t  367\r\n"
     ]
    }
   ],
   "source": [
    "!head ../analyses/Mytilus_blastx_Pgen_36003.tab"
   ]
  },
  {
   "cell_type": "code",
   "execution_count": 23,
   "metadata": {
    "collapsed": false
   },
   "outputs": [
    {
     "ename": "SyntaxError",
     "evalue": "invalid syntax (<ipython-input-23-facc6dc323f4>, line 2)",
     "output_type": "error",
     "traceback": [
      "\u001b[0;36m  File \u001b[0;32m\"<ipython-input-23-facc6dc323f4>\"\u001b[0;36m, line \u001b[0;32m2\u001b[0m\n\u001b[0;31m    > ../data/sorted-Mytilus_blastx_Pgen_36003.tab\u001b[0m\n\u001b[0m    ^\u001b[0m\n\u001b[0;31mSyntaxError\u001b[0m\u001b[0;31m:\u001b[0m invalid syntax\n"
     ]
    }
   ],
   "source": [
    "!sort ../analyses/Mytilus_blastx_Pgen_36003.tab \\\n",
    "> ../data/sorted-Mytilus_blastx_Pgen_36003.tab "
   ]
  },
  {
   "cell_type": "code",
   "execution_count": 24,
   "metadata": {
    "collapsed": false
   },
   "outputs": [
    {
     "name": "stdout",
     "output_type": "stream",
     "text": [
      "CL1.Contig1_All\tcds.comp144529_c0_seq3|m.52467\t50.99\t151\t71\t2\t2\t448\t130\t279\t4e-46\t  154\n",
      "CL1.Contig1_All\tcds.comp144529_c0_seq5|m.52471\t50.33\t153\t73\t2\t2\t454\t286\t437\t6e-45\t  157\n",
      "CL10000.Contig1_All\tcds.comp127845_c0_seq1|m.15839\t69.95\t193\t57\t1\t741\t166\t1\t193\t9e-91\t  274\n",
      "CL10000.Contig2_All\tcds.comp127845_c0_seq1|m.15839\t65.08\t126\t43\t1\t1\t375\t68\t193\t3e-50\t  161\n",
      "CL10005.Contig1_All\tcds.comp138064_c0_seq1|m.29305\t56.29\t167\t70\t1\t494\t3\t226\t392\t4e-57\t  187\n",
      "CL10005.Contig3_All\tcds.comp123426_c0_seq1|m.12927\t51.53\t163\t79\t0\t842\t354\t137\t299\t3e-49\t  168\n",
      "CL10005.Contig3_All\tcds.comp123426_c0_seq2|m.12928\t56.52\t138\t60\t0\t842\t429\t137\t274\t1e-43\t  152\n",
      "CL10005.Contig3_All\tcds.comp138064_c0_seq1|m.29305\t49.41\t253\t125\t1\t836\t87\t190\t442\t6e-79\t  249\n",
      "CL10009.Contig1_All\tcds.comp132550_c0_seq1|m.20389\t30.41\t365\t221\t11\t1154\t135\t57\t413\t5e-45\t  163\n",
      "CL10012.Contig1_All\tcds.comp143827_c0_seq1|m.47817\t45.23\t367\t177\t8\t3237\t2194\t218\t579\t4e-61\t  231\n",
      "   63593 ../data/sorted-Mytilus_blastx_Pgen_36003.tab\n"
     ]
    }
   ],
   "source": [
    "!head ../data/sorted-Mytilus_blastx_Pgen_36003.tab \n",
    "!wc -l ../data/sorted-Mytilus_blastx_Pgen_36003.tab"
   ]
  },
  {
   "cell_type": "code",
   "execution_count": 17,
   "metadata": {
    "collapsed": false
   },
   "outputs": [],
   "source": [
    "!join -t $'\\t' \\\n",
    "../data/sorted-Mytilus-hemo-genes.txt \\\n",
    "../data/sorted-Mytilus_blastx_Pgen_36003.tab \\\n",
    "> ../data/putative-hemo-list.tab"
   ]
  },
  {
   "cell_type": "code",
   "execution_count": 19,
   "metadata": {
    "collapsed": false
   },
   "outputs": [
    {
     "name": "stdout",
     "output_type": "stream",
     "text": [
      "CL10018.Contig2_All\tcds.comp141958_c0_seq1|m.40357\t67.39\t276\t86\t2\t1148\t321\t3\t274\t2e-128\t  389\r\n",
      "CL10018.Contig2_All\tcds.comp141958_c0_seq2|m.40358\t67.39\t276\t86\t2\t1148\t321\t3\t274\t3e-128\t  389\r\n",
      "CL10333.Contig1_All\tcds.comp95244_c0_seq1|m.5289\t49.54\t218\t98\t2\t2766\t2119\t1\t208\t2e-73\t  246\r\n",
      "CL10444.Contig2_All\tcds.comp139378_c0_seq1|m.32243\t62.45\t237\t87\t2\t95\t805\t10\t244\t7e-102\t  321\r\n",
      "CL10444.Contig2_All\tcds.comp139378_c0_seq1|m.32244\t62.27\t273\t87\t3\t1214\t2020\t1\t261\t3e-106\t  328\r\n",
      "CL10444.Contig2_All\tcds.comp139378_c0_seq2|m.32246\t62.45\t237\t87\t2\t95\t805\t10\t244\t7e-102\t  321\r\n",
      "CL10444.Contig2_All\tcds.comp139378_c0_seq2|m.32247\t62.27\t273\t87\t3\t1214\t2020\t1\t261\t3e-106\t  328\r\n",
      "CL10492.Contig1_All\tcds.comp130777_c0_seq1|m.18471\t54.49\t167\t70\t2\t149\t637\t29\t193\t4e-55\t  192\r\n",
      "CL10492.Contig1_All\tcds.comp130777_c0_seq2|m.18474\t53.57\t168\t73\t1\t149\t637\t29\t196\t2e-55\t  192\r\n",
      "CL10492.Contig1_All\tcds.comp132536_c0_seq3|m.20376\t58.76\t177\t70\t1\t128\t649\t36\t212\t3e-64\t  217\r\n"
     ]
    }
   ],
   "source": [
    "!head ../data/putative-hemo-list.tab"
   ]
  },
  {
   "cell_type": "code",
   "execution_count": 20,
   "metadata": {
    "collapsed": false
   },
   "outputs": [
    {
     "name": "stdout",
     "output_type": "stream",
     "text": [
      "    5211 ../data/putative-hemo-list.tab\r\n"
     ]
    }
   ],
   "source": [
    "!wc -l ../data/putative-hemo-list.tab"
   ]
  },
  {
   "cell_type": "code",
   "execution_count": 27,
   "metadata": {
    "collapsed": false
   },
   "outputs": [],
   "source": [
    "!sort ../data/12864_2015_1817_MOESM1_ESM.txt \\\n",
    "> ../data/sorted-12864_2015_1817_MOESM1_ESM.txt"
   ]
  },
  {
   "cell_type": "code",
   "execution_count": 28,
   "metadata": {
    "collapsed": true
   },
   "outputs": [],
   "source": [
    "!join -t $'\\t' \\\n",
    "../data/putative-hemo-list.tab \\\n",
    "../data/sorted-12864_2015_1817_MOESM1_ESM.txt \\\n",
    "> ../data/putative-hemo-list-annotated.tab"
   ]
  },
  {
   "cell_type": "code",
   "execution_count": 30,
   "metadata": {
    "collapsed": false
   },
   "outputs": [
    {
     "name": "stdout",
     "output_type": "stream",
     "text": [
      "usage: cut -b list [-n] [file ...]\r\n",
      "       cut -c list [file ...]\r\n",
      "       cut -f list [-s] [-d delim] [file ...]\r\n"
     ]
    }
   ],
   "source": [
    "!cut 2 ../data/putative-hemo-list.tab "
   ]
  },
  {
   "cell_type": "markdown",
   "metadata": {},
   "source": [
    "## redo with more stringency"
   ]
  },
  {
   "cell_type": "code",
   "execution_count": 31,
   "metadata": {
    "collapsed": true
   },
   "outputs": [],
   "source": [
    "!blastx \\\n",
    "-query ../data/Mytilus-transcriptome.fa \\\n",
    "-db ../data/Pgenerosa-transdecoder_36003 \\\n",
    "-evalue 1e-100 \\\n",
    "-outfmt 6 \\\n",
    "-num_threads 6 \\\n",
    "-out ../analyses/Mytilus_blastx_Pgen_36003_e100.tab "
   ]
  },
  {
   "cell_type": "code",
   "execution_count": 32,
   "metadata": {
    "collapsed": true
   },
   "outputs": [],
   "source": [
    "!sort ../analyses/Mytilus_blastx_Pgen_36003_e100.tab \\\n",
    "> ../data/sorted-Mytilus_blastx_Pgen_36003_e100.tab "
   ]
  },
  {
   "cell_type": "code",
   "execution_count": 33,
   "metadata": {
    "collapsed": true
   },
   "outputs": [],
   "source": [
    "!join -t $'\\t' \\\n",
    "../data/sorted-Mytilus-hemo-genes.txt \\\n",
    "../data/sorted-Mytilus_blastx_Pgen_36003_e100.tab \\\n",
    "> ../data/putative-hemo-list_e100.tab"
   ]
  },
  {
   "cell_type": "code",
   "execution_count": 34,
   "metadata": {
    "collapsed": true
   },
   "outputs": [],
   "source": [
    "!join -t $'\\t' \\\n",
    "../data/putative-hemo-list_e100.tab \\\n",
    "../data/sorted-12864_2015_1817_MOESM1_ESM.txt \\\n",
    "> ../data/putative-hemo-list-annotated_e100.tab"
   ]
  },
  {
   "cell_type": "code",
   "execution_count": 35,
   "metadata": {
    "collapsed": true
   },
   "outputs": [],
   "source": [
    "!open ../data/putative-hemo-list-annotated_e100.tab -a \"Microsoft Excel\""
   ]
  },
  {
   "cell_type": "markdown",
   "metadata": {},
   "source": [
    "## now other direction"
   ]
  },
  {
   "cell_type": "code",
   "execution_count": 36,
   "metadata": {
    "collapsed": true
   },
   "outputs": [],
   "source": [
    "#need to extract hemolymph expressed proteins from full fasta"
   ]
  },
  {
   "cell_type": "code",
   "execution_count": null,
   "metadata": {
    "collapsed": true
   },
   "outputs": [],
   "source": []
  }
 ],
 "metadata": {
  "kernelspec": {
   "display_name": "Python 2",
   "language": "python",
   "name": "python2"
  },
  "language_info": {
   "codemirror_mode": {
    "name": "ipython",
    "version": 2
   },
   "file_extension": ".py",
   "mimetype": "text/x-python",
   "name": "python",
   "nbconvert_exporter": "python",
   "pygments_lexer": "ipython2",
   "version": "2.7.11"
  }
 },
 "nbformat": 4,
 "nbformat_minor": 0
}
