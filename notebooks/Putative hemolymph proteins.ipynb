{
 "cells": [
  {
   "cell_type": "markdown",
   "metadata": {},
   "source": [
    "## ID putative proteins that could be in hemolymph based on other transcriptomes."
   ]
  },
  {
   "cell_type": "markdown",
   "metadata": {},
   "source": [
    "using \n",
    "\n",
    "<img src=\"http://eagle.fish.washington.edu/cnidarian/skitch/RNA-Seq_in_Mytilus_galloprovincialis__comparative_transcriptomics_and_expression_profiles_among_different_tissues_1D872550.png\" alt=\"RNA-Seq_in_Mytilus_galloprovincialis__comparative_transcriptomics_and_expression_profiles_among_different_tissues_1D872550.png\"/>"
   ]
  },
  {
   "cell_type": "markdown",
   "metadata": {},
   "source": [
    "Using supplemental table #5\n",
    "<img src=\"http://eagle.fish.washington.edu/cnidarian/skitch/12864_2015_1817_MOESM1_ESM_xlsx_and_Putative_hemolymph_proteins_and_sr320_—_bash_—_80×24_1D87257B.png\" alt=\"12864_2015_1817_MOESM1_ESM_xlsx_and_Putative_hemolymph_proteins_and_sr320_—_bash_—_80×24_1D87257B.png\"/>"
   ]
  },
  {
   "cell_type": "code",
   "execution_count": 1,
   "metadata": {
    "collapsed": true
   },
   "outputs": [],
   "source": [
    "#created new column of combined hemocyte FPKM"
   ]
  },
  {
   "cell_type": "code",
   "execution_count": 2,
   "metadata": {
    "collapsed": true
   },
   "outputs": [],
   "source": [
    "## Selecting 3328 sequences that have combined FPKM >50"
   ]
  },
  {
   "cell_type": "code",
   "execution_count": 4,
   "metadata": {
    "collapsed": false
   },
   "outputs": [
    {
     "name": "stdout",
     "output_type": "stream",
     "text": [
      "CL5699.Contig1_All\r\n",
      "Unigene28249_All\r\n",
      "CL8632.Contig1_All\r\n",
      "Unigene6540_All\r\n",
      "CL16558.Contig1_All\r\n",
      "Unigene23766_All\r\n",
      "CL7546.Contig1_All\r\n",
      "CL3416.Contig3_All\r\n",
      "Unigene36723_All\r\n",
      "Unigene984_All\r\n"
     ]
    }
   ],
   "source": [
    "!head ../data/Mytilus-hemo-genes.txt"
   ]
  },
  {
   "cell_type": "code",
   "execution_count": 5,
   "metadata": {
    "collapsed": false
   },
   "outputs": [
    {
     "name": "stdout",
     "output_type": "stream",
     "text": [
      "    3328 ../data/Mytilus-hemo-genes.txt\r\n"
     ]
    }
   ],
   "source": [
    "!wc -l ../data/Mytilus-hemo-genes.txt"
   ]
  },
  {
   "cell_type": "code",
   "execution_count": 6,
   "metadata": {
    "collapsed": true
   },
   "outputs": [],
   "source": [
    "#Will blast all then sort tables"
   ]
  },
  {
   "cell_type": "code",
   "execution_count": null,
   "metadata": {
    "collapsed": true
   },
   "outputs": [],
   "source": [
    "!blastx \\\n",
    "-query ../data/Mytilus-transcriptome.fa \\\n",
    "-db ../data/Pgenerosa-transdecoder_36003 \\\n",
    "-evalue 1e-40 \\\n",
    "-outfmt 6 \\\n",
    "-num_threads 6 \\\n",
    "-out ../analyses/Mytilus_blastx_Pgen_36003.tab "
   ]
  },
  {
   "cell_type": "code",
   "execution_count": null,
   "metadata": {
    "collapsed": true
   },
   "outputs": [],
   "source": []
  }
 ],
 "metadata": {
  "kernelspec": {
   "display_name": "Python 2",
   "language": "python",
   "name": "python2"
  },
  "language_info": {
   "codemirror_mode": {
    "name": "ipython",
    "version": 2
   },
   "file_extension": ".py",
   "mimetype": "text/x-python",
   "name": "python",
   "nbconvert_exporter": "python",
   "pygments_lexer": "ipython2",
   "version": "2.7.11"
  }
 },
 "nbformat": 4,
 "nbformat_minor": 0
}
