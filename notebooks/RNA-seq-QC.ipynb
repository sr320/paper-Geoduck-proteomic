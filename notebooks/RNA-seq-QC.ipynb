{
 "cells": [
  {
   "cell_type": "markdown",
   "metadata": {},
   "source": [
    "#Quality trimming RNA-seq Data"
   ]
  },
  {
   "cell_type": "code",
   "execution_count": 1,
   "metadata": {
    "collapsed": false
   },
   "outputs": [
    {
     "name": "stdout",
     "output_type": "stream",
     "text": [
      "/Users/sr320/data-genomic/tentacle\n"
     ]
    }
   ],
   "source": [
    "cd /Users/sr320/data-genomic/tentacle"
   ]
  },
  {
   "cell_type": "code",
   "execution_count": 3,
   "metadata": {
    "collapsed": false
   },
   "outputs": [
    {
     "name": "stdout",
     "output_type": "stream",
     "text": [
      "  % Total    % Received % Xferd  Average Speed   Time    Time     Time  Current\n",
      "                                 Dload  Upload   Total   Spent    Left  Speed\n",
      "100 9465M  100 9465M    0     0  66.6M      0  0:02:21  0:02:21 --:--:-- 76.4M\n"
     ]
    }
   ],
   "source": [
    "!curl -O http://owl.fish.washington.edu/nightingales/P_generosa/Geo_Pool_F_GGCTAC_L006_R1_001.fastq.gz"
   ]
  },
  {
   "cell_type": "code",
   "execution_count": 6,
   "metadata": {
    "collapsed": false
   },
   "outputs": [
    {
     "name": "stdout",
     "output_type": "stream",
     "text": [
      "  % Total    % Received % Xferd  Average Speed   Time    Time     Time  Current\n",
      "                                 Dload  Upload   Total   Spent    Left  Speed\n",
      "100 9566M  100 9566M    0     0  69.4M      0  0:02:17  0:02:17 --:--:-- 55.7M\n"
     ]
    }
   ],
   "source": [
    "!curl -O http://owl.fish.washington.edu/nightingales/P_generosa/Geo_Pool_F_GGCTAC_L006_R2_001.fastq.gz"
   ]
  },
  {
   "cell_type": "code",
   "execution_count": 5,
   "metadata": {
    "collapsed": false
   },
   "outputs": [
    {
     "name": "stdout",
     "output_type": "stream",
     "text": [
      "  % Total    % Received % Xferd  Average Speed   Time    Time     Time  Current\n",
      "                                 Dload  Upload   Total   Spent    Left  Speed\n",
      "100 10.4G  100 10.4G    0     0  71.6M      0  0:02:29  0:02:29 --:--:-- 75.8M\n"
     ]
    }
   ],
   "source": [
    "!curl -O http://owl.fish.washington.edu/nightingales/P_generosa/Geo_Pool_M_CTTGTA_L006_R1_001.fastq.gz"
   ]
  },
  {
   "cell_type": "code",
   "execution_count": 7,
   "metadata": {
    "collapsed": false
   },
   "outputs": [
    {
     "name": "stdout",
     "output_type": "stream",
     "text": [
      "  % Total    % Received % Xferd  Average Speed   Time    Time     Time  Current\n",
      "                                 Dload  Upload   Total   Spent    Left  Speed\n",
      "100 10.6G  100 10.6G    0     0  70.8M      0  0:02:34  0:02:34 --:--:-- 69.1M\n"
     ]
    }
   ],
   "source": [
    "!curl -O http://owl.fish.washington.edu/nightingales/P_generosa/Geo_Pool_M_CTTGTA_L006_R2_001.fastq.gz"
   ]
  },
  {
   "cell_type": "code",
   "execution_count": 14,
   "metadata": {
    "collapsed": false
   },
   "outputs": [
    {
     "name": "stdout",
     "output_type": "stream",
     "text": [
      "Started analysis of Geo_Pool_F_GGCTAC_L006_R1_001.fastq.gz\n",
      "Approx 5% complete for Geo_Pool_F_GGCTAC_L006_R1_001.fastq.gz\n",
      "Approx 10% complete for Geo_Pool_F_GGCTAC_L006_R1_001.fastq.gz\n",
      "Approx 15% complete for Geo_Pool_F_GGCTAC_L006_R1_001.fastq.gz\n",
      "Approx 20% complete for Geo_Pool_F_GGCTAC_L006_R1_001.fastq.gz\n",
      "Approx 25% complete for Geo_Pool_F_GGCTAC_L006_R1_001.fastq.gz\n",
      "Approx 30% complete for Geo_Pool_F_GGCTAC_L006_R1_001.fastq.gz\n",
      "Approx 35% complete for Geo_Pool_F_GGCTAC_L006_R1_001.fastq.gz\n",
      "Approx 40% complete for Geo_Pool_F_GGCTAC_L006_R1_001.fastq.gz\n",
      "Approx 45% complete for Geo_Pool_F_GGCTAC_L006_R1_001.fastq.gz\n",
      "Approx 50% complete for Geo_Pool_F_GGCTAC_L006_R1_001.fastq.gz\n",
      "Approx 55% complete for Geo_Pool_F_GGCTAC_L006_R1_001.fastq.gz\n",
      "Approx 60% complete for Geo_Pool_F_GGCTAC_L006_R1_001.fastq.gz\n",
      "Approx 65% complete for Geo_Pool_F_GGCTAC_L006_R1_001.fastq.gz\n",
      "Approx 70% complete for Geo_Pool_F_GGCTAC_L006_R1_001.fastq.gz\n",
      "Approx 75% complete for Geo_Pool_F_GGCTAC_L006_R1_001.fastq.gz\n",
      "Approx 80% complete for Geo_Pool_F_GGCTAC_L006_R1_001.fastq.gz\n",
      "Approx 85% complete for Geo_Pool_F_GGCTAC_L006_R1_001.fastq.gz\n",
      "Approx 90% complete for Geo_Pool_F_GGCTAC_L006_R1_001.fastq.gz\n",
      "Approx 95% complete for Geo_Pool_F_GGCTAC_L006_R1_001.fastq.gz\n",
      "Analysis complete for Geo_Pool_F_GGCTAC_L006_R1_001.fastq.gz\n"
     ]
    }
   ],
   "source": [
    "!/Applications/bioinfo/FastQC/fastqc \\\n",
    "Geo_Pool_F_GGCTAC_L006_R1_001.fastq.gz \\\n",
    "-o /Users/sr320/data-genomic/tentacle/"
   ]
  },
  {
   "cell_type": "code",
   "execution_count": 15,
   "metadata": {
    "collapsed": false
   },
   "outputs": [
    {
     "name": "stdout",
     "output_type": "stream",
     "text": [
      "Started analysis of Geo_Pool_F_GGCTAC_L006_R2_001.fastq.gz\n",
      "Approx 5% complete for Geo_Pool_F_GGCTAC_L006_R2_001.fastq.gz\n",
      "Approx 10% complete for Geo_Pool_F_GGCTAC_L006_R2_001.fastq.gz\n",
      "Approx 15% complete for Geo_Pool_F_GGCTAC_L006_R2_001.fastq.gz\n",
      "Approx 20% complete for Geo_Pool_F_GGCTAC_L006_R2_001.fastq.gz\n",
      "Approx 25% complete for Geo_Pool_F_GGCTAC_L006_R2_001.fastq.gz\n",
      "Approx 30% complete for Geo_Pool_F_GGCTAC_L006_R2_001.fastq.gz\n",
      "Approx 35% complete for Geo_Pool_F_GGCTAC_L006_R2_001.fastq.gz\n",
      "Approx 40% complete for Geo_Pool_F_GGCTAC_L006_R2_001.fastq.gz\n",
      "Approx 45% complete for Geo_Pool_F_GGCTAC_L006_R2_001.fastq.gz\n",
      "Approx 50% complete for Geo_Pool_F_GGCTAC_L006_R2_001.fastq.gz\n",
      "Approx 55% complete for Geo_Pool_F_GGCTAC_L006_R2_001.fastq.gz\n",
      "Approx 60% complete for Geo_Pool_F_GGCTAC_L006_R2_001.fastq.gz\n",
      "Approx 65% complete for Geo_Pool_F_GGCTAC_L006_R2_001.fastq.gz\n",
      "Approx 70% complete for Geo_Pool_F_GGCTAC_L006_R2_001.fastq.gz\n",
      "Approx 75% complete for Geo_Pool_F_GGCTAC_L006_R2_001.fastq.gz\n",
      "Approx 80% complete for Geo_Pool_F_GGCTAC_L006_R2_001.fastq.gz\n",
      "Approx 85% complete for Geo_Pool_F_GGCTAC_L006_R2_001.fastq.gz\n",
      "Approx 90% complete for Geo_Pool_F_GGCTAC_L006_R2_001.fastq.gz\n",
      "Approx 95% complete for Geo_Pool_F_GGCTAC_L006_R2_001.fastq.gz\n",
      "Analysis complete for Geo_Pool_F_GGCTAC_L006_R2_001.fastq.gz\n"
     ]
    }
   ],
   "source": [
    "!/Applications/bioinfo/FastQC/fastqc \\\n",
    "Geo_Pool_F_GGCTAC_L006_R2_001.fastq.gz \\\n",
    "-o /Users/sr320/data-genomic/tentacle/"
   ]
  },
  {
   "cell_type": "code",
   "execution_count": 16,
   "metadata": {
    "collapsed": false
   },
   "outputs": [
    {
     "name": "stdout",
     "output_type": "stream",
     "text": [
      "/bin/sh: -o: command not found\n",
      "Started analysis of Geo_Pool_M_CTTGTA_L006_R1_001.fastq.gz\n",
      "Approx 5% complete for Geo_Pool_M_CTTGTA_L006_R1_001.fastq.gz\n",
      "Approx 10% complete for Geo_Pool_M_CTTGTA_L006_R1_001.fastq.gz\n",
      "Approx 15% complete for Geo_Pool_M_CTTGTA_L006_R1_001.fastq.gz\n",
      "Approx 20% complete for Geo_Pool_M_CTTGTA_L006_R1_001.fastq.gz\n",
      "Approx 25% complete for Geo_Pool_M_CTTGTA_L006_R1_001.fastq.gz\n",
      "Approx 30% complete for Geo_Pool_M_CTTGTA_L006_R1_001.fastq.gz\n",
      "Approx 35% complete for Geo_Pool_M_CTTGTA_L006_R1_001.fastq.gz\n",
      "Approx 40% complete for Geo_Pool_M_CTTGTA_L006_R1_001.fastq.gz\n",
      "Approx 45% complete for Geo_Pool_M_CTTGTA_L006_R1_001.fastq.gz\n",
      "Approx 50% complete for Geo_Pool_M_CTTGTA_L006_R1_001.fastq.gz\n",
      "Approx 55% complete for Geo_Pool_M_CTTGTA_L006_R1_001.fastq.gz\n",
      "Approx 60% complete for Geo_Pool_M_CTTGTA_L006_R1_001.fastq.gz\n",
      "Approx 65% complete for Geo_Pool_M_CTTGTA_L006_R1_001.fastq.gz\n",
      "Approx 70% complete for Geo_Pool_M_CTTGTA_L006_R1_001.fastq.gz\n",
      "Approx 75% complete for Geo_Pool_M_CTTGTA_L006_R1_001.fastq.gz\n",
      "Approx 80% complete for Geo_Pool_M_CTTGTA_L006_R1_001.fastq.gz\n",
      "Approx 85% complete for Geo_Pool_M_CTTGTA_L006_R1_001.fastq.gz\n",
      "Approx 90% complete for Geo_Pool_M_CTTGTA_L006_R1_001.fastq.gz\n",
      "Approx 95% complete for Geo_Pool_M_CTTGTA_L006_R1_001.fastq.gz\n"
     ]
    }
   ],
   "source": [
    "!/Applications/bioinfo/FastQC/fastqc \\\n",
    "Geo_Pool_M_CTTGTA_L006_R1_001.fastq.gz| \\\n",
    "-o /Users/sr320/data-genomic/tentacle/"
   ]
  },
  {
   "cell_type": "code",
   "execution_count": 17,
   "metadata": {
    "collapsed": false
   },
   "outputs": [
    {
     "name": "stdout",
     "output_type": "stream",
     "text": [
      "/bin/sh: -o: command not found\n",
      "Started analysis of Geo_Pool_M_CTTGTA_L006_R2_001.fastq.gz\n",
      "Approx 5% complete for Geo_Pool_M_CTTGTA_L006_R2_001.fastq.gz\n",
      "Approx 10% complete for Geo_Pool_M_CTTGTA_L006_R2_001.fastq.gz\n",
      "Approx 15% complete for Geo_Pool_M_CTTGTA_L006_R2_001.fastq.gz\n",
      "Approx 20% complete for Geo_Pool_M_CTTGTA_L006_R2_001.fastq.gz\n",
      "Approx 25% complete for Geo_Pool_M_CTTGTA_L006_R2_001.fastq.gz\n",
      "Approx 30% complete for Geo_Pool_M_CTTGTA_L006_R2_001.fastq.gz\n",
      "Approx 35% complete for Geo_Pool_M_CTTGTA_L006_R2_001.fastq.gz\n",
      "Approx 40% complete for Geo_Pool_M_CTTGTA_L006_R2_001.fastq.gz\n",
      "Approx 45% complete for Geo_Pool_M_CTTGTA_L006_R2_001.fastq.gz\n",
      "Approx 50% complete for Geo_Pool_M_CTTGTA_L006_R2_001.fastq.gz\n",
      "Approx 55% complete for Geo_Pool_M_CTTGTA_L006_R2_001.fastq.gz\n",
      "Approx 60% complete for Geo_Pool_M_CTTGTA_L006_R2_001.fastq.gz\n",
      "Approx 65% complete for Geo_Pool_M_CTTGTA_L006_R2_001.fastq.gz\n",
      "Approx 70% complete for Geo_Pool_M_CTTGTA_L006_R2_001.fastq.gz\n",
      "Approx 75% complete for Geo_Pool_M_CTTGTA_L006_R2_001.fastq.gz\n",
      "Approx 80% complete for Geo_Pool_M_CTTGTA_L006_R2_001.fastq.gz\n",
      "Approx 85% complete for Geo_Pool_M_CTTGTA_L006_R2_001.fastq.gz\n",
      "Approx 90% complete for Geo_Pool_M_CTTGTA_L006_R2_001.fastq.gz\n",
      "Approx 95% complete for Geo_Pool_M_CTTGTA_L006_R2_001.fastq.gz\n"
     ]
    }
   ],
   "source": [
    "!/Applications/bioinfo/FastQC/fastqc \\\n",
    "Geo_Pool_M_CTTGTA_L006_R2_001.fastq.gz| \\\n",
    "-o /Users/sr320/data-genomic/tentacle/"
   ]
  },
  {
   "cell_type": "code",
   "execution_count": null,
   "metadata": {
    "collapsed": false
   },
   "outputs": [
    {
     "name": "stdout",
     "output_type": "stream",
     "text": [
      "No quality encoding type selected. Assuming that the data provided uses Sanger encoded Phred scores (default)\n",
      "\n",
      "Path to Cutadapt set as: '/Users/sr320/.local/bin/cutadapt' (user defined)\n",
      "1.8.1\n",
      "Cutadapt seems to be working fine (tested command '/Users/sr320/.local/bin/cutadapt --version')\n",
      "\n",
      "\n",
      "AUTO-DETECTING ADAPTER TYPE\n",
      "===========================\n",
      "Attempting to auto-detect adapter type from the first 1 million sequences of the first file (>> /Users/sr320/data-genomic/tentacle/Geo_Pool_F_GGCTAC_L006_R1_001.fastq <<)\n",
      "\n",
      "Found perfect matches for the following adapter sequences:\n",
      "Adapter type\tCount\tSequence\tSequences analysed\tPercentage\n",
      "Illumina\t7031\tAGATCGGAAGAGC\t1000000\t0.70\n",
      "Nextera\t6\tCTGTCTCTTATA\t1000000\t0.00\n",
      "smallRNA\t3\tATGGAATTCTCG\t1000000\t0.00\n",
      "Using Illumina adapter for trimming (count: 7031). Second best hit was Nextera (count: 6)\n",
      "\n",
      "Writing report to 'Geo_Pool_F_GGCTAC_L006_R1_001.fastq_trimming_report.txt'\n",
      "\n",
      "SUMMARISING RUN PARAMETERS\n",
      "==========================\n",
      "Input filename: /Users/sr320/data-genomic/tentacle/Geo_Pool_F_GGCTAC_L006_R1_001.fastq\n",
      "Trimming mode: single-end\n",
      "Trim Galore version: 0.4.0\n",
      "Cutadapt version: 1.8.1\n",
      "Quality Phred score cutoff: 20\n",
      "Quality encoding type selected: ASCII+33\n",
      "Adapter sequence: 'AGATCGGAAGAGC' (Illumina TruSeq, Sanger iPCR; auto-detected)\n",
      "Maximum trimming error rate: 0.1 (default)\n",
      "Minimum required adapter overlap (stringency): 1 bp\n",
      "Minimum required sequence length before a sequence gets removed: 20 bp\n",
      "Running FastQC on the data once trimming has completed\n",
      "\n",
      "Writing final adapter and quality trimmed output to Geo_Pool_F_GGCTAC_L006_R1_001_trimmed.fq\n",
      "\n",
      "\n",
      "  >>> Now performing quality (cutoff 20) and adapter trimming in a single pass for the adapter sequence: 'AGATCGGAAGAGC' from file /Users/sr320/data-genomic/tentacle/Geo_Pool_F_GGCTAC_L006_R1_001.fastq <<< \n"
     ]
    }
   ],
   "source": [
    "!/Applications/bioinfo/trim_galore_zip/trim_galore \\\n",
    "--fastqc \\\n",
    "--path_to_cutadapt /Users/sr320/.local/bin/cutadapt \\\n",
    "/Users/sr320/data-genomic/tentacle/Geo_Pool_F_GGCTAC_L006_R1_001.fastq"
   ]
  },
  {
   "cell_type": "code",
   "execution_count": null,
   "metadata": {
    "collapsed": true
   },
   "outputs": [],
   "source": []
  }
 ],
 "metadata": {
  "kernelspec": {
   "display_name": "Python 2",
   "language": "python",
   "name": "python2"
  },
  "language_info": {
   "codemirror_mode": {
    "name": "ipython",
    "version": 2
   },
   "file_extension": ".py",
   "mimetype": "text/x-python",
   "name": "python",
   "nbconvert_exporter": "python",
   "pygments_lexer": "ipython2",
   "version": "2.7.10"
  }
 },
 "nbformat": 4,
 "nbformat_minor": 0
}
