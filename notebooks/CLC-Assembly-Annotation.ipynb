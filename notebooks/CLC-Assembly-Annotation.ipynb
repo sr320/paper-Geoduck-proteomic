{
 "cells": [
  {
   "cell_type": "markdown",
   "metadata": {},
   "source": [
    "Using trimmed paired end reads from trimgalore. "
   ]
  },
  {
   "cell_type": "markdown",
   "metadata": {},
   "source": [
    "```\n",
    "          Discard read names = Yes\n",
    "          Discard quality scores = No\n",
    "          Paired orientation = Paired reads (forward-reverse)\n",
    "          Minimum distance = 180\n",
    "          Maximum distance = 250\n",
    "          Original sequence resource = /Users/sr320/data-genomic/tentacle/Geo_Pool_F_GGCTAC_L006_R1_001_val_1.fq\n",
    "          Original sequence resource = /Users/sr320/data-genomic/tentacle/Geo_Pool_F_GGCTAC_L006_R2_001_val_2.fq\n",
    "          Quality score = NCBI/Sanger or Illumina Pipeline 1.8 and later\n",
    "          Remove failed reads = Yes\n",
    "          MiSeq de-multiplexing = No\n",
    "          \n",
    "          Discard read names = Yes\n",
    "          Discard quality scores = No\n",
    "          Paired orientation = Paired reads (forward-reverse)\n",
    "          Minimum distance = 180\n",
    "          Maximum distance = 250\n",
    "          Original sequence resource = /Users/sr320/data-genomic/tentacle/Geo_Pool_M_CTTGTA_L006_R1_001_val_1.fq\n",
    "          Original sequence resource = /Users/sr320/data-genomic/tentacle/Geo_Pool_M_CTTGTA_L006_R2_001_val_2.fq\n",
    "          Quality score = NCBI/Sanger or Illumina Pipeline 1.8 and later\n",
    "          Remove failed reads = Yes\n",
    "          MiSeq de-multiplexing = No\n",
    "            \n",
    "```            \n",
    "            \n",
    "        "
   ]
  },
  {
   "cell_type": "markdown",
   "metadata": {},
   "source": [
    "## Assembly Report\n",
    "\n",
    "<img src=\"http://eagle.fish.washington.edu/cnidarian/skitch/CLC_Genomics_Workbench_8_0_2_1B4C328E.png\" alt=\"CLC_Genomics_Workbench_8_0_2_1B4C328E.png\"/>"
   ]
  },
  {
   "cell_type": "markdown",
   "metadata": {},
   "source": [
    "<img src=\"http://eagle.fish.washington.edu/cnidarian/skitch/CLC_Genomics_Workbench_8_0_2_1B4C32BD.png\" alt=\"CLC_Genomics_Workbench_8_0_2_1B4C32BD.png\"/>"
   ]
  },
  {
   "cell_type": "code",
   "execution_count": 7,
   "metadata": {
    "collapsed": false
   },
   "outputs": [
    {
     "name": "stdout",
     "output_type": "stream",
     "text": [
      ">Geo_Pool_M_CTTGTA_L006_R1_001_val_1_(paired)_contig_1\r\n",
      "AGAGATATTAAGACTTTCACCATTCTACGTCAGCACTTGTTACCGGCTCCACTTTTATTA\r\n",
      "TTCCGGTGCGCTTGGTTCCCGCATGCTCATCGACGGTCGACTTTGGACTTTTGGTATTCG\r\n",
      "AAGCAGACGCAATTGTAACGGCCTTCTTGTGCCTCGTTGTCACCGTTTCTGTATTCGGTG\r\n",
      "TAACGTCTCTGACGATTACCCTTGTAGCAGACGGCAGCGGCGATACCGCTTCCTCGTCTT\r\n",
      "CAGACGACGTCTTACATCTGCATTGGCAAGCTGTGTCTTTTTTCATGAATTTCCAGAGCA\r\n",
      "TTATGCCGATAAAGACAGTGAGCACGATACCGGAAGTGATGACAGCGATAGCTAATACGG\r\n",
      "CATATTGTCCCAGACCACTCACCGTGCCCAGGATCTCGTCCGCAAGACTGCACCCCGCCA\r\n",
      "GTTCTTTACTTTCGTCTGCTCCATCCACGCAGTGACTGGCTCCATCACACTTCAGGGTGG\r\n",
      "CCGATACACACCTGTCTGTGTCACATTGAAACTCGGAATCTGAACATGAACCCTGGTGGA\r\n"
     ]
    }
   ],
   "source": [
    "!head ../data/P_generosa-transcriptome-v1.fa"
   ]
  },
  {
   "cell_type": "code",
   "execution_count": 11,
   "metadata": {
    "collapsed": false
   },
   "outputs": [],
   "source": [
    "!sed 's/Geo_Pool_M_CTTGTA_L006_R1_001_val_1_(paired)_/Pgenerosa-v1_/g' \\\n",
    "../data/P_generosa-transcriptome-v1.fa > ../data/Pgenerosa-transcriptome-v1.fa\n"
   ]
  },
  {
   "cell_type": "code",
   "execution_count": 12,
   "metadata": {
    "collapsed": false
   },
   "outputs": [
    {
     "name": "stdout",
     "output_type": "stream",
     "text": [
      ">Pgenerosa-v1_contig_1\r\n",
      "AGAGATATTAAGACTTTCACCATTCTACGTCAGCACTTGTTACCGGCTCCACTTTTATTA\r\n",
      "TTCCGGTGCGCTTGGTTCCCGCATGCTCATCGACGGTCGACTTTGGACTTTTGGTATTCG\r\n",
      "AAGCAGACGCAATTGTAACGGCCTTCTTGTGCCTCGTTGTCACCGTTTCTGTATTCGGTG\r\n",
      "TAACGTCTCTGACGATTACCCTTGTAGCAGACGGCAGCGGCGATACCGCTTCCTCGTCTT\r\n",
      "CAGACGACGTCTTACATCTGCATTGGCAAGCTGTGTCTTTTTTCATGAATTTCCAGAGCA\r\n",
      "TTATGCCGATAAAGACAGTGAGCACGATACCGGAAGTGATGACAGCGATAGCTAATACGG\r\n",
      "CATATTGTCCCAGACCACTCACCGTGCCCAGGATCTCGTCCGCAAGACTGCACCCCGCCA\r\n",
      "GTTCTTTACTTTCGTCTGCTCCATCCACGCAGTGACTGGCTCCATCACACTTCAGGGTGG\r\n",
      "CCGATACACACCTGTCTGTGTCACATTGAAACTCGGAATCTGAACATGAACCCTGGTGGA\r\n"
     ]
    }
   ],
   "source": [
    "!head ../data/Pgenerosa-transcriptome-v1.fa"
   ]
  },
  {
   "cell_type": "code",
   "execution_count": 15,
   "metadata": {
    "collapsed": false
   },
   "outputs": [
    {
     "name": "stdout",
     "output_type": "stream",
     "text": [
      "\n",
      "\n",
      "Building a new DB, current time: 07/07/2015 09:27:14\n",
      "New DB name:   /Users/sr320/data-genomic/blast/db/uniprot_sprot_r2015_07\n",
      "New DB title:  /Users/sr320/data-genomic/blast/db/uniprot_sprot_r2015_07.fasta\n",
      "Sequence type: Protein\n",
      "Keep Linkouts: T\n",
      "Keep MBits: T\n",
      "Maximum file size: 1000000000B\n",
      "Adding sequences from FASTA; added 548872 sequences in 17.4409 seconds.\n"
     ]
    }
   ],
   "source": [
    "!makeblastdb \\\n",
    "-in /Users/sr320/data-genomic/blast/db/uniprot_sprot_r2015_07.fasta \\\n",
    "-dbtype prot \\\n",
    "-out /Users/sr320/data-genomic/blast/db/uniprot_sprot_r2015_07"
   ]
  },
  {
   "cell_type": "code",
   "execution_count": 24,
   "metadata": {
    "collapsed": false
   },
   "outputs": [],
   "source": [
    "!/Applications/bioinfo/ncbi-blast-2.2.31/bin/blastx \\\n",
    "-query ../data/Pgenerosa-transcriptome-v1.fa \\\n",
    "-db /Users/sr320/data-genomic/blast/db/uniprot_sprot_r2015_07 \\\n",
    "-max_target_seqs 1 \\\n",
    "-max_hsps 1 \\\n",
    "-outfmt 6 \\\n",
    "-evalue 1E-05 \\\n",
    "-num_threads 4 \\\n",
    "-out ../analyses/Pgen_blastx_uniprot.tab \\\n",
    "2> ../analyses/Pgen_blastx_uniprot.error "
   ]
  },
  {
   "cell_type": "code",
   "execution_count": 25,
   "metadata": {
    "collapsed": false
   },
   "outputs": [
    {
     "name": "stdout",
     "output_type": "stream",
     "text": [
      "Pgenerosa-v1_contig_33869\tsp|Q655S1|FTSH2_ORYSJ\t69.44\t108\t33\t0\t3\t326\t542\t649\t2e-44\t158\r\n",
      "Pgenerosa-v1_contig_33872\tsp|Q44879|CTPA_BARBK\t36.17\t235\t109\t8\t22\t624\t170\t397\t1e-33\t129\r\n",
      "Pgenerosa-v1_contig_33873\tsp|Q9JZP1|UVRA_NEIMB\t57.01\t107\t38\t2\t440\t132\t175\t277\t1e-31\t124\r\n",
      "Pgenerosa-v1_contig_33874\tsp|Q61830|MRC1_MOUSE\t26.73\t202\t132\t7\t637\t38\t391\t578\t3e-09\t59.7\r\n",
      "Pgenerosa-v1_contig_33876\tsp|A1W7D2|TRMB_ACISJ\t100.00\t46\t0\t0\t432\t295\t204\t249\t2e-24\t99.4\r\n",
      "Pgenerosa-v1_contig_33880\tsp|P27103|YTCB_PSESQ\t52.63\t57\t27\t0\t273\t443\t38\t94\t1e-12\t67.4\r\n",
      "Pgenerosa-v1_contig_33882\tsp|P62587|KPSE_ECOL6\t41.76\t91\t53\t0\t201\t473\t32\t122\t2e-15\t76.3\r\n",
      "Pgenerosa-v1_contig_33883\tsp|Q6A7F1|CLPX_PROAC\t100.00\t88\t0\t0\t265\t2\t1\t88\t2e-34\t129\r\n",
      "Pgenerosa-v1_contig_33884\tsp|P95231|CYSE_MYCTU\t61.84\t76\t29\t0\t2\t229\t92\t167\t6e-22\t92.0\r\n",
      "Pgenerosa-v1_contig_33886\tsp|Q45011|BMPB_BORBU\t32.54\t126\t68\t2\t22\t396\t129\t238\t9e-12\t65.1\r\n"
     ]
    }
   ],
   "source": [
    "!tail ../analyses/Pgen_blastx_uniprot.tab"
   ]
  },
  {
   "cell_type": "code",
   "execution_count": 26,
   "metadata": {
    "collapsed": true
   },
   "outputs": [],
   "source": [
    "!head ../analyses/Pgen_blastx_uniprot.error "
   ]
  },
  {
   "cell_type": "code",
   "execution_count": 27,
   "metadata": {
    "collapsed": false
   },
   "outputs": [
    {
     "name": "stdout",
     "output_type": "stream",
     "text": [
      "Pgenerosa-v1_contig_1\tsp\tP98074\tENTK_PIG\t39.13\t69\t38\t2\t622\t428\t622\t690\t1e-06\t53.1\r\n"
     ]
    }
   ],
   "source": [
    "!tr '|' \"\\t\" <../analyses/Pgen_blastx_uniprot.tab> ../analyses/Pgen_blastx_uniprot_sql.tab\n",
    "!head -1 ../analyses/Pgen_blastx_uniprot_sql.tab"
   ]
  },
  {
   "cell_type": "code",
   "execution_count": 29,
   "metadata": {
    "collapsed": false
   },
   "outputs": [
    {
     "name": "stdout",
     "output_type": "stream",
     "text": [
      "processing chunk line 0 to 11586 (0.00252389907837 s elapsed)\n",
      "pushing ../analyses/Pgen_blastx_uniprot_sql.tab...\n",
      "parsing 2D3E5859...\n",
      "finished Pgen_blastx_uniprot_sql.tab\n",
      "upload timestamp...\n",
      "Wed Jul  8 06:47:39 PDT 2015\n"
     ]
    }
   ],
   "source": [
    "!python /Applications/bioinfo/sqlshare-pythonclient/tools/singleupload.py \\\n",
    "../analyses/Pgen_blastx_uniprot_sql.tab\n",
    "!echo upload timestamp...\n",
    "!date"
   ]
  },
  {
   "cell_type": "code",
   "execution_count": 30,
   "metadata": {
    "collapsed": true
   },
   "outputs": [],
   "source": [
    "!python /Applications/bioinfo/sqlshare-pythonclient/tools/fetchdata.py \\\n",
    "-s \"SELECT * FROM [sr320@washington.edu].[Pgen_blastx_uniprot_sql.tab]phel left join [sr320@washington.edu].[uniprot-reviewed_wGO_010714]des on phel.Column3=des.Entry\" \\\n",
    "-f tsv \\\n",
    "-o ../analyses/Pgen_uniprot_info.tab"
   ]
  },
  {
   "cell_type": "code",
   "execution_count": 32,
   "metadata": {
    "collapsed": false
   },
   "outputs": [
    {
     "name": "stdout",
     "output_type": "stream",
     "text": [
      "Column1\tColumn2\tColumn3\tColumn4\tColumn5\tColumn6\tColumn7\tColumn8\tColumn9\tColumn10\tColumn11\tColumn12\tColumn13\tColumn14\tEntry\tEntry name\tGene ontology IDs\tInteracts with\tCross-reference (GO)\tGene ontology (GO)\tStatus\tInterPro\tPathway\tProtein names\tGene names\tOrganism\tLength\r",
      "\r\n",
      "Pgenerosa-v1_contig_1\tsp\tP98074\tENTK_PIG\t39.13\t69\t38\t2\t622\t428\t622\t690\t1E-06\t53.1\tP98074\tENTK_PIG\tGO:0016021; GO:0006508; GO:0005044; GO:0004252\t\t\tintegral to membrane; proteolysis; scavenger receptor activity; serine-type endopeptidase activity\treviewed\tIPR008985; IPR000859; IPR023415; IPR002172; IPR000998; IPR011163; IPR001254; IPR018114; IPR001314; IPR000082; IPR001190; IPR017448; IPR009003;\t\tEnteropeptidase (EC 3.4.21.9) (Enterokinase) (Serine protease 7) (Transmembrane protease serine 15) [Cleaved into: Enteropeptidase non-catalytic mini chain; Enteropeptidase non-catalytic heavy chain; Enteropeptidase catalytic light chain]\tTMPRSS15 ENTK PRSS7\tSus scrofa (Pig)\t1034\r",
      "\r\n",
      "Pgenerosa-v1_contig_10000\tsp\tP63100\tCANB1_RAT\t90.22\t92\t9\t0\t2\t277\t67\t158\t1E-46\t169\tP63100\tCANB1_RAT\tGO:0005509; GO:0005829; GO:0004721; GO:0006470\t\t\tcalcium ion binding; cytosol; phosphoprotein phosphatase activity; protein dephosphorylation\treviewed\tIPR011992; IPR018247; IPR002048;\t\tCalcineurin subunit B type 1 (Protein phosphatase 2B regulatory subunit 1) (Protein phosphatase 3 regulatory subunit B alpha isoform 1)\tPpp3r1 Cna2 Cnb\tRattus norvegicus (Rat)\t170\r",
      "\r\n",
      "Pgenerosa-v1_contig_10001\tsp\tO83041\tPIP_LEPBY\t59.06\t127\t52\t0\t19\t399\t132\t258\t1E-45\t163\tO83041\tPIP_LEPBY\tGO:0004177; GO:0005737; GO:0006508\t\t\taminopeptidase activity; cytoplasm; proteolysis\treviewed\tIPR000073; IPR002410; IPR005944;\t\tProbable proline iminopeptidase (PIP) (EC 3.4.11.5) (Prolyl aminopeptidase) (PAP)\tpip\tLeptolyngbya boryana (Plectonema boryanum)\t321\r",
      "\r\n",
      "Pgenerosa-v1_contig_10006\tsp\tQ9NBX4\tRTXE_DROME\t32.74\t281\t177\t6\t825\t1\t488\t762\t1E-37\t146\tQ9NBX4\tRTXE_DROME\tGO:0003723; GO:0006278; GO:0003964; GO:0006313\t\t\tRNA binding; RNA-dependent DNA replication; RNA-directed DNA polymerase activity; transposition, DNA-mediated\treviewed\tIPR005135; IPR000477;\t\tProbable RNA-directed DNA polymerase from transposon X-element (EC 2.7.7.49) (Reverse transcriptase)\tX-element\\ORF2 ORF2\tDrosophila melanogaster (Fruit fly)\t908\r",
      "\r\n"
     ]
    }
   ],
   "source": [
    "!head -5 ../analyses/Pgen_uniprot_info.tab"
   ]
  },
  {
   "cell_type": "code",
   "execution_count": 33,
   "metadata": {
    "collapsed": true
   },
   "outputs": [],
   "source": [
    "!awk -F\\t '{print $1, $3, $24, $13, $26}' ../analyses/Pgen_uniprot_info.tab | tail -n +2 > \\\n",
    "../analyses/Pgen_uniprot_ID.tab"
   ]
  },
  {
   "cell_type": "code",
   "execution_count": 34,
   "metadata": {
    "collapsed": false
   },
   "outputs": [
    {
     "name": "stdout",
     "output_type": "stream",
     "text": [
      "Pgenerosa-v1_contig_1 P98074 Enteropeptidase (EC 3.4.21.9) (Enterokinase) (Serine protease 7) (Transmembrane protease serine 15) [Cleaved into: Enteropeptidase non-catalytic mini chain; Enteropeptidase non-catalytic heavy chain; Enteropeptidase catalytic light chain] 1E-06 Sus scrofa (Pig)\r\n",
      "Pgenerosa-v1_contig_10000 P63100 Calcineurin subunit B type 1 (Protein phosphatase 2B regulatory subunit 1) (Protein phosphatase 3 regulatory subunit B alpha isoform 1) 1E-46 Rattus norvegicus (Rat)\r\n",
      "Pgenerosa-v1_contig_10001 O83041 Probable proline iminopeptidase (PIP) (EC 3.4.11.5) (Prolyl aminopeptidase) (PAP) 1E-45 Leptolyngbya boryana (Plectonema boryanum)\r\n",
      "Pgenerosa-v1_contig_10006 Q9NBX4 Probable RNA-directed DNA polymerase from transposon X-element (EC 2.7.7.49) (Reverse transcriptase) 1E-37 Drosophila melanogaster (Fruit fly)\r\n",
      "Pgenerosa-v1_contig_10012 Q6PF15 Kelch-like protein 35 1E-11 Homo sapiens (Human)\r\n",
      "Pgenerosa-v1_contig_10016 Q96Q05 Trafficking protein particle complex subunit 9 (NIK- and IKBKB-binding protein) (Tularik gene 1 protein) 3E-49 Homo sapiens (Human)\r\n",
      "Pgenerosa-v1_contig_10021 Q60974 Nuclear receptor corepressor 1 (N-CoR) (N-CoR1) (Retinoid X receptor-interacting protein 13) (RIP13) 1E-63 Mus musculus (Mouse)\r\n",
      "Pgenerosa-v1_contig_10027 P09215 Protein kinase C delta type (EC 2.7.11.13) (nPKC-delta) [Cleaved into: Protein kinase C delta type regulatory subunit; Protein kinase C delta type catalytic subunit (Sphingosine-dependent protein kinase-1) (SDK1)] 1E-77 Rattus norvegicus (Rat)\r\n",
      "Pgenerosa-v1_contig_10028 P22129 Ras-related protein Rab-11B (ORA3) 1E-71 Diplobatis ommata (Ocellated electric ray) (Discopyge ommata)\r\n",
      "Pgenerosa-v1_contig_10029 B5X2B8 GTPase Era, mitochondrial (ERA-like protein 1) 3E-22 Salmo salar (Atlantic salmon)\r\n"
     ]
    }
   ],
   "source": [
    "!head ../analyses/Pgen_uniprot_ID.tab"
   ]
  },
  {
   "cell_type": "code",
   "execution_count": null,
   "metadata": {
    "collapsed": true
   },
   "outputs": [],
   "source": []
  }
 ],
 "metadata": {
  "kernelspec": {
   "display_name": "Python 2",
   "language": "python",
   "name": "python2"
  },
  "language_info": {
   "codemirror_mode": {
    "name": "ipython",
    "version": 2
   },
   "file_extension": ".py",
   "mimetype": "text/x-python",
   "name": "python",
   "nbconvert_exporter": "python",
   "pygments_lexer": "ipython2",
   "version": "2.7.10"
  }
 },
 "nbformat": 4,
 "nbformat_minor": 0
}
