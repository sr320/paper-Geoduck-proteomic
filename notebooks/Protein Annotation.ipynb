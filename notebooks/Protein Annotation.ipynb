{
 "cells": [
  {
   "cell_type": "code",
   "execution_count": 1,
   "metadata": {
    "collapsed": false
   },
   "outputs": [
    {
     "name": "stdout",
     "output_type": "stream",
     "text": [
      ">cds.comp100047_c0_seq2|m.5982 comp100047_c0_seq2|g.5982  ORF comp100047_c0_seq2|g.5982 comp100047_c0_seq2|m.5982 type:internal len:142 (-) comp100047_c0_seq2:3-425(-)\r\n",
      "NAECRDLYKIFTQILSVRSQEGKIVIPDEFATKIRNWLGNKEELFKEAHNQKIITFYNEY\r\n",
      "TREENTFNPIRGKRPMSVPDMPERKYIDQLSRKTQSQCDFCKYKTFTAEDTFGRIDSNFS\r\n",
      "CSASNAFKLDHWHALFLLKTH\r\n",
      ">cds.comp100068_c0_seq1|m.5983 comp100068_c0_seq1|g.5983  ORF comp100068_c0_seq1|g.5983 comp100068_c0_seq1|m.5983 type:internal len:106 (-) comp100068_c0_seq1:1-315(-)\r\n",
      "LFLDKSGKRICSFNNLTAVIEKATERASRIRLAKGLSQPKYLSCGNVDKVPAPGYLTASF\r\n",
      "TQLSVNKTRKDKGRNHLLLWDQTSSYSYIGPGIHYKDGKIRVNTT\r\n",
      ">cds.comp100097_c2_seq1|m.5984 comp100097_c2_seq1|g.5984  ORF comp100097_c2_seq1|g.5984 comp100097_c2_seq1|m.5984 type:internal len:227 (+) comp100097_c2_seq1:2-679(+)\r\n",
      "GTENLRICLKVIETYLLLGPREFLELYSGDLVHSLSNLLSDLRTEGVLLVLRVIELVLKS\r\n",
      "FPTEGPALFKSMLPEFLRAVLNKDEHPVVMSLYLTLFGRIVLQNQEFFWNFLDQMAMESH\r\n"
     ]
    }
   ],
   "source": [
    "!head ../Supplemental-files/S1-Pgenerosa-gonad-protein.fa"
   ]
  },
  {
   "cell_type": "code",
   "execution_count": 16,
   "metadata": {
    "collapsed": false
   },
   "outputs": [
    {
     "data": {
      "text/plain": [
       "u'/Users/sr320/git-repos/paper-Geoduck-proteomic/notebooks'"
      ]
     },
     "execution_count": 16,
     "metadata": {},
     "output_type": "execute_result"
    }
   ],
   "source": [
    "pwd"
   ]
  },
  {
   "cell_type": "code",
   "execution_count": 20,
   "metadata": {
    "collapsed": false
   },
   "outputs": [
    {
     "name": "stdout",
     "output_type": "stream",
     "text": [
      "/Users/sr320/git-repos/paper-Geoduck-proteomic/analyses\n"
     ]
    }
   ],
   "source": [
    "cd ../analyses"
   ]
  },
  {
   "cell_type": "code",
   "execution_count": 21,
   "metadata": {
    "collapsed": false
   },
   "outputs": [
    {
     "data": {
      "text/plain": [
       "u'/Users/sr320/git-repos/paper-Geoduck-proteomic/analyses'"
      ]
     },
     "execution_count": 21,
     "metadata": {},
     "output_type": "execute_result"
    }
   ],
   "source": [
    "pwd"
   ]
  },
  {
   "cell_type": "code",
   "execution_count": 22,
   "metadata": {
    "collapsed": false
   },
   "outputs": [
    {
     "name": "stdout",
     "output_type": "stream",
     "text": [
      "query.fa: 36003 sequences, 11788989 bp => dividing into 10 parts .......... OK\n",
      "All done, 0 seconds elapsed\n"
     ]
    }
   ],
   "source": [
    "\n",
    "!/Users/sr320/git-repos/paper-Geoduck-proteomic/notebooks/script-box/fasta-splitter.pl \\\n",
    "--n-parts 10 \\\n",
    "query.fa \n"
   ]
  },
  {
   "cell_type": "code",
   "execution_count": null,
   "metadata": {
    "collapsed": true
   },
   "outputs": [],
   "source": [
    "%%bash\n",
    "for f in query.part*\n",
    "do\n",
    "blastp \\\n",
    "-query $f \\\n",
    "-db /usr/local/bioinformatics/dbs/uniprot_sprot.fasta \\\n",
    "-evalue 1e-5 \\\n",
    "-max_target_seqs 1 \\\n",
    "-max_hsps 1 \\\n",
    "-outfmt 6 \\\n",
    "-num_threads 6 \\\n",
    "-out blastout_\"$f\"_sp \\\n",
    "2> error-blastout_\"$f\"_sp\n",
    "done"
   ]
  }
 ],
 "metadata": {
  "kernelspec": {
   "display_name": "Python 2",
   "language": "python",
   "name": "python2"
  },
  "language_info": {
   "codemirror_mode": {
    "name": "ipython",
    "version": 2
   },
   "file_extension": ".py",
   "mimetype": "text/x-python",
   "name": "python",
   "nbconvert_exporter": "python",
   "pygments_lexer": "ipython2",
   "version": "2.7.11"
  }
 },
 "nbformat": 4,
 "nbformat_minor": 0
}
