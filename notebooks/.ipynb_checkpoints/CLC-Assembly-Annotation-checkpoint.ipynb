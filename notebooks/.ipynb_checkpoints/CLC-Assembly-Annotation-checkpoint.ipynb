{
 "cells": [
  {
   "cell_type": "markdown",
   "metadata": {},
   "source": [
    "Using trimmed paired end reads from trimgalore. "
   ]
  },
  {
   "cell_type": "markdown",
   "metadata": {},
   "source": [
    "```\n",
    "          Discard read names = Yes\n",
    "          Discard quality scores = No\n",
    "          Paired orientation = Paired reads (forward-reverse)\n",
    "          Minimum distance = 180\n",
    "          Maximum distance = 250\n",
    "          Original sequence resource = /Users/sr320/data-genomic/tentacle/Geo_Pool_F_GGCTAC_L006_R1_001_val_1.fq\n",
    "          Original sequence resource = /Users/sr320/data-genomic/tentacle/Geo_Pool_F_GGCTAC_L006_R2_001_val_2.fq\n",
    "          Quality score = NCBI/Sanger or Illumina Pipeline 1.8 and later\n",
    "          Remove failed reads = Yes\n",
    "          MiSeq de-multiplexing = No\n",
    "          \n",
    "          Discard read names = Yes\n",
    "          Discard quality scores = No\n",
    "          Paired orientation = Paired reads (forward-reverse)\n",
    "          Minimum distance = 180\n",
    "          Maximum distance = 250\n",
    "          Original sequence resource = /Users/sr320/data-genomic/tentacle/Geo_Pool_M_CTTGTA_L006_R1_001_val_1.fq\n",
    "          Original sequence resource = /Users/sr320/data-genomic/tentacle/Geo_Pool_M_CTTGTA_L006_R2_001_val_2.fq\n",
    "          Quality score = NCBI/Sanger or Illumina Pipeline 1.8 and later\n",
    "          Remove failed reads = Yes\n",
    "          MiSeq de-multiplexing = No\n",
    "            \n",
    "```            \n",
    "            \n",
    "        "
   ]
  },
  {
   "cell_type": "markdown",
   "metadata": {},
   "source": [
    "## Assembly Report\n",
    "\n",
    "<img src=\"http://eagle.fish.washington.edu/cnidarian/skitch/CLC_Genomics_Workbench_8_0_2_1B4C328E.png\" alt=\"CLC_Genomics_Workbench_8_0_2_1B4C328E.png\"/>"
   ]
  },
  {
   "cell_type": "markdown",
   "metadata": {},
   "source": [
    "<img src=\"http://eagle.fish.washington.edu/cnidarian/skitch/CLC_Genomics_Workbench_8_0_2_1B4C32BD.png\" alt=\"CLC_Genomics_Workbench_8_0_2_1B4C32BD.png\"/>"
   ]
  },
  {
   "cell_type": "code",
   "execution_count": 7,
   "metadata": {
    "collapsed": false
   },
   "outputs": [
    {
     "name": "stdout",
     "output_type": "stream",
     "text": [
      ">Geo_Pool_M_CTTGTA_L006_R1_001_val_1_(paired)_contig_1\r\n",
      "AGAGATATTAAGACTTTCACCATTCTACGTCAGCACTTGTTACCGGCTCCACTTTTATTA\r\n",
      "TTCCGGTGCGCTTGGTTCCCGCATGCTCATCGACGGTCGACTTTGGACTTTTGGTATTCG\r\n",
      "AAGCAGACGCAATTGTAACGGCCTTCTTGTGCCTCGTTGTCACCGTTTCTGTATTCGGTG\r\n",
      "TAACGTCTCTGACGATTACCCTTGTAGCAGACGGCAGCGGCGATACCGCTTCCTCGTCTT\r\n",
      "CAGACGACGTCTTACATCTGCATTGGCAAGCTGTGTCTTTTTTCATGAATTTCCAGAGCA\r\n",
      "TTATGCCGATAAAGACAGTGAGCACGATACCGGAAGTGATGACAGCGATAGCTAATACGG\r\n",
      "CATATTGTCCCAGACCACTCACCGTGCCCAGGATCTCGTCCGCAAGACTGCACCCCGCCA\r\n",
      "GTTCTTTACTTTCGTCTGCTCCATCCACGCAGTGACTGGCTCCATCACACTTCAGGGTGG\r\n",
      "CCGATACACACCTGTCTGTGTCACATTGAAACTCGGAATCTGAACATGAACCCTGGTGGA\r\n"
     ]
    }
   ],
   "source": [
    "!head ../data/P_generosa-transcriptome-v1.fa"
   ]
  },
  {
   "cell_type": "code",
   "execution_count": 11,
   "metadata": {
    "collapsed": false
   },
   "outputs": [],
   "source": [
    "!sed 's/Geo_Pool_M_CTTGTA_L006_R1_001_val_1_(paired)_/Pgenerosa-v1_/g' \\\n",
    "../data/P_generosa-transcriptome-v1.fa > ../data/Pgenerosa-transcriptome-v1.fa\n"
   ]
  },
  {
   "cell_type": "code",
   "execution_count": 12,
   "metadata": {
    "collapsed": false
   },
   "outputs": [
    {
     "name": "stdout",
     "output_type": "stream",
     "text": [
      ">Pgenerosa-v1_contig_1\r\n",
      "AGAGATATTAAGACTTTCACCATTCTACGTCAGCACTTGTTACCGGCTCCACTTTTATTA\r\n",
      "TTCCGGTGCGCTTGGTTCCCGCATGCTCATCGACGGTCGACTTTGGACTTTTGGTATTCG\r\n",
      "AAGCAGACGCAATTGTAACGGCCTTCTTGTGCCTCGTTGTCACCGTTTCTGTATTCGGTG\r\n",
      "TAACGTCTCTGACGATTACCCTTGTAGCAGACGGCAGCGGCGATACCGCTTCCTCGTCTT\r\n",
      "CAGACGACGTCTTACATCTGCATTGGCAAGCTGTGTCTTTTTTCATGAATTTCCAGAGCA\r\n",
      "TTATGCCGATAAAGACAGTGAGCACGATACCGGAAGTGATGACAGCGATAGCTAATACGG\r\n",
      "CATATTGTCCCAGACCACTCACCGTGCCCAGGATCTCGTCCGCAAGACTGCACCCCGCCA\r\n",
      "GTTCTTTACTTTCGTCTGCTCCATCCACGCAGTGACTGGCTCCATCACACTTCAGGGTGG\r\n",
      "CCGATACACACCTGTCTGTGTCACATTGAAACTCGGAATCTGAACATGAACCCTGGTGGA\r\n"
     ]
    }
   ],
   "source": [
    "!head ../data/Pgenerosa-transcriptome-v1.fa"
   ]
  },
  {
   "cell_type": "code",
   "execution_count": 15,
   "metadata": {
    "collapsed": false
   },
   "outputs": [
    {
     "name": "stdout",
     "output_type": "stream",
     "text": [
      "\n",
      "\n",
      "Building a new DB, current time: 07/07/2015 09:27:14\n",
      "New DB name:   /Users/sr320/data-genomic/blast/db/uniprot_sprot_r2015_07\n",
      "New DB title:  /Users/sr320/data-genomic/blast/db/uniprot_sprot_r2015_07.fasta\n",
      "Sequence type: Protein\n",
      "Keep Linkouts: T\n",
      "Keep MBits: T\n",
      "Maximum file size: 1000000000B\n",
      "Adding sequences from FASTA; added 548872 sequences in 17.4409 seconds.\n"
     ]
    }
   ],
   "source": [
    "!makeblastdb \\\n",
    "-in /Users/sr320/data-genomic/blast/db/uniprot_sprot_r2015_07.fasta \\\n",
    "-dbtype prot \\\n",
    "-out /Users/sr320/data-genomic/blast/db/uniprot_sprot_r2015_07"
   ]
  },
  {
   "cell_type": "code",
   "execution_count": null,
   "metadata": {
    "collapsed": false
   },
   "outputs": [],
   "source": [
    "!/Applications/bioinfo/ncbi-blast-2.2.31/bin/blastx \\\n",
    "-query ../data/Pgenerosa-transcriptome-v1.fa \\\n",
    "-db /Users/sr320/data-genomic/blast/db/uniprot_sprot_r2015_07 \\\n",
    "-max_target_seqs 1 \\\n",
    "-max_hsps 1 \\\n",
    "-outfmt 6 \\\n",
    "-evalue 1E-05 \\\n",
    "-num_threads 4 \\\n",
    "-out ../analyses/Pgen_blastx_uniprot.tab \\\n",
    "2> ../analyses/Pgen_blastx_uniprot.error "
   ]
  },
  {
   "cell_type": "code",
   "execution_count": null,
   "metadata": {
    "collapsed": true
   },
   "outputs": [],
   "source": []
  }
 ],
 "metadata": {
  "kernelspec": {
   "display_name": "Python 2",
   "language": "python",
   "name": "python2"
  },
  "language_info": {
   "codemirror_mode": {
    "name": "ipython",
    "version": 2
   },
   "file_extension": ".py",
   "mimetype": "text/x-python",
   "name": "python",
   "nbconvert_exporter": "python",
   "pygments_lexer": "ipython2",
   "version": "2.7.10"
  }
 },
 "nbformat": 4,
 "nbformat_minor": 0
}
