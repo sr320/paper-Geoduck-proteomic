{
 "cells": [
  {
   "cell_type": "markdown",
   "metadata": {},
   "source": [
    "# Removing non-Euk sequences"
   ]
  },
  {
   "cell_type": "code",
   "execution_count": 1,
   "metadata": {
    "collapsed": true
   },
   "outputs": [],
   "source": [
    "#Will base on transcriptome comparison with nt database"
   ]
  },
  {
   "cell_type": "code",
   "execution_count": 2,
   "metadata": {
    "collapsed": false
   },
   "outputs": [
    {
     "name": "stdout",
     "output_type": "stream",
     "text": [
      "comp100710_c0_seq1 Bacteria 1e-108\r\n",
      "comp101011_c0_seq1 Bacteria 2e-67\r\n",
      "comp101670_c0_seq1 Bacteria 4e-79\r\n",
      "comp101927_c3_seq1 N/A 1e-26\r\n",
      "comp102287_c0_seq1 Bacteria 6e-27\r\n",
      "comp102799_c0_seq1 Bacteria 4e-114\r\n",
      "comp103084_c0_seq1 Bacteria 6e-56\r\n",
      "comp103338_c0_seq1 Bacteria 3e-85\r\n",
      "comp103338_c1_seq1 Bacteria 1e-109\r\n",
      "comp103338_c2_seq1 Bacteria 9e-25\r\n"
     ]
    }
   ],
   "source": [
    "!head /Users/sr320/git-repos/paper-pano-go/jupyter-nbs/analyses/Non-Eukaryota-Geoduck-v2.sorted"
   ]
  },
  {
   "cell_type": "code",
   "execution_count": 3,
   "metadata": {
    "collapsed": false
   },
   "outputs": [
    {
     "name": "stdout",
     "output_type": "stream",
     "text": [
      "     425 /Users/sr320/git-repos/paper-pano-go/jupyter-nbs/analyses/Non-Eukaryota-Geoduck-v2.sorted\r\n"
     ]
    }
   ],
   "source": [
    "!wc -l /Users/sr320/git-repos/paper-pano-go/jupyter-nbs/analyses/Non-Eukaryota-Geoduck-v2.sorted"
   ]
  },
  {
   "cell_type": "code",
   "execution_count": 18,
   "metadata": {
    "collapsed": false
   },
   "outputs": [
    {
     "name": "stdout",
     "output_type": "stream",
     "text": [
      ">cds.comp100047_c0_seq2|m.5982 comp100047_c0_seq2|g.5982  ORF comp100047_c0_seq2|g.5982 comp100047_c0_seq2|m.5982 type:internal len:142 (-) comp100047_c0_seq2:3-425(-)\r\n"
     ]
    }
   ],
   "source": [
    "!head -1 ../Supplemental-files/S1-Pgenerosa-gonad-protein.fa"
   ]
  },
  {
   "cell_type": "code",
   "execution_count": 6,
   "metadata": {
    "collapsed": false
   },
   "outputs": [
    {
     "name": "stdout",
     "output_type": "stream",
     "text": [
      "\r\n",
      "Converted 36003 FASTA records in 249520 lines to tabular format\r\n",
      "Total sequence length: 11788989\r\n",
      "\r\n"
     ]
    }
   ],
   "source": [
    "!perl -e '$count=0; $len=0; while(<>) {s/\\r?\\n//; s/\\t/ /g; if (s/^>//) { if ($. != 1) {print \"\\n\"} s/ |$/\\t/; $count++; $_ .= \"\\t\";} else {s/ //g; $len += length($_)} print $_;} print \"\\n\"; warn \"\\nConverted $count FASTA records in $. lines to tabular format\\nTotal sequence length: $len\\n\\n\";' \\\n",
    "../Supplemental-files/S1-Pgenerosa-gonad-protein.fa > ../Supplemental-files/S1-Pgenerosa-gonad-protein.tab\n"
   ]
  },
  {
   "cell_type": "code",
   "execution_count": 8,
   "metadata": {
    "collapsed": false
   },
   "outputs": [
    {
     "name": "stdout",
     "output_type": "stream",
     "text": [
      "cds.comp100047_c0_seq2|m.5982\tcomp100047_c0_seq2|g.5982  ORF comp100047_c0_seq2|g.5982 comp100047_c0_seq2|m.5982 type:internal len:142 (-) comp100047_c0_seq2:3-425(-)\tNAECRDLYKIFTQILSVRSQEGKIVIPDEFATKIRNWLGNKEELFKEAHNQKIITFYNEYTREENTFNPIRGKRPMSVPDMPERKYIDQLSRKTQSQCDFCKYKTFTAEDTFGRIDSNFSCSASNAFKLDHWHALFLLKTH\r\n"
     ]
    }
   ],
   "source": [
    "!head -1 ../Supplemental-files/S1-Pgenerosa-gonad-protein.tab"
   ]
  },
  {
   "cell_type": "code",
   "execution_count": 20,
   "metadata": {
    "collapsed": true
   },
   "outputs": [],
   "source": [
    "!tr '|' \"\\t\" <../Supplemental-files/S1-Pgenerosa-gonad-protein.tab> /Users/sr320/git-repos/paper-pano-go/jupyter-nbs/analyses/S1-Pgenerosa-gonad-protein.cleantab"
   ]
  },
  {
   "cell_type": "code",
   "execution_count": 29,
   "metadata": {
    "collapsed": false
   },
   "outputs": [
    {
     "name": "stdout",
     "output_type": "stream",
     "text": [
      "cds.comp100047_c0_seq2\tm.5982\tcomp100047_c0_seq2\tg.5982  ORF comp100047_c0_seq2\tg.5982 comp100047_c0_seq2\tm.5982 type:internal len:142 (-) comp100047_c0_seq2:3-425(-)\tNAECRDLYKIFTQILSVRSQEGKIVIPDEFATKIRNWLGNKEELFKEAHNQKIITFYNEYTREENTFNPIRGKRPMSVPDMPERKYIDQLSRKTQSQCDFCKYKTFTAEDTFGRIDSNFSCSASNAFKLDHWHALFLLKTH\r\n"
     ]
    }
   ],
   "source": [
    "!head -1 /Users/sr320/git-repos/paper-pano-go/jupyter-nbs/analyses/S1-Pgenerosa-gonad-protein.cleantab"
   ]
  },
  {
   "cell_type": "code",
   "execution_count": 23,
   "metadata": {
    "collapsed": false
   },
   "outputs": [],
   "source": [
    "!sort /Users/sr320/git-repos/paper-pano-go/jupyter-nbs/analyses/S1-Pgenerosa-gonad-protein.cleantab \\\n",
    "> /Users/sr320/git-repos/paper-pano-go/jupyter-nbs/analyses/S1-Pgenerosa-gonad-protein.cleantab.sorted"
   ]
  },
  {
   "cell_type": "code",
   "execution_count": 68,
   "metadata": {
    "collapsed": false
   },
   "outputs": [],
   "source": [
    "!cat /Users/sr320/git-repos/paper-pano-go/jupyter-nbs/analyses/Non-Eukaryota-Geoduck-v2.sorted | sed 's/comp/cds.comp/g' \\\n",
    "> /Users/sr320/git-repos/paper-pano-go/jupyter-nbs/analyses/Non-Eukaryota-Geoduck-v2.sorted.joiner"
   ]
  },
  {
   "cell_type": "code",
   "execution_count": 71,
   "metadata": {
    "collapsed": false
   },
   "outputs": [],
   "source": [
    "!awk '{ print $1 }' /Users/sr320/git-repos/paper-pano-go/jupyter-nbs/analyses/Non-Eukaryota-Geoduck-v2.sorted.joiner \\\n",
    "> /Users/sr320/git-repos/paper-pano-go/jupyter-nbs/analyses/Non-Eukaryota"
   ]
  },
  {
   "cell_type": "code",
   "execution_count": 32,
   "metadata": {
    "collapsed": false
   },
   "outputs": [
    {
     "name": "stdout",
     "output_type": "stream",
     "text": [
      "cds.comp100047_c0_seq2\tm.5982\tcomp100047_c0_seq2\tg.5982  ORF comp100047_c0_seq2\tg.5982 comp100047_c0_seq2\tm.5982 type:internal len:142 (-) comp100047_c0_seq2:3-425(-)\tNAECRDLYKIFTQILSVRSQEGKIVIPDEFATKIRNWLGNKEELFKEAHNQKIITFYNEYTREENTFNPIRGKRPMSVPDMPERKYIDQLSRKTQSQCDFCKYKTFTAEDTFGRIDSNFSCSASNAFKLDHWHALFLLKTH\r\n",
      "cds.comp100068_c0_seq1\tm.5983\tcomp100068_c0_seq1\tg.5983  ORF comp100068_c0_seq1\tg.5983 comp100068_c0_seq1\tm.5983 type:internal len:106 (-) comp100068_c0_seq1:1-315(-)\tLFLDKSGKRICSFNNLTAVIEKATERASRIRLAKGLSQPKYLSCGNVDKVPAPGYLTASFTQLSVNKTRKDKGRNHLLLWDQTSSYSYIGPGIHYKDGKIRVNTT\r\n",
      "cds.comp100097_c2_seq1\tm.5984\tcomp100097_c2_seq1\tg.5984  ORF comp100097_c2_seq1\tg.5984 comp100097_c2_seq1\tm.5984 type:internal len:227 (+) comp100097_c2_seq1:2-679(+)\tGTENLRICLKVIETYLLLGPREFLELYSGDLVHSLSNLLSDLRTEGVLLVLRVIELVLKSFPTEGPALFKSMLPEFLRAVLNKDEHPVVMSLYLTLFGRIVLQNQEFFWNFLDQMAMESHTDSSTILKSMLAAWVESIDSMTQPERRKLSALALASLLTVNYSVILESFGSIVSVCVQVLHDVCRVPVDEETAIQMDALVIRDGDNLGEDEHETEHEKRKRALTRK\r\n",
      "cds.comp100100_c0_seq1\tm.5985\tcomp100100_c0_seq1\tg.5985  ORF comp100100_c0_seq1\tg.5985 comp100100_c0_seq1\tm.5985 type:5prime_partial len:390 (-) comp100100_c0_seq1:109-1278(-)\tVEPINRQATDGVKKKKKKKTKLSDGVLPSNVKANSFTKFSQAPDNFTGSKLSSGSACSSGSCTAGLMLKVGEFCQSIRTSSSETNNGASEHSNSEQCREGAKSDAAIQGIGLELTRKPPIPAKAGKPSNNGATISPDILRHTDKSGTKGHKRQKSLPKQHYPMVEAIGASDFRKNGTCSHDNPRLNSDPSILTTAPNKWSLKKSNSAPSPSNSKQTLSQSGKISGSQPPIFNSVNKPLNTGTTSPGGRNKKLPQCGVQALFYGSEDQFGANQTGGNKIIRKEGFAKGLNSHITNGLDPSKYTLDPSKCGGLLSNEGGSVMDNSHSLIITRNSPGAVNGTCNINGEHGLHDDCSDTKSDEGTVGGINIVEGSNPETKQIGTWKKIFGLIK*\r\n",
      "cds.comp100100_c0_seq2\tm.5986\tcomp100100_c0_seq2\tg.5986  ORF comp100100_c0_seq2\tg.5986 comp100100_c0_seq2\tm.5986 type:internal len:223 (-) comp100100_c0_seq2:1-666(-)\tVEPINRQATDGVKKKKKKKTKLSDGVLPSNVKANSFTKFSQAPDNFTGSKLSSGSACSSGSCTAGLMLKVGEFCQSIRTSSSETNNGASEHSNSEQCREGAKSDAAIQGIGLELTRKPPIPAKAGKPSNNGATISPDILRHTDKSGTKGHKRQKSLPKQHYPMVEAIGASDFRKNGTCSHDNPRLNSDPSILTTAPNKWSLKKSNSAPSPSNSKQTLPQCGA\r\n",
      "cds.comp100104_c0_seq1\tm.5987\tcomp100104_c0_seq1\tg.5987  ORF comp100104_c0_seq1\tg.5987 comp100104_c0_seq1\tm.5987 type:internal len:385 (-) comp100104_c0_seq1:2-1153(-)\tEKMDKILSEFTEIMFEALLFVKNVNCIRISNMTDEGIIEEYSVHASMSLEDKKNRQIFFNEIHAIIKENTNDKAAILKEGKKEIGYEMVIEDSNQRLTEWYIVQIFGFENSSDEITSAFRDKMLGQSPLGGVAVPLKKVSVSTEQFREKDFRHDSRTEGKYDGSKQHDASHEITKNNSTVNGNEFCGKAFCFLPLPIKTNLPVHVHGHFVLDHEARQHLGGGEPGYKQTWNESILSNIVANCWISAIKYIQTSLVLANLQNVSCEKAMVCLMENYHGHFPLLRNGSEGMDHYWTYLVRSFYNTVVKNHHALFPVVRFSEFKKSDFDKGTLERKFEHELTWVAIGQNSLQGVFNMIKKHVPLTGSLYHNFYVHFSENDARELESI\r\n",
      "cds.comp100104_c1_seq1\tm.5988\tcomp100104_c1_seq1\tg.5988  ORF comp100104_c1_seq1\tg.5988 comp100104_c1_seq1\tm.5988 type:internal len:141 (+) comp100104_c1_seq1:2-421(+)\tPALCVFNNSCFTKADIEGIHNLGIGSKGDDPTKTGQYGVGFNAVYHLTDTPSFLTKGPEVEKGETLCIFDPLCKNIPKATEVEPGIRCDVGVLKQNFPDVLLGYLEKEGLFDSGKGTLFRFPLRCKKSDISSEIITKEKM\r\n",
      "cds.comp100104_c3_seq1\tm.5990\tcomp100104_c3_seq1\tg.5990  ORF comp100104_c3_seq1\tg.5990 comp100104_c3_seq1\tm.5990 type:3prime_partial len:136 (+) comp100104_c3_seq1:1-405(+)\tMEDGTEYIDYKEQHSSIVAPDINSILRPTYELVIDDTDYETSSTMNILHGRILPDVAIEFGVKPKKIKCLDELSCAIPFGQKEKLVTRLQRLLDGYPCDSSIMKELLQNADDANASEMHFIKDYRTHSTEKIFGK\r\n",
      "cds.comp100105_c0_seq1\tm.5991\tcomp100105_c0_seq1\tg.5991  ORF comp100105_c0_seq1\tg.5991 comp100105_c0_seq1\tm.5991 type:5prime_partial len:283 (-) comp100105_c0_seq1:13-861(-)\tASQPYTENKCSFQISDSIQALSDVSPPGYEDNSDYQSLEGVHHGYYGDQSPTEFYPMIPEQKYRPPPIKRMCSGGFIPQEAHTQAQTESYFDQQHQYQMVPNIKTEMPWSQHEFPGCGRDLSGSWSPTDLRTNMSRVGYHPLHNLGEMGTQGPENKPMIQAAALAGYSGSGPIQLWQFLLEQLTDKSCQHFISWTGDGWEFKLADPDEVARRWGMRKNKPKMNYEKLSRGLRYYYDKNIIHKTAGKRYVYRFVCDLQSLLGYTPEELWEACDIKPQKDKDDE*\r\n",
      "cds.comp100108_c0_seq1\tm.5992\tcomp100108_c0_seq1\tg.5992  ORF comp100108_c0_seq1\tg.5992 comp100108_c0_seq1\tm.5992 type:internal len:141 (+) comp100108_c0_seq1:2-421(+)\tAVTGIEADMWLSAISFLKNPTKDMLKEVKPLINMKDTTDKALLSVGTLIHSYCLRHGNCERDDMVKAVISAMQNKIAKGCKIKPDNFKTSLLALRGIGNAGYAVSAIPTLEICVKITSNPIEIRLSAIEAFRRMPCDASR\r\n"
     ]
    }
   ],
   "source": [
    "!head /Users/sr320/git-repos/paper-pano-go/jupyter-nbs/analyses/S1-Pgenerosa-gonad-protein.cleantab.sorted"
   ]
  },
  {
   "cell_type": "code",
   "execution_count": 44,
   "metadata": {
    "collapsed": false
   },
   "outputs": [
    {
     "name": "stdout",
     "output_type": "stream",
     "text": [
      "cds.comp102799_c0_seq1 Bacteria 4e-114 m.6425 comp102799_c0_seq1 g.6425 ORF comp102799_c0_seq1 g.6425 comp102799_c0_seq1 m.6425 type:internal len:108 (-) comp102799_c0_seq1:3-323(-) PNRRQFGPWQGSLAADLLARRRHIRATAVGNLRRHADALAQRGVRVDGLADVHRVGAHLDGQGDLADHVAGVRADDAAAQDAAVAVRLGAVVEQQLGKAFVAPVGDG\r\n",
      "cds.comp103338_c2_seq1 Bacteria 9e-25 m.6514 comp103338_c2_seq1 g.6514 ORF comp103338_c2_seq1 g.6514 comp103338_c2_seq1 m.6514 type:internal len:100 (-) comp103338_c2_seq1:3-299(-) LALETSEIAAAAMTARMKLPDIEEKDKPKRRAIPDHIPRMEVELTPGTDACADCGGRLRRIGEDVTEELEYVPGRFIVNRIVRPRLTCACCERFVQSPL\r\n",
      "cds.comp104423_c0_seq1 N/A 0.0 m.6659 comp104423_c0_seq1 g.6659 ORF comp104423_c0_seq1 g.6659 comp104423_c0_seq1 m.6659 type:5prime_partial len:107 (-) comp104423_c0_seq1:343-663(-) LGRRIHYSQNDLVEYSPVTEKHLTDGMTVRELCSAAITMSDNTAANLLLTTIGGPKELTAFLHNMGDHVTRLDRWEPELNEAIPNDERDTTMPAAMATTLRKLLTG*\r\n",
      "cds.comp112067_c0_seq1 Bacteria 2e-163 m.8487 comp112067_c0_seq1 g.8487 ORF comp112067_c0_seq1 g.8487 comp112067_c0_seq1 m.8487 type:internal len:123 (-) comp112067_c0_seq1:2-367(-) QIRIIGTGPRDQGAGGDDPQVDHHVVGREYPACLHVRPAFPMFGYEQQTTGIGNQCDECDSHHHQRFRLTTEYKASHHLYEHAHSQDQLQYTSKMRGTYLHFRTAPYGIESQAIDGCIGKHI\r\n",
      "cds.comp121211_c0_seq1 Bacteria 0.0 m.11848 comp121211_c0_seq1 g.11848 ORF comp121211_c0_seq1 g.11848 comp121211_c0_seq1 m.11848 type:internal len:156 (-) comp121211_c0_seq1:2-466(-) AKAKFERTKPHCNIGTIGHIDHGKTTLTAAISKVLHDKYPELNEESPFDQIDKAPEERQRGITISIAHIEYQTEKRHYAHVDCPGHADYVKNMITGAAQMDGAILVVAATDGPMPQTREHVLLARQVGVPAIVVALNKCDMVDDEELIELVEMEV\r\n",
      "cds.comp124120_c0_seq3 Bacteria 8e-152 m.13325 comp124120_c0_seq3 g.13325 ORF comp124120_c0_seq3 g.13325 comp124120_c0_seq3 m.13325 type:5prime_partial len:148 (-) comp124120_c0_seq3:43-486(-) ASRRSLGRISVPMWPVTLSGRLPVKALVSHYPTNKLISRESIPNRRNFPTPTMQQELLSGISPSFLKLSQSQGQVTHVLLTRSPLIPLEQAPRFTVRLACVKHAASVRPEPGSNSPMKKYHPPTHAHTARTQATVTPRRIQYTNPKH*\r\n",
      "cds.comp137752_c0_seq15 Bacteria 3e-97 m.28741 comp137752_c0_seq15 g.28741 ORF comp137752_c0_seq15 g.28741 comp137752_c0_seq15 m.28741 type:3prime_partial len:104 (-) comp137752_c0_seq15:2-310(-) MHFGENQLSRSLIGLSPLPTAHPLSFQPKWVRSSTPSYRRFNLAMGRSLRFGSRPSDCLLKTQVRAKTLQVEVYGLTPARCWKVKRTREHATWCVRRVIEAPV\r\n",
      "cds.comp138266_c0_seq1 Bacteria 0.0 m.29842 comp138266_c0_seq1 g.29842 ORF comp138266_c0_seq1 g.29842 comp138266_c0_seq1 m.29842 type:complete len:114 (+) comp138266_c0_seq1:589-930(+) MFHFPALPPTPLYIQGRATGHYSGHSRFPHSDTPGSQLAHQLPRAYRRSQRPSSALGAKASTDRTTQLCTTPRRTNTYNNKDTRIHYTVLNHHTNTTPRTHARNTAPHRPPHM*\r\n",
      "cds.comp138387_c0_seq4 N/A 1e-46 m.30067 comp138387_c0_seq4 g.30067 ORF comp138387_c0_seq4 g.30067 comp138387_c0_seq4 m.30067 type:3prime_partial len:103 (-) comp138387_c0_seq4:1-306(-) MREIVHIQAGQCGNQIGAKFWEVISDEHGIDPTGTYHGDSDLQLERINVYYNEATGGKYVPRAVLVDLEPGTMDSVRSGPFGQIFRPDNFVFGQSGAGNNWA\r\n",
      "cds.comp138387_c0_seq6 N/A 3e-134 m.30069 comp138387_c0_seq6 g.30069 ORF comp138387_c0_seq6 g.30069 comp138387_c0_seq6 m.30069 type:internal len:245 (-) comp138387_c0_seq6:1-732(-) YNKTANMREIVHMQAGQCGNQIGAKFWEVISDEHGIDPTGTFHGDSDLQLERINVYYNEATGGKYVPRAILVDLEPGTMDSVRSGPFGQIFRPDNFVFGQSGAGNNWAKGHYTEGAELVDSVLDVVRKEAESCDCLQGFQLTHSLGGGTGSGMGTLLISKIREEYPDRIMNTFSVVPSPKVSDTVVEPYNATLSVHQLVENTDETYCIDNEALYDICFRTLKLTTPTYGDLNHLVSATMSGVTT\r\n"
     ]
    }
   ],
   "source": [
    "!join /Users/sr320/git-repos/paper-pano-go/jupyter-nbs/analyses/Non-Eukaryota-Geoduck-v2.sorted.joiner \\\n",
    "/Users/sr320/git-repos/paper-pano-go/jupyter-nbs/analyses/S1-Pgenerosa-gonad-protein.cleantab.sorted | head"
   ]
  },
  {
   "cell_type": "code",
   "execution_count": 43,
   "metadata": {
    "collapsed": false
   },
   "outputs": [
    {
     "name": "stdout",
     "output_type": "stream",
     "text": [
      "      46\r\n"
     ]
    }
   ],
   "source": [
    "!join /Users/sr320/git-repos/paper-pano-go/jupyter-nbs/analyses/Non-Eukaryota-Geoduck-v2.sorted.joiner \\\n",
    "/Users/sr320/git-repos/paper-pano-go/jupyter-nbs/analyses/S1-Pgenerosa-gonad-protein.cleantab.sorted | wc -l"
   ]
  },
  {
   "cell_type": "markdown",
   "metadata": {
    "collapsed": true
   },
   "source": [
    "# 46 sequences need to be removed"
   ]
  },
  {
   "cell_type": "code",
   "execution_count": 77,
   "metadata": {
    "collapsed": false
   },
   "outputs": [
    {
     "name": "stdout",
     "output_type": "stream",
     "text": [
      "cds.comp100710_c0_seq1\n",
      "cds.comp101011_c0_seq1\n",
      "cds.comp101670_c0_seq1\n",
      "cds.comp101927_c3_seq1\n",
      "cds.comp102287_c0_seq1\n",
      "cds.comp102799_c0_seq1\n",
      "cds.comp103084_c0_seq1\n",
      "cds.comp103338_c0_seq1\n",
      "cds.comp103338_c1_seq1\n",
      "cds.comp103338_c2_seq1\n",
      "     425 /Users/sr320/git-repos/paper-pano-go/jupyter-nbs/analyses/Non-Eukaryota\n"
     ]
    }
   ],
   "source": [
    "!head /Users/sr320/git-repos/paper-pano-go/jupyter-nbs/analyses/Non-Eukaryota\n",
    "!wc -l /Users/sr320/git-repos/paper-pano-go/jupyter-nbs/analyses/Non-Eukaryota"
   ]
  },
  {
   "cell_type": "code",
   "execution_count": 79,
   "metadata": {
    "collapsed": false
   },
   "outputs": [
    {
     "name": "stdout",
     "output_type": "stream",
     "text": [
      "cds.comp100047_c0_seq2\tm.5982\tcomp100047_c0_seq2\tg.5982  ORF comp100047_c0_seq2\tg.5982 comp100047_c0_seq2\tm.5982 type:internal len:142 (-) comp100047_c0_seq2:3-425(-)\tNAECRDLYKIFTQILSVRSQEGKIVIPDEFATKIRNWLGNKEELFKEAHNQKIITFYNEYTREENTFNPIRGKRPMSVPDMPERKYIDQLSRKTQSQCDFCKYKTFTAEDTFGRIDSNFSCSASNAFKLDHWHALFLLKTH\r\n"
     ]
    }
   ],
   "source": [
    "!head -1 /Users/sr320/git-repos/paper-pano-go/jupyter-nbs/analyses/S1-Pgenerosa-gonad-protein.cleantab.sorted"
   ]
  },
  {
   "cell_type": "code",
   "execution_count": 88,
   "metadata": {
    "collapsed": false
   },
   "outputs": [
    {
     "name": "stdout",
     "output_type": "stream",
     "text": [
      "   35957\r\n"
     ]
    }
   ],
   "source": [
    "!join -v1 /Users/sr320/git-repos/paper-pano-go/jupyter-nbs/analyses/S1-Pgenerosa-gonad-protein.cleantab.sorted \\\n",
    "/Users/sr320/git-repos/paper-pano-go/jupyter-nbs/analyses/Non-Eukaryota | wc -l "
   ]
  },
  {
   "cell_type": "code",
   "execution_count": 89,
   "metadata": {
    "collapsed": false
   },
   "outputs": [
    {
     "data": {
      "text/plain": [
       "36003"
      ]
     },
     "execution_count": 89,
     "metadata": {},
     "output_type": "execute_result"
    }
   ],
   "source": [
    "35957+46"
   ]
  },
  {
   "cell_type": "code",
   "execution_count": 90,
   "metadata": {
    "collapsed": true
   },
   "outputs": [],
   "source": [
    "!join -v1 /Users/sr320/git-repos/paper-pano-go/jupyter-nbs/analyses/S1-Pgenerosa-gonad-protein.cleantab.sorted \\\n",
    "/Users/sr320/git-repos/paper-pano-go/jupyter-nbs/analyses/Non-Eukaryota \\\n",
    "> ../Supplemental-files/S1-Pgenerosa-gonad-protein-v3.tab"
   ]
  },
  {
   "cell_type": "code",
   "execution_count": 91,
   "metadata": {
    "collapsed": false
   },
   "outputs": [
    {
     "name": "stdout",
     "output_type": "stream",
     "text": [
      "cds.comp100047_c0_seq2 m.5982 comp100047_c0_seq2 g.5982 ORF comp100047_c0_seq2 g.5982 comp100047_c0_seq2 m.5982 type:internal len:142 (-) comp100047_c0_seq2:3-425(-) NAECRDLYKIFTQILSVRSQEGKIVIPDEFATKIRNWLGNKEELFKEAHNQKIITFYNEYTREENTFNPIRGKRPMSVPDMPERKYIDQLSRKTQSQCDFCKYKTFTAEDTFGRIDSNFSCSASNAFKLDHWHALFLLKTH\r\n",
      "cds.comp100068_c0_seq1 m.5983 comp100068_c0_seq1 g.5983 ORF comp100068_c0_seq1 g.5983 comp100068_c0_seq1 m.5983 type:internal len:106 (-) comp100068_c0_seq1:1-315(-) LFLDKSGKRICSFNNLTAVIEKATERASRIRLAKGLSQPKYLSCGNVDKVPAPGYLTASFTQLSVNKTRKDKGRNHLLLWDQTSSYSYIGPGIHYKDGKIRVNTT\r\n",
      "cds.comp100097_c2_seq1 m.5984 comp100097_c2_seq1 g.5984 ORF comp100097_c2_seq1 g.5984 comp100097_c2_seq1 m.5984 type:internal len:227 (+) comp100097_c2_seq1:2-679(+) GTENLRICLKVIETYLLLGPREFLELYSGDLVHSLSNLLSDLRTEGVLLVLRVIELVLKSFPTEGPALFKSMLPEFLRAVLNKDEHPVVMSLYLTLFGRIVLQNQEFFWNFLDQMAMESHTDSSTILKSMLAAWVESIDSMTQPERRKLSALALASLLTVNYSVILESFGSIVSVCVQVLHDVCRVPVDEETAIQMDALVIRDGDNLGEDEHETEHEKRKRALTRK\r\n",
      "cds.comp100100_c0_seq1 m.5985 comp100100_c0_seq1 g.5985 ORF comp100100_c0_seq1 g.5985 comp100100_c0_seq1 m.5985 type:5prime_partial len:390 (-) comp100100_c0_seq1:109-1278(-) VEPINRQATDGVKKKKKKKTKLSDGVLPSNVKANSFTKFSQAPDNFTGSKLSSGSACSSGSCTAGLMLKVGEFCQSIRTSSSETNNGASEHSNSEQCREGAKSDAAIQGIGLELTRKPPIPAKAGKPSNNGATISPDILRHTDKSGTKGHKRQKSLPKQHYPMVEAIGASDFRKNGTCSHDNPRLNSDPSILTTAPNKWSLKKSNSAPSPSNSKQTLSQSGKISGSQPPIFNSVNKPLNTGTTSPGGRNKKLPQCGVQALFYGSEDQFGANQTGGNKIIRKEGFAKGLNSHITNGLDPSKYTLDPSKCGGLLSNEGGSVMDNSHSLIITRNSPGAVNGTCNINGEHGLHDDCSDTKSDEGTVGGINIVEGSNPETKQIGTWKKIFGLIK*\r\n",
      "cds.comp100100_c0_seq2 m.5986 comp100100_c0_seq2 g.5986 ORF comp100100_c0_seq2 g.5986 comp100100_c0_seq2 m.5986 type:internal len:223 (-) comp100100_c0_seq2:1-666(-) VEPINRQATDGVKKKKKKKTKLSDGVLPSNVKANSFTKFSQAPDNFTGSKLSSGSACSSGSCTAGLMLKVGEFCQSIRTSSSETNNGASEHSNSEQCREGAKSDAAIQGIGLELTRKPPIPAKAGKPSNNGATISPDILRHTDKSGTKGHKRQKSLPKQHYPMVEAIGASDFRKNGTCSHDNPRLNSDPSILTTAPNKWSLKKSNSAPSPSNSKQTLPQCGA\r\n",
      "cds.comp100104_c0_seq1 m.5987 comp100104_c0_seq1 g.5987 ORF comp100104_c0_seq1 g.5987 comp100104_c0_seq1 m.5987 type:internal len:385 (-) comp100104_c0_seq1:2-1153(-) EKMDKILSEFTEIMFEALLFVKNVNCIRISNMTDEGIIEEYSVHASMSLEDKKNRQIFFNEIHAIIKENTNDKAAILKEGKKEIGYEMVIEDSNQRLTEWYIVQIFGFENSSDEITSAFRDKMLGQSPLGGVAVPLKKVSVSTEQFREKDFRHDSRTEGKYDGSKQHDASHEITKNNSTVNGNEFCGKAFCFLPLPIKTNLPVHVHGHFVLDHEARQHLGGGEPGYKQTWNESILSNIVANCWISAIKYIQTSLVLANLQNVSCEKAMVCLMENYHGHFPLLRNGSEGMDHYWTYLVRSFYNTVVKNHHALFPVVRFSEFKKSDFDKGTLERKFEHELTWVAIGQNSLQGVFNMIKKHVPLTGSLYHNFYVHFSENDARELESI\r\n",
      "cds.comp100104_c1_seq1 m.5988 comp100104_c1_seq1 g.5988 ORF comp100104_c1_seq1 g.5988 comp100104_c1_seq1 m.5988 type:internal len:141 (+) comp100104_c1_seq1:2-421(+) PALCVFNNSCFTKADIEGIHNLGIGSKGDDPTKTGQYGVGFNAVYHLTDTPSFLTKGPEVEKGETLCIFDPLCKNIPKATEVEPGIRCDVGVLKQNFPDVLLGYLEKEGLFDSGKGTLFRFPLRCKKSDISSEIITKEKM\r\n",
      "cds.comp100104_c3_seq1 m.5990 comp100104_c3_seq1 g.5990 ORF comp100104_c3_seq1 g.5990 comp100104_c3_seq1 m.5990 type:3prime_partial len:136 (+) comp100104_c3_seq1:1-405(+) MEDGTEYIDYKEQHSSIVAPDINSILRPTYELVIDDTDYETSSTMNILHGRILPDVAIEFGVKPKKIKCLDELSCAIPFGQKEKLVTRLQRLLDGYPCDSSIMKELLQNADDANASEMHFIKDYRTHSTEKIFGK\r\n",
      "cds.comp100105_c0_seq1 m.5991 comp100105_c0_seq1 g.5991 ORF comp100105_c0_seq1 g.5991 comp100105_c0_seq1 m.5991 type:5prime_partial len:283 (-) comp100105_c0_seq1:13-861(-) ASQPYTENKCSFQISDSIQALSDVSPPGYEDNSDYQSLEGVHHGYYGDQSPTEFYPMIPEQKYRPPPIKRMCSGGFIPQEAHTQAQTESYFDQQHQYQMVPNIKTEMPWSQHEFPGCGRDLSGSWSPTDLRTNMSRVGYHPLHNLGEMGTQGPENKPMIQAAALAGYSGSGPIQLWQFLLEQLTDKSCQHFISWTGDGWEFKLADPDEVARRWGMRKNKPKMNYEKLSRGLRYYYDKNIIHKTAGKRYVYRFVCDLQSLLGYTPEELWEACDIKPQKDKDDE*\r\n",
      "cds.comp100108_c0_seq1 m.5992 comp100108_c0_seq1 g.5992 ORF comp100108_c0_seq1 g.5992 comp100108_c0_seq1 m.5992 type:internal len:141 (+) comp100108_c0_seq1:2-421(+) AVTGIEADMWLSAISFLKNPTKDMLKEVKPLINMKDTTDKALLSVGTLIHSYCLRHGNCERDDMVKAVISAMQNKIAKGCKIKPDNFKTSLLALRGIGNAGYAVSAIPTLEICVKITSNPIEIRLSAIEAFRRMPCDASR\r\n"
     ]
    }
   ],
   "source": [
    "!head ../Supplemental-files/S1-Pgenerosa-gonad-protein-v3.tab"
   ]
  },
  {
   "cell_type": "code",
   "execution_count": 97,
   "metadata": {
    "collapsed": false
   },
   "outputs": [],
   "source": [
    "!awk '{print \">\"$1\"\\n\"$NF}' ../Supplemental-files/S1-Pgenerosa-gonad-protein-v3.tab \\\n",
    "> ../Supplemental-files/S1-Pgenerosa-gonad-protein-v3.fa\n",
    "\n"
   ]
  },
  {
   "cell_type": "code",
   "execution_count": 101,
   "metadata": {
    "collapsed": false
   },
   "outputs": [
    {
     "name": "stdout",
     "output_type": "stream",
     "text": [
      "35957\r\n"
     ]
    }
   ],
   "source": [
    "!fgrep -c \">\" ../Supplemental-files/S1-Pgenerosa-gonad-protein-v3.fa"
   ]
  },
  {
   "cell_type": "code",
   "execution_count": 102,
   "metadata": {
    "collapsed": false
   },
   "outputs": [
    {
     "name": "stdout",
     "output_type": "stream",
     "text": [
      ">cds.comp100047_c0_seq2\r\n",
      "NAECRDLYKIFTQILSVRSQEGKIVIPDEFATKIRNWLGNKEELFKEAHNQKIITFYNEYTREENTFNPIRGKRPMSVPDMPERKYIDQLSRKTQSQCDFCKYKTFTAEDTFGRIDSNFSCSASNAFKLDHWHALFLLKTH\r\n",
      ">cds.comp100068_c0_seq1\r\n",
      "LFLDKSGKRICSFNNLTAVIEKATERASRIRLAKGLSQPKYLSCGNVDKVPAPGYLTASFTQLSVNKTRKDKGRNHLLLWDQTSSYSYIGPGIHYKDGKIRVNTT\r\n",
      ">cds.comp100097_c2_seq1\r\n",
      "GTENLRICLKVIETYLLLGPREFLELYSGDLVHSLSNLLSDLRTEGVLLVLRVIELVLKSFPTEGPALFKSMLPEFLRAVLNKDEHPVVMSLYLTLFGRIVLQNQEFFWNFLDQMAMESHTDSSTILKSMLAAWVESIDSMTQPERRKLSALALASLLTVNYSVILESFGSIVSVCVQVLHDVCRVPVDEETAIQMDALVIRDGDNLGEDEHETEHEKRKRALTRK\r\n",
      ">cds.comp100100_c0_seq1\r\n",
      "VEPINRQATDGVKKKKKKKTKLSDGVLPSNVKANSFTKFSQAPDNFTGSKLSSGSACSSGSCTAGLMLKVGEFCQSIRTSSSETNNGASEHSNSEQCREGAKSDAAIQGIGLELTRKPPIPAKAGKPSNNGATISPDILRHTDKSGTKGHKRQKSLPKQHYPMVEAIGASDFRKNGTCSHDNPRLNSDPSILTTAPNKWSLKKSNSAPSPSNSKQTLSQSGKISGSQPPIFNSVNKPLNTGTTSPGGRNKKLPQCGVQALFYGSEDQFGANQTGGNKIIRKEGFAKGLNSHITNGLDPSKYTLDPSKCGGLLSNEGGSVMDNSHSLIITRNSPGAVNGTCNINGEHGLHDDCSDTKSDEGTVGGINIVEGSNPETKQIGTWKKIFGLIK*\r\n",
      ">cds.comp100100_c0_seq2\r\n",
      "VEPINRQATDGVKKKKKKKTKLSDGVLPSNVKANSFTKFSQAPDNFTGSKLSSGSACSSGSCTAGLMLKVGEFCQSIRTSSSETNNGASEHSNSEQCREGAKSDAAIQGIGLELTRKPPIPAKAGKPSNNGATISPDILRHTDKSGTKGHKRQKSLPKQHYPMVEAIGASDFRKNGTCSHDNPRLNSDPSILTTAPNKWSLKKSNSAPSPSNSKQTLPQCGA\r\n"
     ]
    }
   ],
   "source": [
    "!head ../Supplemental-files/S1-Pgenerosa-gonad-protein-v3.fa"
   ]
  },
  {
   "cell_type": "code",
   "execution_count": null,
   "metadata": {
    "collapsed": true
   },
   "outputs": [],
   "source": []
  }
 ],
 "metadata": {
  "kernelspec": {
   "display_name": "Python 2",
   "language": "python",
   "name": "python2"
  },
  "language_info": {
   "codemirror_mode": {
    "name": "ipython",
    "version": 2
   },
   "file_extension": ".py",
   "mimetype": "text/x-python",
   "name": "python",
   "nbconvert_exporter": "python",
   "pygments_lexer": "ipython2",
   "version": "2.7.11"
  }
 },
 "nbformat": 4,
 "nbformat_minor": 0
}
