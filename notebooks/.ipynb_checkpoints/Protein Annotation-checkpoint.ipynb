{
 "cells": [
  {
   "cell_type": "code",
   "execution_count": 1,
   "metadata": {
    "collapsed": false
   },
   "outputs": [
    {
     "name": "stdout",
     "output_type": "stream",
     "text": [
      ">cds.comp100047_c0_seq2|m.5982 comp100047_c0_seq2|g.5982  ORF comp100047_c0_seq2|g.5982 comp100047_c0_seq2|m.5982 type:internal len:142 (-) comp100047_c0_seq2:3-425(-)\r\n",
      "NAECRDLYKIFTQILSVRSQEGKIVIPDEFATKIRNWLGNKEELFKEAHNQKIITFYNEY\r\n",
      "TREENTFNPIRGKRPMSVPDMPERKYIDQLSRKTQSQCDFCKYKTFTAEDTFGRIDSNFS\r\n",
      "CSASNAFKLDHWHALFLLKTH\r\n",
      ">cds.comp100068_c0_seq1|m.5983 comp100068_c0_seq1|g.5983  ORF comp100068_c0_seq1|g.5983 comp100068_c0_seq1|m.5983 type:internal len:106 (-) comp100068_c0_seq1:1-315(-)\r\n",
      "LFLDKSGKRICSFNNLTAVIEKATERASRIRLAKGLSQPKYLSCGNVDKVPAPGYLTASF\r\n",
      "TQLSVNKTRKDKGRNHLLLWDQTSSYSYIGPGIHYKDGKIRVNTT\r\n",
      ">cds.comp100097_c2_seq1|m.5984 comp100097_c2_seq1|g.5984  ORF comp100097_c2_seq1|g.5984 comp100097_c2_seq1|m.5984 type:internal len:227 (+) comp100097_c2_seq1:2-679(+)\r\n",
      "GTENLRICLKVIETYLLLGPREFLELYSGDLVHSLSNLLSDLRTEGVLLVLRVIELVLKS\r\n",
      "FPTEGPALFKSMLPEFLRAVLNKDEHPVVMSLYLTLFGRIVLQNQEFFWNFLDQMAMESH\r\n"
     ]
    }
   ],
   "source": [
    "!head ../Supplemental-files/S1-Pgenerosa-gonad-protein.fa"
   ]
  },
  {
   "cell_type": "code",
   "execution_count": 16,
   "metadata": {
    "collapsed": false
   },
   "outputs": [
    {
     "data": {
      "text/plain": [
       "u'/Users/sr320/git-repos/paper-Geoduck-proteomic/notebooks'"
      ]
     },
     "execution_count": 16,
     "metadata": {},
     "output_type": "execute_result"
    }
   ],
   "source": [
    "pwd"
   ]
  },
  {
   "cell_type": "code",
   "execution_count": 20,
   "metadata": {
    "collapsed": false
   },
   "outputs": [
    {
     "name": "stdout",
     "output_type": "stream",
     "text": [
      "/Users/sr320/git-repos/paper-Geoduck-proteomic/analyses\n"
     ]
    }
   ],
   "source": [
    "cd ../analyses"
   ]
  },
  {
   "cell_type": "code",
   "execution_count": 21,
   "metadata": {
    "collapsed": false
   },
   "outputs": [
    {
     "data": {
      "text/plain": [
       "u'/Users/sr320/git-repos/paper-Geoduck-proteomic/analyses'"
      ]
     },
     "execution_count": 21,
     "metadata": {},
     "output_type": "execute_result"
    }
   ],
   "source": [
    "pwd"
   ]
  },
  {
   "cell_type": "code",
   "execution_count": 22,
   "metadata": {
    "collapsed": false
   },
   "outputs": [
    {
     "name": "stdout",
     "output_type": "stream",
     "text": [
      "query.fa: 36003 sequences, 11788989 bp => dividing into 10 parts .......... OK\n",
      "All done, 0 seconds elapsed\n"
     ]
    }
   ],
   "source": [
    "\n",
    "!/Users/sr320/git-repos/paper-Geoduck-proteomic/notebooks/script-box/fasta-splitter.pl \\\n",
    "--n-parts 10 \\\n",
    "query.fa \n"
   ]
  },
  {
   "cell_type": "code",
   "execution_count": null,
   "metadata": {
    "collapsed": true
   },
   "outputs": [],
   "source": [
    "%%bash\n",
    "for f in query.part*\n",
    "do\n",
    "blastp \\\n",
    "-query $f \\\n",
    "-db /usr/local/bioinformatics/dbs/uniprot_sprot.fasta \\\n",
    "-evalue 1e-5 \\\n",
    "-max_target_seqs 1 \\\n",
    "-max_hsps 1 \\\n",
    "-outfmt 6 \\\n",
    "-num_threads 6 \\\n",
    "-out blastout_\"$f\"_sp \\\n",
    "2> error-blastout_\"$f\"_sp\n",
    "done"
   ]
  },
  {
   "cell_type": "markdown",
   "metadata": {},
   "source": [
    "# NEW PROTEOME"
   ]
  },
  {
   "cell_type": "code",
   "execution_count": 2,
   "metadata": {
    "collapsed": false
   },
   "outputs": [
    {
     "name": "stdout",
     "output_type": "stream",
     "text": [
      ">cds.comp100047_c0_seq2\r\n",
      "NAECRDLYKIFTQILSVRSQEGKIVIPDEFATKIRNWLGNKEELFKEAHNQKIITFYNEYTREENTFNPIRGKRPMSVPDMPERKYIDQLSRKTQSQCDFCKYKTFTAEDTFGRIDSNFSCSASNAFKLDHWHALFLLKTH\r\n",
      ">cds.comp100068_c0_seq1\r\n",
      "LFLDKSGKRICSFNNLTAVIEKATERASRIRLAKGLSQPKYLSCGNVDKVPAPGYLTASFTQLSVNKTRKDKGRNHLLLWDQTSSYSYIGPGIHYKDGKIRVNTT\r\n",
      ">cds.comp100097_c2_seq1\r\n",
      "GTENLRICLKVIETYLLLGPREFLELYSGDLVHSLSNLLSDLRTEGVLLVLRVIELVLKSFPTEGPALFKSMLPEFLRAVLNKDEHPVVMSLYLTLFGRIVLQNQEFFWNFLDQMAMESHTDSSTILKSMLAAWVESIDSMTQPERRKLSALALASLLTVNYSVILESFGSIVSVCVQVLHDVCRVPVDEETAIQMDALVIRDGDNLGEDEHETEHEKRKRALTRK\r\n",
      ">cds.comp100100_c0_seq1\r\n",
      "VEPINRQATDGVKKKKKKKTKLSDGVLPSNVKANSFTKFSQAPDNFTGSKLSSGSACSSGSCTAGLMLKVGEFCQSIRTSSSETNNGASEHSNSEQCREGAKSDAAIQGIGLELTRKPPIPAKAGKPSNNGATISPDILRHTDKSGTKGHKRQKSLPKQHYPMVEAIGASDFRKNGTCSHDNPRLNSDPSILTTAPNKWSLKKSNSAPSPSNSKQTLSQSGKISGSQPPIFNSVNKPLNTGTTSPGGRNKKLPQCGVQALFYGSEDQFGANQTGGNKIIRKEGFAKGLNSHITNGLDPSKYTLDPSKCGGLLSNEGGSVMDNSHSLIITRNSPGAVNGTCNINGEHGLHDDCSDTKSDEGTVGGINIVEGSNPETKQIGTWKKIFGLIK*\r\n",
      ">cds.comp100100_c0_seq2\r\n",
      "VEPINRQATDGVKKKKKKKTKLSDGVLPSNVKANSFTKFSQAPDNFTGSKLSSGSACSSGSCTAGLMLKVGEFCQSIRTSSSETNNGASEHSNSEQCREGAKSDAAIQGIGLELTRKPPIPAKAGKPSNNGATISPDILRHTDKSGTKGHKRQKSLPKQHYPMVEAIGASDFRKNGTCSHDNPRLNSDPSILTTAPNKWSLKKSNSAPSPSNSKQTLPQCGA\r\n"
     ]
    }
   ],
   "source": [
    "!head ../Supplemental-files/S1-Pgenerosa-gonad-protein-v3.fa"
   ]
  },
  {
   "cell_type": "code",
   "execution_count": 4,
   "metadata": {
    "collapsed": false
   },
   "outputs": [],
   "source": [
    "!blastp \\\n",
    "-query ../Supplemental-files/S1-Pgenerosa-gonad-protein-v3.fa \\\n",
    "-db /Users/sr320/data-genomic/blast/db/uniprot_sprot_r2015_07 \\\n",
    "-evalue 1e-5 \\\n",
    "-max_target_seqs 1 \\\n",
    "-max_hsps 1 \\\n",
    "-outfmt 6 \\\n",
    "-num_threads 6 \\\n",
    "-out /Users/sr320/git-repos/paper-Geoduck-proteomic/analyses/Pgen-v3_uniprot.tab"
   ]
  },
  {
   "cell_type": "code",
   "execution_count": 6,
   "metadata": {
    "collapsed": false
   },
   "outputs": [
    {
     "name": "stdout",
     "output_type": "stream",
     "text": [
      "   17468 /Users/sr320/git-repos/paper-Geoduck-proteomic/analyses/Pgen-v3_uniprot.tab\r\n"
     ]
    }
   ],
   "source": [
    "!wc -l /Users/sr320/git-repos/paper-Geoduck-proteomic/analyses/Pgen-v3_uniprot.tab"
   ]
  },
  {
   "cell_type": "code",
   "execution_count": 7,
   "metadata": {
    "collapsed": false
   },
   "outputs": [
    {
     "name": "stdout",
     "output_type": "stream",
     "text": [
      "cds.comp100097_c2_seq1\tsp|Q9UI26|IPO11_HUMAN\t41.05\t229\t130\t3\t1\t226\t699\t925\t3e-42\t  157\r\n",
      "cds.comp100104_c1_seq1\tsp|Q9NZJ4|SACS_HUMAN\t47.83\t138\t58\t4\t1\t132\t2586\t2715\t2e-29\t  118\r\n",
      "cds.comp100105_c0_seq1\tsp|P18756|ETS1B_XENLA\t85.71\t126\t18\t0\t154\t279\t143\t268\t2e-73\t  233\r\n",
      "cds.comp100108_c1_seq1\tsp|Q9U943|APLP_LOCMI\t32.45\t413\t227\t9\t2\t368\t514\t920\t3e-59\t  214\r\n",
      "cds.comp100129_c0_seq1\tsp|Q14644|RASA3_HUMAN\t50.00\t108\t48\t2\t2\t105\t68\t173\t9e-30\t  117\r\n",
      "cds.comp100184_c0_seq1\tsp|Q9C509|SGPL_ARATH\t35.66\t143\t90\t1\t1\t143\t404\t544\t2e-24\t  102\r\n",
      "cds.comp100187_c0_seq1\tsp|Q16RI1|OPI10_AEDAE\t66.67\t87\t28\t1\t7\t92\t5\t91\t2e-35\t  125\r\n",
      "cds.comp100218_c0_seq1\tsp|Q9Y5Q9|TF3C3_HUMAN\t56.76\t74\t32\t0\t171\t244\t130\t203\t2e-17\t85.9\r\n",
      "cds.comp100298_c0_seq1\tsp|A0R5M8|EGTD_MYCS2\t27.06\t218\t146\t6\t6\t221\t81\t287\t3e-19\t87.8\r\n",
      "cds.comp100366_c1_seq1\tsp|Q852M1|ALDO2_ORYSJ\t45.30\t181\t95\t3\t2\t181\t1136\t1313\t1e-43\t  161\r\n"
     ]
    }
   ],
   "source": [
    "!head /Users/sr320/git-repos/paper-Geoduck-proteomic/analyses/Pgen-v3_uniprot.tab"
   ]
  },
  {
   "cell_type": "code",
   "execution_count": 8,
   "metadata": {
    "collapsed": true
   },
   "outputs": [],
   "source": [
    "!tr '|' \"\\t\" </Users/sr320/git-repos/paper-Geoduck-proteomic/analyses/Pgen-v3_uniprot.tab> \\\n",
    "/Users/sr320/git-repos/paper-Geoduck-proteomic/analyses/Pgen-v3_uniprot.tab2"
   ]
  },
  {
   "cell_type": "code",
   "execution_count": 9,
   "metadata": {
    "collapsed": false
   },
   "outputs": [
    {
     "name": "stdout",
     "output_type": "stream",
     "text": [
      "cds.comp100097_c2_seq1\tsp\tQ9UI26\tIPO11_HUMAN\t41.05\t229\t130\t3\t1\t226\t699\t925\t3e-42\t  157\r\n",
      "cds.comp100104_c1_seq1\tsp\tQ9NZJ4\tSACS_HUMAN\t47.83\t138\t58\t4\t1\t132\t2586\t2715\t2e-29\t  118\r\n",
      "cds.comp100105_c0_seq1\tsp\tP18756\tETS1B_XENLA\t85.71\t126\t18\t0\t154\t279\t143\t268\t2e-73\t  233\r\n",
      "cds.comp100108_c1_seq1\tsp\tQ9U943\tAPLP_LOCMI\t32.45\t413\t227\t9\t2\t368\t514\t920\t3e-59\t  214\r\n",
      "cds.comp100129_c0_seq1\tsp\tQ14644\tRASA3_HUMAN\t50.00\t108\t48\t2\t2\t105\t68\t173\t9e-30\t  117\r\n",
      "cds.comp100184_c0_seq1\tsp\tQ9C509\tSGPL_ARATH\t35.66\t143\t90\t1\t1\t143\t404\t544\t2e-24\t  102\r\n",
      "cds.comp100187_c0_seq1\tsp\tQ16RI1\tOPI10_AEDAE\t66.67\t87\t28\t1\t7\t92\t5\t91\t2e-35\t  125\r\n",
      "cds.comp100218_c0_seq1\tsp\tQ9Y5Q9\tTF3C3_HUMAN\t56.76\t74\t32\t0\t171\t244\t130\t203\t2e-17\t85.9\r\n",
      "cds.comp100298_c0_seq1\tsp\tA0R5M8\tEGTD_MYCS2\t27.06\t218\t146\t6\t6\t221\t81\t287\t3e-19\t87.8\r\n",
      "cds.comp100366_c1_seq1\tsp\tQ852M1\tALDO2_ORYSJ\t45.30\t181\t95\t3\t2\t181\t1136\t1313\t1e-43\t  161\r\n"
     ]
    }
   ],
   "source": [
    "!head /Users/sr320/git-repos/paper-Geoduck-proteomic/analyses/Pgen-v3_uniprot.tab2"
   ]
  },
  {
   "cell_type": "code",
   "execution_count": 12,
   "metadata": {
    "collapsed": false
   },
   "outputs": [
    {
     "name": "stdout",
     "output_type": "stream",
     "text": [
      "X5M8U1\tGCY17_CAEEL\treviewed\tReceptor-type guanylate cyclase gcy-17 (EC 4.6.1.2)\tgcy-17 W03F11.2\tCaenorhabditis elegans\t1088\tintracellular signal transduction [GO:0035556]\tGO:0004383; GO:0004672; GO:0005524; GO:0005525; GO:0005622; GO:0005886; GO:0016021; GO:0035556\t\t\t\tPF01094;PF00211;PF07701;PF07714;\r\n"
     ]
    }
   ],
   "source": [
    "!tail -1 /Users/sr320/data-genomic/uniprot/uniprot-all0916.tab.sorted"
   ]
  },
  {
   "cell_type": "code",
   "execution_count": 13,
   "metadata": {
    "collapsed": false
   },
   "outputs": [
    {
     "name": "stdout",
     "output_type": "stream",
     "text": [
      "UniProtKB/Swiss-Prot\tX5M8U1\tgcy-17\t-\tGO:0035556\tintracellular signal transduction\tProcess\tIEA\tGO_REF:0000002\tInterPro:IPR001054|InterPro:IPR018297\t6239\t20160910\tInterPro\t-\r\n"
     ]
    }
   ],
   "source": [
    "!tail -1 /Users/sr320/data-genomic/uniprot/associations-SP-GO-BP.tsv"
   ]
  },
  {
   "cell_type": "code",
   "execution_count": 14,
   "metadata": {
    "collapsed": false
   },
   "outputs": [
    {
     "name": "stdout",
     "output_type": "stream",
     "text": [
      "X5M8U1\tgcy-17\tGO:0007165\tsignal transduction\tGO:0035556\tintracellular signal transduction\r\n"
     ]
    }
   ],
   "source": [
    "!tail -1 /Users/sr320/data-genomic/uniprot/associations-slim-trim.tsv"
   ]
  },
  {
   "cell_type": "code",
   "execution_count": 18,
   "metadata": {
    "collapsed": false,
    "scrolled": true
   },
   "outputs": [
    {
     "name": "stdout",
     "output_type": "stream",
     "text": [
      "Q9UI26 cds.comp100097_c2_seq1 sp IPO11_HUMAN 41.05 229 130 3 1 226 699 925 3e-42 157 IPO11 GO:0006605 protein targeting GO:0006610 ribosomal protein import into nucleus\r\n",
      "Q9UI26 cds.comp100097_c2_seq1 sp IPO11_HUMAN 41.05 229 130 3 1 226 699 925 3e-42 157 IPO11 GO:0006913 nucleocytoplasmic transport GO:0006610 ribosomal protein import into nucleus\r\n",
      "Q9UI26 cds.comp100097_c2_seq1 sp IPO11_HUMAN 41.05 229 130 3 1 226 699 925 3e-42 157 IPO11 GO:0006810 transport GO:0006810 transport\r\n",
      "Q9UI26 cds.comp100097_c2_seq1 sp IPO11_HUMAN 41.05 229 130 3 1 226 699 925 3e-42 157 IPO11 GO:0005622 intracellular GO:0006886 intracellular protein transport\r\n",
      "Q9UI26 cds.comp100097_c2_seq1 sp IPO11_HUMAN 41.05 229 130 3 1 226 699 925 3e-42 157 IPO11 GO:0006810 transport GO:0006886 intracellular protein transport\r\n",
      "Q9UI26 cds.comp100097_c2_seq1 sp IPO11_HUMAN 41.05 229 130 3 1 226 699 925 3e-42 157 IPO11 GO:0006810 transport GO:0015031 protein transport\r\n",
      "Q9UI26 cds.comp100097_c2_seq1 sp IPO11_HUMAN 41.05 229 130 3 1 226 699 925 3e-42 157 IPO11 GO:0006605 protein targeting GO:0042991 transcription factor import into nucleus\r\n",
      "Q9UI26 cds.comp100097_c2_seq1 sp IPO11_HUMAN 41.05 229 130 3 1 226 699 925 3e-42 157 IPO11 GO:0006913 nucleocytoplasmic transport GO:0042991 transcription factor import into nucleus\r\n",
      "Q9Y5Q9 cds.comp100218_c0_seq1 sp TF3C3_HUMAN 56.76 74 32 0 171 244 130 203 2e-17 85.9 GTF3C3 GO:0009058 biosynthetic process GO:0006351 transcription, DNA-templated\r\n",
      "Q9Y5Q9 cds.comp100218_c0_seq1 sp TF3C3_HUMAN 56.76 74 32 0 171 244 130 203 2e-17 85.9 GTF3C3 GO:0034641 cellular nitrogen compound metabolic process GO:0006351 transcription, DNA-templated\r\n"
     ]
    }
   ],
   "source": [
    "!join -t t -1 3 -2 1 \\\n",
    "/Users/sr320/git-repos/paper-Geoduck-proteomic/analyses/Pgen-v3_uniprot.tab2 \\\n",
    "/Users/sr320/data-genomic/uniprot/associations-slim-trim.tsv | head"
   ]
  },
  {
   "cell_type": "code",
   "execution_count": 19,
   "metadata": {
    "collapsed": false
   },
   "outputs": [
    {
     "name": "stdout",
     "output_type": "stream",
     "text": [
      "Q9UI26 cds.comp100097_c2_seq1 sp IPO11_HUMAN 41.05 229 130 3 1 226 699 925 3e-42 157 IPO11_HUMAN reviewed Importin-11 (Imp11) (Ran-binding protein 11) (RanBP11) IPO11 RANBP11 Homo sapiens (Human) 975 ribosomal protein import into nucleus [GO:0006610]; transcription factor import into nucleus [GO:0042991] GO:0005635; GO:0005829; GO:0006610; GO:0008565; GO:0042991 PF03810;\r\n",
      "Q9Y5Q9 cds.comp100218_c0_seq1 sp TF3C3_HUMAN 56.76 74 32 0 171 244 130 203 2e-17 85.9 TF3C3_HUMAN reviewed General transcription factor 3C polypeptide 3 (Transcription factor IIIC 102 kDa subunit) (TFIIIC 102 kDa subunit) (TFIIIC102) (Transcription factor IIIC subunit gamma) (TF3C-gamma) GTF3C3 Homo sapiens (Human) 886 5S class rRNA transcription from RNA polymerase III type 1 promoter [GO:0042791]; transcription, DNA-templated [GO:0006351]; transcription from RNA polymerase III promoter [GO:0006383]; tRNA transcription from RNA polymerase III promoter [GO:0042797] GO:0000127; GO:0003677; GO:0005634; GO:0005654; GO:0005730; GO:0006351; GO:0006383; GO:0031965; GO:0042791; GO:0042797 PF13181;\r\n",
      "Q9Z1T6 cds.comp10215_c0_seq1 sp FYV1_MOUSE 53.85 65 30 0 30 94 1801 1865 7e-20 89.4 FYV1_MOUSE reviewed 1-phosphatidylinositol 3-phosphate 5-kinase (Phosphatidylinositol 3-phosphate 5-kinase) (EC 2.7.1.150) (FYVE finger-containing phosphoinositide kinase) (PIKfyve) (Phosphatidylinositol 3-phosphate 5-kinase type III) (PIPkin-III) (Type III PIP kinase) (p235) Pikfyve Kiaa0981 Pip5k3 Mus musculus (Mouse) 2097 intracellular signal transduction [GO:0035556]; myelin assembly [GO:0032288]; protein localization to nucleus [GO:0034504]; regulation of autophagosome assembly [GO:2000785]; retrograde transport, endosome to Golgi [GO:0042147] GO:0000139; GO:0000285; GO:0005524; GO:0005829; GO:0005911; GO:0008270; GO:0010008; GO:0012506; GO:0016308; GO:0030659; GO:0031410; GO:0031901; GO:0031902; GO:0032288; GO:0034504; GO:0035556; GO:0042147; GO:0045121; GO:0048471; GO:0052810; GO:2000785 PF00118;PF00610;PF01363;PF01504;\r\n",
      "Q9ZQ47 cds.comp102694_c0_seq1 sp GRDP1_ARATH 42.75 138 75 1 124 257 160 297 2e-29 122 GRDP1_ARATH reviewed Glycine-rich domain-containing protein 1 (AtGRDP1) GRDP1 At2g22660 T9I22.10 Arabidopsis thaliana (Mouse-ear cress) 819 abscisic acid-activated signaling pathway [GO:0009738]; cellular response to osmotic stress [GO:0071470]; regulation of abscisic acid-activated signaling pathway [GO:0009787] GO:0005886; GO:0009738; GO:0009787; GO:0071470 PF07173;\r\n",
      "Q9ZRJ4 cds.comp115614_c1_seq1 sp TBA_CHLVU 100.00 136 0 0 1 136 287 422 8e-97 292 TBA_CHLVU reviewed Tubulin alpha chain TUBA TUA1 Chlorella vulgaris (Green alga) 451 microtubule-based process [GO:0007017] GO:0003924; GO:0005200; GO:0005525; GO:0005737; GO:0005874; GO:0007017 PF00091;PF03953;\r\n",
      "Q9ZVT9 cds.comp127203_c0_seq2 sp C2GR1_ARATH 33.00 100 63 1 1 100 1 96 6e-10 64.7 C2GR1_ARATH reviewed C2 and GRAM domain-containing protein At1g03370 At1g03370 F15K9.2 Arabidopsis thaliana (Mouse-ear cress) 1020 GO:0016021 PF00168;PF16016;PF02893;\r\n",
      "U3JAG9 cds.comp140159_c0_seq2 sp CP131_DANRE 36.77 922 434 29 10 889 18 832 9e-133 432 CP131_DANRE reviewed Centrosomal protein of 131 kDa (5-azacytidine-induced protein 1) cep131 azi1 Danio rerio (Zebrafish) (Brachydanio rerio) 1113 cell differentiation [GO:0030154]; cilium morphogenesis [GO:0060271]; epithelial cilium movement involved in determination of left/right asymmetry [GO:0060287]; intraciliary retrograde transport [GO:0035721]; intraciliary transport involved in cilium morphogenesis [GO:0035735]; Kupffer's vesicle development [GO:0070121]; melanosome transport [GO:0032402]; negative regulation of intracellular protein transport [GO:0090317]; regulation of centrosome duplication [GO:0010824]; sensory perception of light stimulus [GO:0050953] GO:0000775; GO:0005929; GO:0010824; GO:0030154; GO:0032402; GO:0034451; GO:0035721; GO:0035735; GO:0050953; GO:0060271; GO:0060287; GO:0070121; GO:0090317\r\n",
      "W8W138 cds.comp152282_c0_seq1 sp BACE_STRPU 47.32 112 43 4 1 101 410 516 1e-21 92.8 BACE_STRPU reviewed Beta-secretase (EC 3.4.23.-) BACE Strongylocentrotus purpuratus (Purple sea urchin) 540 GO:0004190; GO:0016021 PF00026;\r\n"
     ]
    }
   ],
   "source": [
    "!join -1 3 -2 1 \\\n",
    "/Users/sr320/git-repos/paper-Geoduck-proteomic/analyses/Pgen-v3_uniprot.tab2 \\\n",
    "/Users/sr320/data-genomic/uniprot/uniprot-all0916.tab.sorted | head"
   ]
  },
  {
   "cell_type": "markdown",
   "metadata": {},
   "source": [
    "# Gigaton"
   ]
  },
  {
   "cell_type": "code",
   "execution_count": 23,
   "metadata": {
    "collapsed": false
   },
   "outputs": [
    {
     "name": "stdout",
     "output_type": "stream",
     "text": [
      "40637\r\n"
     ]
    }
   ],
   "source": [
    "!fgrep -c \">\" /Users/sr320/git-repos/paper-Geoduck-proteomic/data/GIGATON-contigs.fasta.transdecoder.pep"
   ]
  },
  {
   "cell_type": "code",
   "execution_count": 26,
   "metadata": {
    "collapsed": false
   },
   "outputs": [
    {
     "name": "stdout",
     "output_type": "stream",
     "text": [
      "\n",
      "\n",
      "Building a new DB, current time: 09/16/2016 15:46:17\n",
      "New DB name:   /Users/sr320/git-repos/paper-Geoduck-proteomic/data/GIGATON-pep\n",
      "New DB title:  /Users/sr320/git-repos/paper-Geoduck-proteomic/data/GIGATON-contigs.fasta.transdecoder.pep\n",
      "Sequence type: Protein\n",
      "Keep Linkouts: T\n",
      "Keep MBits: T\n",
      "Maximum file size: 1000000000B\n",
      "Adding sequences from FASTA; added 40637 sequences in 1.55343 seconds.\n"
     ]
    }
   ],
   "source": [
    "!makeblastdb \\\n",
    "-in /Users/sr320/git-repos/paper-Geoduck-proteomic/data/GIGATON-contigs.fasta.transdecoder.pep \\\n",
    "-dbtype prot \\\n",
    "-out /Users/sr320/git-repos/paper-Geoduck-proteomic/data/GIGATON-pep"
   ]
  },
  {
   "cell_type": "code",
   "execution_count": null,
   "metadata": {
    "collapsed": true
   },
   "outputs": [],
   "source": [
    "!blastp \\\n",
    "-query ../Supplemental-files/S1-Pgenerosa-gonad-protein-v3.fa \\\n",
    "-db /Users/sr320/git-repos/paper-Geoduck-proteomic/data/GIGATON-pep \\\n",
    "-evalue 1e-20 \\\n",
    "-max_target_seqs 1 \\\n",
    "-max_hsps 1 \\\n",
    "-outfmt 6 \\\n",
    "-num_threads 6 \\\n",
    "-out /Users/sr320/git-repos/paper-Geoduck-proteomic/analyses/Pgen-v3_GIGATON.tab"
   ]
  },
  {
   "cell_type": "code",
   "execution_count": null,
   "metadata": {
    "collapsed": true
   },
   "outputs": [],
   "source": [
    "!head /Users/sr320/git-repos/paper-Geoduck-proteomic/analyses/Pgen-v3_GIGATON.tab"
   ]
  },
  {
   "cell_type": "code",
   "execution_count": null,
   "metadata": {
    "collapsed": true
   },
   "outputs": [],
   "source": [
    "!wc -l /Users/sr320/git-repos/paper-Geoduck-proteomic/analyses/Pgen-v3_GIGATON.tab"
   ]
  },
  {
   "cell_type": "code",
   "execution_count": null,
   "metadata": {
    "collapsed": true
   },
   "outputs": [],
   "source": []
  }
 ],
 "metadata": {
  "kernelspec": {
   "display_name": "Python 2",
   "language": "python",
   "name": "python2"
  },
  "language_info": {
   "codemirror_mode": {
    "name": "ipython",
    "version": 2
   },
   "file_extension": ".py",
   "mimetype": "text/x-python",
   "name": "python",
   "nbconvert_exporter": "python",
   "pygments_lexer": "ipython2",
   "version": "2.7.11"
  }
 },
 "nbformat": 4,
 "nbformat_minor": 0
}
