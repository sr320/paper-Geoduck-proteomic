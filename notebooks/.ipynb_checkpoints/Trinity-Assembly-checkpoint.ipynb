{
 "cells": [
  {
   "cell_type": "markdown",
   "metadata": {
    "button": false,
    "deletable": true,
    "new_sheet": false,
    "run_control": {
     "read_only": false
    }
   },
   "source": [
    "Trinity Assembly on hummingbird."
   ]
  },
  {
   "cell_type": "markdown",
   "metadata": {
    "button": false,
    "deletable": true,
    "new_sheet": false,
    "run_control": {
     "read_only": false
    }
   },
   "source": [
    "```\n",
    "Trinity.pl \\\n",
    "--seqType fq \\\n",
    "-JM 24G \\\n",
    "--left /Volumes/web/cnidarian/Geo_Pool_F_GGCTAC_L006_R1_001_val_1.fq /Volumes/web/cnidarian/Geo_Pool_M_CTTGTA_L006_R1_001_val_1.fq \\\n",
    "--right /Volumes/web/cnidarian//Geo_Pool_F_GGCTAC_L006_R2_001_val_2.fq /Volumes/web/cnidarian//Geo_Pool_M_CTTGTA_L006_R2_001_val_2.fq \\\n",
    "--CPU 16 \n",
    "```"
   ]
  },
  {
   "cell_type": "markdown",
   "metadata": {
    "button": false,
    "deletable": true,
    "new_sheet": false,
    "run_control": {
     "read_only": false
    }
   },
   "source": [
    "(little concerned on `cnidarian//Geo`)"
   ]
  },
  {
   "cell_type": "code",
   "execution_count": 1,
   "metadata": {
    "button": false,
    "collapsed": false,
    "deletable": true,
    "new_sheet": false,
    "run_control": {
     "read_only": false
    }
   },
   "outputs": [
    {
     "name": "stdout",
     "output_type": "stream",
     "text": [
      ">comp7_c0_seq1 len=210 path=[5085:0-45 297:46-209]\r\n",
      "TTAACCAAGGTGTGACGCCGACGCAAGGGTGAGTAGAATAGCTCTGTTTATTATCCGAAT\r\n",
      "AGTCGAGCTAAAAACACAAAGAATAAAGGTTTAACAGTTCTATCTGAAATATATATTTGG\r\n",
      "ATATCTATTGGTAAGGATACGTTTTATATTAAAAACAAACAATTTATAAAGCGCTCTCGC\r\n",
      "ACCTTGTTTTTGCATTATGAGCATATACAT\r\n",
      ">comp30_c0_seq1 len=201 path=[6353:0-200]\r\n",
      "AAGAAAATTGATTTGAAATTGACTCTGCTTGAATAGAAAAAAATGTTTTGTTCTTTTTTT\r\n",
      "CGAAGTGTAAATTGTAAATTACTTTATTAAAAAATTCATAGTTTCCGGGCAAGTTATTTT\r\n",
      "TAATATATTGTAAATGTTGTCATTCAGAGGTTTGTTACGAATATATTGTTTGACAGACAT\r\n",
      "GCTACTGTTGTACTACTATTG\r\n"
     ]
    }
   ],
   "source": [
    "!head /Volumes/web-1/cnidarian/Geo-trinity/trinity_out_dir/Trinity.fasta"
   ]
  },
  {
   "cell_type": "code",
   "execution_count": 3,
   "metadata": {
    "button": false,
    "collapsed": false,
    "deletable": true,
    "new_sheet": false,
    "run_control": {
     "read_only": false
    }
   },
   "outputs": [
    {
     "name": "stdout",
     "output_type": "stream",
     "text": [
      "Statistics:\r\n",
      "===========\r\n",
      "Trinity Version:      Trinityrnaseq_r20131110\r\n",
      "Compiler:             Intel\r\n",
      "Trinity Parameters:   --seqType fq --JM 24G --left /Volumes/web/cnidarian/Geo_Pool_F_GGCTAC_L006_R1_001_val_1.fq /Volumes/web/cnidarian/Geo_Pool_M_CTTGTA_L006_R1_001_val_1.fq --right /Volumes/web/cnidarian//Geo_Pool_F_GGCTAC_L006_R2_001_val_2.fq /Volumes/web/cnidarian//Geo_Pool_M_CTTGTA_L006_R2_001_val_2.fq --CPU 16\r\n",
      "Paired mode\r\n",
      " Input data\r\n",
      "  Left.fasta    27435 MByte\r\n",
      "  Right.fasta   27368 MByte\r\n",
      "  Number of unique KMERs: 461172800\r\n",
      "  Number of reads:        0 Output data\r\n",
      "  Trinity.fasta 125 MByte\r\n",
      "\r\n",
      "Runtime\r\n",
      "=======\r\n",
      "Start:       Thu Jul  2 14:11:21 PDT 2015\r\n",
      "End:         Wed Jul  8 16:52:46 PDT 2015\r\n",
      "Trinity.pl   528085 seconds\r\n",
      "  Inchworm   13565 seconds\r\n",
      "  Chrysalis  215922 seconds\r\n",
      "  Butterfly  280086 seconds\r\n",
      "  Rest       18512 seconds\r\n"
     ]
    }
   ],
   "source": [
    "!cat /Volumes/web-1/cnidarian/Geo-trinity/trinity_out_dir/Trinity.timing"
   ]
  },
  {
   "cell_type": "code",
   "execution_count": 7,
   "metadata": {
    "button": false,
    "collapsed": false,
    "deletable": true,
    "new_sheet": false,
    "run_control": {
     "read_only": false
    }
   },
   "outputs": [
    {
     "name": "stdout",
     "output_type": "stream",
     "text": [
      "\r\n",
      "0:999 \t127840\r\n",
      "1000:1999 \t18164\r\n",
      "2000:2999 \t5321\r\n",
      "3000:3999 \t1817\r\n",
      "4000:4999 \t762\r\n",
      "5000:5999 \t291\r\n",
      "6000:6999 \t135\r\n",
      "7000:7999 \t73\r\n",
      "8000:8999 \t22\r\n",
      "9000:9999 \t29\r\n",
      "10000:10999 \t4\r\n",
      "11000:11999 \t5\r\n",
      "12000:12999 \t3\r\n",
      "13000:13999 \t4\r\n",
      "14000:14999 \t4\r\n",
      "15000:15999 \t3\r\n",
      "16000:16999 \t0\r\n",
      "17000:17999 \t2\r\n",
      "18000:18999 \t1\r\n",
      "\r\n",
      "Total length of sequence:\t101862868 bp\r\n",
      "Total number of sequences:\t154480\r\n",
      "N25 stats:\t\t\t25% of total sequence length is contained in the 8095 sequences >= 2045 bp\r\n",
      "N50 stats:\t\t\t50% of total sequence length is contained in the 26158 sequences >= 1014 bp\r\n",
      "N75 stats:\t\t\t75% of total sequence length is contained in the 64574 sequences >= 446 bp\r\n",
      "Total GC count:\t\t\t37657770 bp\r\n",
      "GC %:\t\t\t\t36.97 %\r\n",
      "\r\n"
     ]
    }
   ],
   "source": [
    "!perl script-box/count_fasta.pl -i 1000 /Volumes/web-1/cnidarian/Geo-trinity/trinity_out_dir/Trinity.fasta"
   ]
  },
  {
   "cell_type": "markdown",
   "metadata": {
    "button": false,
    "deletable": true,
    "new_sheet": false,
    "run_control": {
     "read_only": false
    }
   },
   "source": [
    "#Transcoder"
   ]
  },
  {
   "cell_type": "code",
   "execution_count": 8,
   "metadata": {
    "button": false,
    "collapsed": false,
    "deletable": true,
    "new_sheet": false,
    "run_control": {
     "read_only": false
    }
   },
   "outputs": [
    {
     "name": "stdout",
     "output_type": "stream",
     "text": [
      ">comp100047_c0_seq2|m.5982 comp100047_c0_seq2|g.5982  ORF comp100047_c0_seq2|g.5982 comp100047_c0_seq2|m.5982 type:internal len:142 (-) comp100047_c0_seq2:3-425(-)\r\n",
      "AATGCAGAATGCAGAGATCTATATAAAATCTTCACACAAATATTGTCAGTGAGATCACAG\r\n",
      "GAGGGGAAAATTGTGATTCCTGATGAATTTGCAACCAAAATAAGAAACTGGCTGGGAAAC\r\n",
      "AAAGAGGAACTTTTCAAGGAAGCACATAATCAGAAAATCATAACATTTTACAATGAATAC\r\n",
      "ACAAGAGAGGAGAACACATTCAACCCTATACGTGGCAAACGTCCGATGTCAGTGCCTGAT\r\n",
      "ATGCCTGAGAGGAAGTACATAGATCAGTTATCACGTAAGACCCAGTCACAGTGTGACTTC\r\n",
      "TGCAAGTACAAGACGTTTACAGCAGAGGACACATTCGGAAGGATTGACAGTAACTTCTCG\r\n",
      "TGTAGTGCATCAAATGCCTTCAAACTTGACCACTGGCATGCTCTATTTCTGTTGAAGACT\r\n",
      "CAC\r\n",
      ">comp100068_c0_seq1|m.5983 comp100068_c0_seq1|g.5983  ORF comp100068_c0_seq1|g.5983 comp100068_c0_seq1|m.5983 type:internal len:106 (-) comp100068_c0_seq1:1-315(-)\r\n"
     ]
    }
   ],
   "source": [
    "!head /Volumes/web-1/cnidarian/Geo-trinity/Trinity.fasta.transdecoder.cds"
   ]
  },
  {
   "cell_type": "code",
   "execution_count": 14,
   "metadata": {
    "button": false,
    "collapsed": false,
    "deletable": true,
    "new_sheet": false,
    "run_control": {
     "read_only": false
    }
   },
   "outputs": [
    {
     "name": "stdout",
     "output_type": "stream",
     "text": [
      "36003\r\n"
     ]
    }
   ],
   "source": [
    "!fgrep -c \">\" /Volumes/web-1/cnidarian/Geo-trinity/Trinity.fasta.transdecoder.pep"
   ]
  },
  {
   "cell_type": "code",
   "execution_count": 9,
   "metadata": {
    "button": false,
    "collapsed": false,
    "deletable": true,
    "new_sheet": false,
    "run_control": {
     "read_only": false
    }
   },
   "outputs": [
    {
     "name": "stdout",
     "output_type": "stream",
     "text": [
      ">cds.comp100047_c0_seq2|m.5982 comp100047_c0_seq2|g.5982  ORF comp100047_c0_seq2|g.5982 comp100047_c0_seq2|m.5982 type:internal len:142 (-) comp100047_c0_seq2:3-425(-)\r\n",
      "NAECRDLYKIFTQILSVRSQEGKIVIPDEFATKIRNWLGNKEELFKEAHNQKIITFYNEY\r\n",
      "TREENTFNPIRGKRPMSVPDMPERKYIDQLSRKTQSQCDFCKYKTFTAEDTFGRIDSNFS\r\n",
      "CSASNAFKLDHWHALFLLKTH\r\n",
      ">cds.comp100068_c0_seq1|m.5983 comp100068_c0_seq1|g.5983  ORF comp100068_c0_seq1|g.5983 comp100068_c0_seq1|m.5983 type:internal len:106 (-) comp100068_c0_seq1:1-315(-)\r\n",
      "LFLDKSGKRICSFNNLTAVIEKATERASRIRLAKGLSQPKYLSCGNVDKVPAPGYLTASF\r\n",
      "TQLSVNKTRKDKGRNHLLLWDQTSSYSYIGPGIHYKDGKIRVNTT\r\n",
      ">cds.comp100097_c2_seq1|m.5984 comp100097_c2_seq1|g.5984  ORF comp100097_c2_seq1|g.5984 comp100097_c2_seq1|m.5984 type:internal len:227 (+) comp100097_c2_seq1:2-679(+)\r\n",
      "GTENLRICLKVIETYLLLGPREFLELYSGDLVHSLSNLLSDLRTEGVLLVLRVIELVLKS\r\n",
      "FPTEGPALFKSMLPEFLRAVLNKDEHPVVMSLYLTLFGRIVLQNQEFFWNFLDQMAMESH\r\n"
     ]
    }
   ],
   "source": [
    "!head /Volumes/web-1/cnidarian/Geo-trinity/Trinity.fasta.transdecoder.pep"
   ]
  },
  {
   "cell_type": "code",
   "execution_count": 10,
   "metadata": {
    "button": false,
    "collapsed": false,
    "deletable": true,
    "new_sheet": false,
    "run_control": {
     "read_only": false
    }
   },
   "outputs": [
    {
     "name": "stdout",
     "output_type": "stream",
     "text": [
      "track name='Trinity.fasta.transdecoder.gff3'\r\n",
      "comp100047_c0_seq2\t0\t425\tID=comp100047_c0_seq2|m.5982;comp100047_c0_seq2|g.5982;ORF_comp100047_c0_seq2|g.5982_comp100047_c0_seq2|m.5982_type:internal_len:142_(-)\t0\t-\t2\t425\t.\t1\t425\t0\r\n",
      "comp100068_c0_seq1\t0\t317\tID=comp100068_c0_seq1|m.5983;comp100068_c0_seq1|g.5983;ORF_comp100068_c0_seq1|g.5983_comp100068_c0_seq1|m.5983_type:internal_len:106_(-)\t0\t-\t0\t315\t.\t1\t317\t0\r\n",
      "comp100097_c2_seq1\t0\t679\tID=comp100097_c2_seq1|m.5984;comp100097_c2_seq1|g.5984;ORF_comp100097_c2_seq1|g.5984_comp100097_c2_seq1|m.5984_type:internal_len:227_(+)\t0\t+\t1\t679\t.\t1\t679\t0\r\n",
      "comp100100_c0_seq1\t0\t1280\tID=comp100100_c0_seq1|m.5985;comp100100_c0_seq1|g.5985;ORF_comp100100_c0_seq1|g.5985_comp100100_c0_seq1|m.5985_type:5prime_partial_len:390_(-)\t0\t-\t108\t1278\t.\t1\t1280\t0\r\n",
      "comp100100_c0_seq2\t0\t668\tID=comp100100_c0_seq2|m.5986;comp100100_c0_seq2|g.5986;ORF_comp100100_c0_seq2|g.5986_comp100100_c0_seq2|m.5986_type:internal_len:223_(-)\t0\t-\t0\t666\t.\t1\t668\t0\r\n",
      "comp100104_c0_seq1\t0\t1154\tID=comp100104_c0_seq1|m.5987;comp100104_c0_seq1|g.5987;ORF_comp100104_c0_seq1|g.5987_comp100104_c0_seq1|m.5987_type:internal_len:385_(-)\t0\t-\t1\t1153\t.\t1\t1154\t0\r\n",
      "comp100104_c1_seq1\t0\t422\tID=comp100104_c1_seq1|m.5988;comp100104_c1_seq1|g.5988;ORF_comp100104_c1_seq1|g.5988_comp100104_c1_seq1|m.5988_type:internal_len:141_(+)\t0\t+\t1\t421\t.\t1\t422\t0\r\n",
      "comp100104_c3_seq1\t0\t407\tID=comp100104_c3_seq1|m.5990;comp100104_c3_seq1|g.5990;ORF_comp100104_c3_seq1|g.5990_comp100104_c3_seq1|m.5990_type:3prime_partial_len:136_(+)\t0\t+\t0\t405\t.\t1\t407\t0\r\n",
      "comp100105_c0_seq1\t0\t863\tID=comp100105_c0_seq1|m.5991;comp100105_c0_seq1|g.5991;ORF_comp100105_c0_seq1|g.5991_comp100105_c0_seq1|m.5991_type:5prime_partial_len:283_(-)\t0\t-\t12\t861\t.\t1\t863\t0\r\n"
     ]
    }
   ],
   "source": [
    "!head /Volumes/web-1/cnidarian/Geo-trinity/Trinity.fasta.transdecoder.bed"
   ]
  },
  {
   "cell_type": "code",
   "execution_count": 11,
   "metadata": {
    "button": false,
    "collapsed": false,
    "deletable": true,
    "new_sheet": false,
    "run_control": {
     "read_only": false
    }
   },
   "outputs": [
    {
     "name": "stdout",
     "output_type": "stream",
     "text": [
      "comp100047_c0_seq2\ttransdecoder\tgene\t1\t425\t.\t-\t.\tID=comp100047_c0_seq2|g.5982;Name=ORF%20comp100047_c0_seq2%7Cg.5982%20comp100047_c0_seq2%7Cm.5982%20type%3Ainternal%20len%3A142%20%28-%29\r\n",
      "comp100047_c0_seq2\ttransdecoder\tmRNA\t1\t425\t.\t-\t.\tID=comp100047_c0_seq2|m.5982;Parent=comp100047_c0_seq2|g.5982;Name=ORF%20comp100047_c0_seq2%7Cg.5982%20comp100047_c0_seq2%7Cm.5982%20type%3Ainternal%20len%3A142%20%28-%29\r\n",
      "comp100047_c0_seq2\ttransdecoder\texon\t1\t425\t.\t-\t.\tID=comp100047_c0_seq2|m.5982.exon1;Parent=comp100047_c0_seq2|m.5982\r\n",
      "comp100047_c0_seq2\ttransdecoder\tCDS\t3\t425\t.\t-\t.\tID=cds.comp100047_c0_seq2|m.5982;Parent=comp100047_c0_seq2|m.5982\r\n",
      "\r\n",
      "comp100068_c0_seq1\ttransdecoder\tgene\t1\t317\t.\t-\t.\tID=comp100068_c0_seq1|g.5983;Name=ORF%20comp100068_c0_seq1%7Cg.5983%20comp100068_c0_seq1%7Cm.5983%20type%3Ainternal%20len%3A106%20%28-%29\r\n",
      "comp100068_c0_seq1\ttransdecoder\tmRNA\t1\t317\t.\t-\t.\tID=comp100068_c0_seq1|m.5983;Parent=comp100068_c0_seq1|g.5983;Name=ORF%20comp100068_c0_seq1%7Cg.5983%20comp100068_c0_seq1%7Cm.5983%20type%3Ainternal%20len%3A106%20%28-%29\r\n",
      "comp100068_c0_seq1\ttransdecoder\texon\t1\t317\t.\t-\t.\tID=comp100068_c0_seq1|m.5983.exon1;Parent=comp100068_c0_seq1|m.5983\r\n",
      "comp100068_c0_seq1\ttransdecoder\tCDS\t1\t315\t.\t-\t.\tID=cds.comp100068_c0_seq1|m.5983;Parent=comp100068_c0_seq1|m.5983\r\n",
      "\r\n"
     ]
    }
   ],
   "source": [
    "!head /Volumes/web-1/cnidarian/Geo-trinity/Trinity.fasta.transdecoder.gff3"
   ]
  },
  {
   "cell_type": "code",
   "execution_count": null,
   "metadata": {
    "button": false,
    "collapsed": true,
    "deletable": true,
    "new_sheet": false,
    "run_control": {
     "read_only": false
    }
   },
   "outputs": [],
   "source": []
  }
 ],
 "metadata": {
  "kernelspec": {
   "display_name": "Local Python",
   "language": "python",
   "name": "local"
  },
  "language_info": {
   "codemirror_mode": {
    "name": "ipython",
    "version": 2
   },
   "file_extension": ".py",
   "mimetype": "text/x-python",
   "name": "python",
   "nbconvert_exporter": "python",
   "pygments_lexer": "ipython2",
   "version": "2.7.10"
  }
 },
 "nbformat": 4,
 "nbformat_minor": 0
}
