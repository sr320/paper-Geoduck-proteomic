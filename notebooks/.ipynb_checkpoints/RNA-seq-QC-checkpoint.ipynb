{
 "cells": [
  {
   "cell_type": "markdown",
   "metadata": {},
   "source": [
    "#Quality trimming RNA-seq Data"
   ]
  },
  {
   "cell_type": "code",
   "execution_count": 1,
   "metadata": {
    "collapsed": false
   },
   "outputs": [
    {
     "name": "stdout",
     "output_type": "stream",
     "text": [
      "/Users/sr320/data-genomic/tentacle\n"
     ]
    }
   ],
   "source": [
    "cd /Users/sr320/data-genomic/tentacle"
   ]
  },
  {
   "cell_type": "code",
   "execution_count": 3,
   "metadata": {
    "collapsed": false
   },
   "outputs": [
    {
     "name": "stdout",
     "output_type": "stream",
     "text": [
      "  % Total    % Received % Xferd  Average Speed   Time    Time     Time  Current\n",
      "                                 Dload  Upload   Total   Spent    Left  Speed\n",
      "100 9465M  100 9465M    0     0  66.6M      0  0:02:21  0:02:21 --:--:-- 76.4M\n"
     ]
    }
   ],
   "source": [
    "!curl -O http://owl.fish.washington.edu/nightingales/P_generosa/Geo_Pool_F_GGCTAC_L006_R1_001.fastq.gz"
   ]
  },
  {
   "cell_type": "code",
   "execution_count": 6,
   "metadata": {
    "collapsed": false
   },
   "outputs": [
    {
     "name": "stdout",
     "output_type": "stream",
     "text": [
      "  % Total    % Received % Xferd  Average Speed   Time    Time     Time  Current\n",
      "                                 Dload  Upload   Total   Spent    Left  Speed\n",
      "100 9566M  100 9566M    0     0  69.4M      0  0:02:17  0:02:17 --:--:-- 55.7M\n"
     ]
    }
   ],
   "source": [
    "!curl -O http://owl.fish.washington.edu/nightingales/P_generosa/Geo_Pool_F_GGCTAC_L006_R2_001.fastq.gz"
   ]
  },
  {
   "cell_type": "code",
   "execution_count": 5,
   "metadata": {
    "collapsed": false
   },
   "outputs": [
    {
     "name": "stdout",
     "output_type": "stream",
     "text": [
      "  % Total    % Received % Xferd  Average Speed   Time    Time     Time  Current\n",
      "                                 Dload  Upload   Total   Spent    Left  Speed\n",
      "100 10.4G  100 10.4G    0     0  71.6M      0  0:02:29  0:02:29 --:--:-- 75.8M\n"
     ]
    }
   ],
   "source": [
    "!curl -O http://owl.fish.washington.edu/nightingales/P_generosa/Geo_Pool_M_CTTGTA_L006_R1_001.fastq.gz"
   ]
  },
  {
   "cell_type": "code",
   "execution_count": 7,
   "metadata": {
    "collapsed": false
   },
   "outputs": [
    {
     "name": "stdout",
     "output_type": "stream",
     "text": [
      "  % Total    % Received % Xferd  Average Speed   Time    Time     Time  Current\n",
      "                                 Dload  Upload   Total   Spent    Left  Speed\n",
      "100 10.6G  100 10.6G    0     0  70.8M      0  0:02:34  0:02:34 --:--:-- 69.1M\n"
     ]
    }
   ],
   "source": [
    "!curl -O http://owl.fish.washington.edu/nightingales/P_generosa/Geo_Pool_M_CTTGTA_L006_R2_001.fastq.gz"
   ]
  },
  {
   "cell_type": "code",
   "execution_count": 14,
   "metadata": {
    "collapsed": false
   },
   "outputs": [
    {
     "name": "stdout",
     "output_type": "stream",
     "text": [
      "Started analysis of Geo_Pool_F_GGCTAC_L006_R1_001.fastq.gz\n",
      "Approx 5% complete for Geo_Pool_F_GGCTAC_L006_R1_001.fastq.gz\n",
      "Approx 10% complete for Geo_Pool_F_GGCTAC_L006_R1_001.fastq.gz\n",
      "Approx 15% complete for Geo_Pool_F_GGCTAC_L006_R1_001.fastq.gz\n",
      "Approx 20% complete for Geo_Pool_F_GGCTAC_L006_R1_001.fastq.gz\n",
      "Approx 25% complete for Geo_Pool_F_GGCTAC_L006_R1_001.fastq.gz\n",
      "Approx 30% complete for Geo_Pool_F_GGCTAC_L006_R1_001.fastq.gz\n",
      "Approx 35% complete for Geo_Pool_F_GGCTAC_L006_R1_001.fastq.gz\n",
      "Approx 40% complete for Geo_Pool_F_GGCTAC_L006_R1_001.fastq.gz\n",
      "Approx 45% complete for Geo_Pool_F_GGCTAC_L006_R1_001.fastq.gz\n",
      "Approx 50% complete for Geo_Pool_F_GGCTAC_L006_R1_001.fastq.gz\n",
      "Approx 55% complete for Geo_Pool_F_GGCTAC_L006_R1_001.fastq.gz\n",
      "Approx 60% complete for Geo_Pool_F_GGCTAC_L006_R1_001.fastq.gz\n",
      "Approx 65% complete for Geo_Pool_F_GGCTAC_L006_R1_001.fastq.gz\n",
      "Approx 70% complete for Geo_Pool_F_GGCTAC_L006_R1_001.fastq.gz\n",
      "Approx 75% complete for Geo_Pool_F_GGCTAC_L006_R1_001.fastq.gz\n",
      "Approx 80% complete for Geo_Pool_F_GGCTAC_L006_R1_001.fastq.gz\n",
      "Approx 85% complete for Geo_Pool_F_GGCTAC_L006_R1_001.fastq.gz\n",
      "Approx 90% complete for Geo_Pool_F_GGCTAC_L006_R1_001.fastq.gz\n",
      "Approx 95% complete for Geo_Pool_F_GGCTAC_L006_R1_001.fastq.gz\n",
      "Analysis complete for Geo_Pool_F_GGCTAC_L006_R1_001.fastq.gz\n"
     ]
    }
   ],
   "source": [
    "!/Applications/bioinfo/FastQC/fastqc \\\n",
    "Geo_Pool_F_GGCTAC_L006_R1_001.fastq.gz \\\n",
    "-o /Users/sr320/data-genomic/tentacle/"
   ]
  },
  {
   "cell_type": "code",
   "execution_count": 15,
   "metadata": {
    "collapsed": false
   },
   "outputs": [
    {
     "name": "stdout",
     "output_type": "stream",
     "text": [
      "Started analysis of Geo_Pool_F_GGCTAC_L006_R2_001.fastq.gz\n",
      "Approx 5% complete for Geo_Pool_F_GGCTAC_L006_R2_001.fastq.gz\n",
      "Approx 10% complete for Geo_Pool_F_GGCTAC_L006_R2_001.fastq.gz\n",
      "Approx 15% complete for Geo_Pool_F_GGCTAC_L006_R2_001.fastq.gz\n",
      "Approx 20% complete for Geo_Pool_F_GGCTAC_L006_R2_001.fastq.gz\n",
      "Approx 25% complete for Geo_Pool_F_GGCTAC_L006_R2_001.fastq.gz\n",
      "Approx 30% complete for Geo_Pool_F_GGCTAC_L006_R2_001.fastq.gz\n",
      "Approx 35% complete for Geo_Pool_F_GGCTAC_L006_R2_001.fastq.gz\n",
      "Approx 40% complete for Geo_Pool_F_GGCTAC_L006_R2_001.fastq.gz\n",
      "Approx 45% complete for Geo_Pool_F_GGCTAC_L006_R2_001.fastq.gz\n",
      "Approx 50% complete for Geo_Pool_F_GGCTAC_L006_R2_001.fastq.gz\n",
      "Approx 55% complete for Geo_Pool_F_GGCTAC_L006_R2_001.fastq.gz\n",
      "Approx 60% complete for Geo_Pool_F_GGCTAC_L006_R2_001.fastq.gz\n",
      "Approx 65% complete for Geo_Pool_F_GGCTAC_L006_R2_001.fastq.gz\n",
      "Approx 70% complete for Geo_Pool_F_GGCTAC_L006_R2_001.fastq.gz\n",
      "Approx 75% complete for Geo_Pool_F_GGCTAC_L006_R2_001.fastq.gz\n",
      "Approx 80% complete for Geo_Pool_F_GGCTAC_L006_R2_001.fastq.gz\n",
      "Approx 85% complete for Geo_Pool_F_GGCTAC_L006_R2_001.fastq.gz\n",
      "Approx 90% complete for Geo_Pool_F_GGCTAC_L006_R2_001.fastq.gz\n",
      "Approx 95% complete for Geo_Pool_F_GGCTAC_L006_R2_001.fastq.gz\n",
      "Analysis complete for Geo_Pool_F_GGCTAC_L006_R2_001.fastq.gz\n"
     ]
    }
   ],
   "source": [
    "!/Applications/bioinfo/FastQC/fastqc \\\n",
    "Geo_Pool_F_GGCTAC_L006_R2_001.fastq.gz \\\n",
    "-o /Users/sr320/data-genomic/tentacle/"
   ]
  },
  {
   "cell_type": "code",
   "execution_count": 16,
   "metadata": {
    "collapsed": false
   },
   "outputs": [
    {
     "name": "stdout",
     "output_type": "stream",
     "text": [
      "/bin/sh: -o: command not found\n",
      "Started analysis of Geo_Pool_M_CTTGTA_L006_R1_001.fastq.gz\n",
      "Approx 5% complete for Geo_Pool_M_CTTGTA_L006_R1_001.fastq.gz\n",
      "Approx 10% complete for Geo_Pool_M_CTTGTA_L006_R1_001.fastq.gz\n",
      "Approx 15% complete for Geo_Pool_M_CTTGTA_L006_R1_001.fastq.gz\n",
      "Approx 20% complete for Geo_Pool_M_CTTGTA_L006_R1_001.fastq.gz\n",
      "Approx 25% complete for Geo_Pool_M_CTTGTA_L006_R1_001.fastq.gz\n",
      "Approx 30% complete for Geo_Pool_M_CTTGTA_L006_R1_001.fastq.gz\n",
      "Approx 35% complete for Geo_Pool_M_CTTGTA_L006_R1_001.fastq.gz\n",
      "Approx 40% complete for Geo_Pool_M_CTTGTA_L006_R1_001.fastq.gz\n",
      "Approx 45% complete for Geo_Pool_M_CTTGTA_L006_R1_001.fastq.gz\n",
      "Approx 50% complete for Geo_Pool_M_CTTGTA_L006_R1_001.fastq.gz\n",
      "Approx 55% complete for Geo_Pool_M_CTTGTA_L006_R1_001.fastq.gz\n",
      "Approx 60% complete for Geo_Pool_M_CTTGTA_L006_R1_001.fastq.gz\n",
      "Approx 65% complete for Geo_Pool_M_CTTGTA_L006_R1_001.fastq.gz\n",
      "Approx 70% complete for Geo_Pool_M_CTTGTA_L006_R1_001.fastq.gz\n",
      "Approx 75% complete for Geo_Pool_M_CTTGTA_L006_R1_001.fastq.gz\n",
      "Approx 80% complete for Geo_Pool_M_CTTGTA_L006_R1_001.fastq.gz\n",
      "Approx 85% complete for Geo_Pool_M_CTTGTA_L006_R1_001.fastq.gz\n",
      "Approx 90% complete for Geo_Pool_M_CTTGTA_L006_R1_001.fastq.gz\n",
      "Approx 95% complete for Geo_Pool_M_CTTGTA_L006_R1_001.fastq.gz\n"
     ]
    }
   ],
   "source": [
    "!/Applications/bioinfo/FastQC/fastqc \\\n",
    "Geo_Pool_M_CTTGTA_L006_R1_001.fastq.gz| \\\n",
    "-o /Users/sr320/data-genomic/tentacle/"
   ]
  },
  {
   "cell_type": "code",
   "execution_count": 17,
   "metadata": {
    "collapsed": false
   },
   "outputs": [
    {
     "name": "stdout",
     "output_type": "stream",
     "text": [
      "/bin/sh: -o: command not found\n",
      "Started analysis of Geo_Pool_M_CTTGTA_L006_R2_001.fastq.gz\n",
      "Approx 5% complete for Geo_Pool_M_CTTGTA_L006_R2_001.fastq.gz\n",
      "Approx 10% complete for Geo_Pool_M_CTTGTA_L006_R2_001.fastq.gz\n",
      "Approx 15% complete for Geo_Pool_M_CTTGTA_L006_R2_001.fastq.gz\n",
      "Approx 20% complete for Geo_Pool_M_CTTGTA_L006_R2_001.fastq.gz\n",
      "Approx 25% complete for Geo_Pool_M_CTTGTA_L006_R2_001.fastq.gz\n",
      "Approx 30% complete for Geo_Pool_M_CTTGTA_L006_R2_001.fastq.gz\n",
      "Approx 35% complete for Geo_Pool_M_CTTGTA_L006_R2_001.fastq.gz\n",
      "Approx 40% complete for Geo_Pool_M_CTTGTA_L006_R2_001.fastq.gz\n",
      "Approx 45% complete for Geo_Pool_M_CTTGTA_L006_R2_001.fastq.gz\n",
      "Approx 50% complete for Geo_Pool_M_CTTGTA_L006_R2_001.fastq.gz\n",
      "Approx 55% complete for Geo_Pool_M_CTTGTA_L006_R2_001.fastq.gz\n",
      "Approx 60% complete for Geo_Pool_M_CTTGTA_L006_R2_001.fastq.gz\n",
      "Approx 65% complete for Geo_Pool_M_CTTGTA_L006_R2_001.fastq.gz\n",
      "Approx 70% complete for Geo_Pool_M_CTTGTA_L006_R2_001.fastq.gz\n",
      "Approx 75% complete for Geo_Pool_M_CTTGTA_L006_R2_001.fastq.gz\n",
      "Approx 80% complete for Geo_Pool_M_CTTGTA_L006_R2_001.fastq.gz\n",
      "Approx 85% complete for Geo_Pool_M_CTTGTA_L006_R2_001.fastq.gz\n",
      "Approx 90% complete for Geo_Pool_M_CTTGTA_L006_R2_001.fastq.gz\n",
      "Approx 95% complete for Geo_Pool_M_CTTGTA_L006_R2_001.fastq.gz\n"
     ]
    }
   ],
   "source": [
    "!/Applications/bioinfo/FastQC/fastqc \\\n",
    "Geo_Pool_M_CTTGTA_L006_R2_001.fastq.gz| \\\n",
    "-o /Users/sr320/data-genomic/tentacle/"
   ]
  },
  {
   "cell_type": "code",
   "execution_count": null,
   "metadata": {
    "collapsed": false
   },
   "outputs": [
    {
     "name": "stdout",
     "output_type": "stream",
     "text": [
      "No quality encoding type selected. Assuming that the data provided uses Sanger encoded Phred scores (default)\n",
      "\n",
      "Path to Cutadapt set as: '/Users/sr320/.local/bin/cutadapt' (user defined)\n",
      "1.8.1\n",
      "Cutadapt seems to be working fine (tested command '/Users/sr320/.local/bin/cutadapt --version')\n",
      "\n",
      "\n",
      "AUTO-DETECTING ADAPTER TYPE\n",
      "===========================\n",
      "Attempting to auto-detect adapter type from the first 1 million sequences of the first file (>> /Users/sr320/data-genomic/tentacle/Geo_Pool_F_GGCTAC_L006_R1_001.fastq <<)\n",
      "\n",
      "Found perfect matches for the following adapter sequences:\n",
      "Adapter type\tCount\tSequence\tSequences analysed\tPercentage\n",
      "Illumina\t7031\tAGATCGGAAGAGC\t1000000\t0.70\n",
      "Nextera\t6\tCTGTCTCTTATA\t1000000\t0.00\n",
      "smallRNA\t3\tATGGAATTCTCG\t1000000\t0.00\n",
      "Using Illumina adapter for trimming (count: 7031). Second best hit was Nextera (count: 6)\n",
      "\n",
      "Writing report to 'Geo_Pool_F_GGCTAC_L006_R1_001.fastq_trimming_report.txt'\n",
      "\n",
      "SUMMARISING RUN PARAMETERS\n",
      "==========================\n",
      "Input filename: /Users/sr320/data-genomic/tentacle/Geo_Pool_F_GGCTAC_L006_R1_001.fastq\n",
      "Trimming mode: single-end\n",
      "Trim Galore version: 0.4.0\n",
      "Cutadapt version: 1.8.1\n",
      "Quality Phred score cutoff: 20\n",
      "Quality encoding type selected: ASCII+33\n",
      "Adapter sequence: 'AGATCGGAAGAGC' (Illumina TruSeq, Sanger iPCR; auto-detected)\n",
      "Maximum trimming error rate: 0.1 (default)\n",
      "Minimum required adapter overlap (stringency): 1 bp\n",
      "Minimum required sequence length before a sequence gets removed: 20 bp\n",
      "Running FastQC on the data once trimming has completed\n",
      "\n",
      "Writing final adapter and quality trimmed output to Geo_Pool_F_GGCTAC_L006_R1_001_trimmed.fq\n",
      "\n",
      "\n",
      "  >>> Now performing quality (cutoff 20) and adapter trimming in a single pass for the adapter sequence: 'AGATCGGAAGAGC' from file /Users/sr320/data-genomic/tentacle/Geo_Pool_F_GGCTAC_L006_R1_001.fastq <<< \n",
      "10000000 sequences processed\n",
      "20000000 sequences processed\n",
      "30000000 sequences processed\n",
      "40000000 sequences processed\n",
      "50000000 sequences processed\n",
      "60000000 sequences processed\n",
      "70000000 sequences processed\n",
      "80000000 sequences processed\n",
      "90000000 sequences processed\n",
      "100000000 sequences processed\n",
      "This is cutadapt 1.8.1 with Python 2.7.10\n",
      "Command line parameters: -f fastq -e 0.1 -q 20 -O 1 -a AGATCGGAAGAGC /Users/sr320/data-genomic/tentacle/Geo_Pool_F_GGCTAC_L006_R1_001.fastq\n",
      "Trimming 1 adapter with at most 10.0% errors in single-end mode ...\n",
      "Finished in 1262.64 s (12 us/read; 4.95 M reads/minute).\n",
      "\n",
      "=== Summary ===\n",
      "\n",
      "Total reads processed:             104,070,998\n",
      "Reads with adapters:                37,295,736 (35.8%)\n",
      "Reads written (passing filters):   104,070,998 (100.0%)\n",
      "\n",
      "Total basepairs processed: 10,511,170,798 bp\n",
      "Quality-trimmed:              60,385,363 bp (0.6%)\n",
      "Total written (filtered):  10,371,962,798 bp (98.7%)\n",
      "\n",
      "=== Adapter 1 ===\n",
      "\n",
      "Sequence: AGATCGGAAGAGC; Type: regular 3'; Length: 13; Trimmed: 37295736 times.\n",
      "\n",
      "No. of allowed errors:\n",
      "0-9 bp: 0; 10-13 bp: 1\n",
      "\n",
      "Bases preceding removed adapters:\n",
      "  A: 33.2%\n",
      "  C: 27.3%\n",
      "  G: 18.0%\n",
      "  T: 21.3%\n",
      "  none/other: 0.2%\n",
      "\n",
      "Overview of removed sequences\n",
      "length\tcount\texpect\tmax.err\terror counts\n",
      "1\t26607903\t26017749.5\t0\t26607903\n",
      "2\t6205626\t6504437.4\t0\t6205626\n",
      "3\t2015304\t1626109.3\t0\t2015304\n",
      "4\t605105\t406527.3\t0\t605105\n",
      "5\t213369\t101631.8\t0\t213369\n",
      "6\t149182\t25408.0\t0\t149182\n",
      "7\t135972\t6352.0\t0\t135972\n",
      "8\t121962\t1588.0\t0\t121962\n",
      "9\t119594\t397.0\t0\t117688 1906\n",
      "10\t105176\t99.2\t1\t102213 2963\n",
      "11\t88007\t24.8\t1\t85816 2191\n",
      "12\t85821\t6.2\t1\t83926 1895\n",
      "13\t67361\t1.6\t1\t65457 1904\n",
      "14\t62670\t1.6\t1\t61353 1317\n",
      "15\t54158\t1.6\t1\t52922 1236\n",
      "16\t52418\t1.6\t1\t50649 1769\n",
      "17\t45872\t1.6\t1\t44547 1325\n",
      "18\t53653\t1.6\t1\t51881 1772\n",
      "19\t32783\t1.6\t1\t31807 976\n",
      "20\t38147\t1.6\t1\t36991 1156\n",
      "21\t33876\t1.6\t1\t32792 1084\n",
      "22\t29957\t1.6\t1\t29027 930\n",
      "23\t26946\t1.6\t1\t25903 1043\n",
      "24\t24287\t1.6\t1\t23345 942\n",
      "25\t20639\t1.6\t1\t19936 703\n",
      "26\t17259\t1.6\t1\t16587 672\n",
      "27\t16749\t1.6\t1\t16162 587\n",
      "28\t16867\t1.6\t1\t16228 639\n",
      "29\t15343\t1.6\t1\t14818 525\n",
      "30\t15312\t1.6\t1\t14839 473\n",
      "31\t11469\t1.6\t1\t11036 433\n",
      "32\t11638\t1.6\t1\t11297 341\n",
      "33\t9508\t1.6\t1\t9202 306\n",
      "34\t9567\t1.6\t1\t9247 320\n",
      "35\t8649\t1.6\t1\t8336 313\n",
      "36\t7529\t1.6\t1\t7227 302\n",
      "37\t7203\t1.6\t1\t6931 272\n",
      "38\t6549\t1.6\t1\t6284 265\n",
      "39\t5949\t1.6\t1\t5672 277\n",
      "40\t6630\t1.6\t1\t6219 411\n",
      "41\t7612\t1.6\t1\t7372 240\n",
      "42\t3156\t1.6\t1\t2969 187\n",
      "43\t4344\t1.6\t1\t4203 141\n",
      "44\t3313\t1.6\t1\t2980 333\n",
      "45\t4063\t1.6\t1\t3670 393\n",
      "46\t3833\t1.6\t1\t3560 273\n",
      "47\t2700\t1.6\t1\t2496 204\n",
      "48\t2610\t1.6\t1\t2426 184\n",
      "49\t2761\t1.6\t1\t2577 184\n",
      "50\t2249\t1.6\t1\t2072 177\n",
      "51\t2525\t1.6\t1\t2172 353\n",
      "52\t2566\t1.6\t1\t2157 409\n",
      "53\t2534\t1.6\t1\t2364 170\n",
      "54\t1290\t1.6\t1\t1091 199\n",
      "55\t1618\t1.6\t1\t1328 290\n",
      "56\t1541\t1.6\t1\t1287 254\n",
      "57\t1607\t1.6\t1\t1360 247\n",
      "58\t1465\t1.6\t1\t1005 460\n",
      "59\t1456\t1.6\t1\t1271 185\n",
      "60\t1376\t1.6\t1\t671 705\n",
      "61\t1132\t1.6\t1\t867 265\n",
      "62\t1482\t1.6\t1\t748 734\n",
      "63\t2263\t1.6\t1\t993 1270\n",
      "64\t1402\t1.6\t1\t752 650\n",
      "65\t1083\t1.6\t1\t436 647\n",
      "66\t1426\t1.6\t1\t509 917\n",
      "67\t2172\t1.6\t1\t580 1592\n",
      "68\t3517\t1.6\t1\t595 2922\n",
      "69\t13060\t1.6\t1\t594 12466\n",
      "70\t12407\t1.6\t1\t1062 11345\n",
      "71\t10499\t1.6\t1\t732 9767\n",
      "72\t6011\t1.6\t1\t498 5513\n",
      "73\t4624\t1.6\t1\t266 4358\n",
      "74\t3658\t1.6\t1\t232 3426\n",
      "75\t909\t1.6\t1\t85 824\n",
      "76\t757\t1.6\t1\t40 717\n",
      "77\t654\t1.6\t1\t19 635\n",
      "78\t449\t1.6\t1\t12 437\n",
      "79\t324\t1.6\t1\t13 311\n",
      "80\t236\t1.6\t1\t11 225\n",
      "81\t160\t1.6\t1\t13 147\n",
      "82\t139\t1.6\t1\t10 129\n",
      "83\t117\t1.6\t1\t21 96\n",
      "84\t115\t1.6\t1\t8 107\n",
      "85\t77\t1.6\t1\t17 60\n",
      "86\t66\t1.6\t1\t17 49\n",
      "87\t59\t1.6\t1\t6 53\n",
      "88\t50\t1.6\t1\t11 39\n",
      "89\t51\t1.6\t1\t6 45\n",
      "90\t41\t1.6\t1\t9 32\n",
      "91\t123\t1.6\t1\t15 108\n",
      "92\t87\t1.6\t1\t7 80\n",
      "93\t70\t1.6\t1\t3 67\n",
      "94\t101\t1.6\t1\t1 100\n",
      "95\t118\t1.6\t1\t3 115\n",
      "96\t352\t1.6\t1\t7 345\n",
      "97\t271\t1.6\t1\t3 268\n",
      "98\t402\t1.6\t1\t3 399\n",
      "99\t679\t1.6\t1\t3 676\n",
      "100\t1933\t1.6\t1\t4 1929\n",
      "101\t6032\t1.6\t1\t14 6018\n",
      "\n",
      "\n",
      "RUN STATISTICS FOR INPUT FILE: /Users/sr320/data-genomic/tentacle/Geo_Pool_F_GGCTAC_L006_R1_001.fastq\n",
      "=============================================\n",
      "104070998 sequences processed in total\n",
      "Sequences removed because they became shorter than the length cutoff of 20 bp:\t159359 (0.2%)\n",
      "\n",
      "\n",
      "  >>> Now running FastQC on the data <<<\n",
      "\n",
      "Can't exec \"fastqc\": No such file or directory at /Applications/bioinfo/trim_galore_zip/trim_galore line 794.\n"
     ]
    }
   ],
   "source": [
    "!/Applications/bioinfo/trim_galore_zip/trim_galore \\\n",
    "--fastqc \\\n",
    "--path_to_cutadapt /Users/sr320/.local/bin/cutadapt \\\n",
    "/Users/sr320/data-genomic/tentacle/Geo_Pool_F_GGCTAC_L006_R1_001.fastq"
   ]
  },
  {
   "cell_type": "code",
   "execution_count": null,
   "metadata": {
    "collapsed": false
   },
   "outputs": [
    {
     "name": "stdout",
     "output_type": "stream",
     "text": [
      "No quality encoding type selected. Assuming that the data provided uses Sanger encoded Phred scores (default)\n",
      "\n",
      "Path to Cutadapt set as: '/Users/sr320/.local/bin/cutadapt' (user defined)\n",
      "1.8.1\n",
      "Cutadapt seems to be working fine (tested command '/Users/sr320/.local/bin/cutadapt --version')\n",
      "\n",
      "\n",
      "AUTO-DETECTING ADAPTER TYPE\n",
      "===========================\n",
      "Attempting to auto-detect adapter type from the first 1 million sequences of the first file (>> /Users/sr320/data-genomic/tentacle/Geo_Pool_F_GGCTAC_L006_R2_001.fastq <<)\n",
      "\n",
      "Found perfect matches for the following adapter sequences:\n",
      "Adapter type\tCount\tSequence\tSequences analysed\tPercentage\n",
      "Illumina\t7004\tAGATCGGAAGAGC\t1000000\t0.70\n",
      "Nextera\t4\tCTGTCTCTTATA\t1000000\t0.00\n",
      "smallRNA\t1\tATGGAATTCTCG\t1000000\t0.00\n",
      "Using Illumina adapter for trimming (count: 7004). Second best hit was Nextera (count: 4)\n",
      "\n",
      "Writing report to 'Geo_Pool_F_GGCTAC_L006_R2_001.fastq_trimming_report.txt'\n",
      "\n",
      "SUMMARISING RUN PARAMETERS\n",
      "==========================\n",
      "Input filename: /Users/sr320/data-genomic/tentacle/Geo_Pool_F_GGCTAC_L006_R2_001.fastq\n",
      "Trimming mode: single-end\n",
      "Trim Galore version: 0.4.0\n",
      "Cutadapt version: 1.8.1\n",
      "Quality Phred score cutoff: 20\n",
      "Quality encoding type selected: ASCII+33\n",
      "Adapter sequence: 'AGATCGGAAGAGC' (Illumina TruSeq, Sanger iPCR; auto-detected)\n",
      "Maximum trimming error rate: 0.1 (default)\n",
      "Minimum required adapter overlap (stringency): 1 bp\n",
      "Minimum required sequence length before a sequence gets removed: 20 bp\n",
      "Running FastQC on the data once trimming has completed\n",
      "\n",
      "Writing final adapter and quality trimmed output to Geo_Pool_F_GGCTAC_L006_R2_001_trimmed.fq\n",
      "\n",
      "\n",
      "  >>> Now performing quality (cutoff 20) and adapter trimming in a single pass for the adapter sequence: 'AGATCGGAAGAGC' from file /Users/sr320/data-genomic/tentacle/Geo_Pool_F_GGCTAC_L006_R2_001.fastq <<< \n",
      "10000000 sequences processed\n"
     ]
    }
   ],
   "source": [
    "!/Applications/bioinfo/trim_galore_zip/trim_galore \\\n",
    "--fastqc \\\n",
    "--path_to_cutadapt /Users/sr320/.local/bin/cutadapt \\\n",
    "/Users/sr320/data-genomic/tentacle/Geo_Pool_F_GGCTAC_L006_R2_001.fastq"
   ]
  },
  {
   "cell_type": "code",
   "execution_count": null,
   "metadata": {
    "collapsed": true
   },
   "outputs": [],
   "source": [
    "!/Applications/bioinfo/trim_galore_zip/trim_galore \\\n",
    "--fastqc \\\n",
    "--path_to_cutadapt /Users/sr320/.local/bin/cutadapt \\\n",
    "Geo_Pool_M_CTTGTA_L006_R1_001.fastq\n",
    "Geo_Pool_M_CTTGTA_L006_R2_001.fastq"
   ]
  },
  {
   "cell_type": "code",
   "execution_count": null,
   "metadata": {
    "collapsed": true
   },
   "outputs": [],
   "source": []
  }
 ],
 "metadata": {
  "kernelspec": {
   "display_name": "Python 2",
   "language": "python",
   "name": "python2"
  },
  "language_info": {
   "codemirror_mode": {
    "name": "ipython",
    "version": 2
   },
   "file_extension": ".py",
   "mimetype": "text/x-python",
   "name": "python",
   "nbconvert_exporter": "python",
   "pygments_lexer": "ipython2",
   "version": "2.7.10"
  }
 },
 "nbformat": 4,
 "nbformat_minor": 0
}
