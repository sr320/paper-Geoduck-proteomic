{
 "cells": [
  {
   "cell_type": "markdown",
   "metadata": {},
   "source": [
    "#Quality trimming RNA-seq Data"
   ]
  },
  {
   "cell_type": "code",
   "execution_count": 1,
   "metadata": {
    "collapsed": false
   },
   "outputs": [
    {
     "name": "stdout",
     "output_type": "stream",
     "text": [
      "/Users/sr320/data-genomic/tentacle\n"
     ]
    }
   ],
   "source": [
    "cd /Users/sr320/data-genomic/tentacle"
   ]
  },
  {
   "cell_type": "code",
   "execution_count": 3,
   "metadata": {
    "collapsed": false
   },
   "outputs": [
    {
     "name": "stdout",
     "output_type": "stream",
     "text": [
      "  % Total    % Received % Xferd  Average Speed   Time    Time     Time  Current\n",
      "                                 Dload  Upload   Total   Spent    Left  Speed\n",
      "100 9465M  100 9465M    0     0  66.6M      0  0:02:21  0:02:21 --:--:-- 76.4M\n"
     ]
    }
   ],
   "source": [
    "!curl -O http://owl.fish.washington.edu/nightingales/P_generosa/Geo_Pool_F_GGCTAC_L006_R1_001.fastq.gz"
   ]
  },
  {
   "cell_type": "code",
   "execution_count": 6,
   "metadata": {
    "collapsed": false
   },
   "outputs": [
    {
     "name": "stdout",
     "output_type": "stream",
     "text": [
      "  % Total    % Received % Xferd  Average Speed   Time    Time     Time  Current\n",
      "                                 Dload  Upload   Total   Spent    Left  Speed\n",
      "100 9566M  100 9566M    0     0  69.4M      0  0:02:17  0:02:17 --:--:-- 55.7M\n"
     ]
    }
   ],
   "source": [
    "!curl -O http://owl.fish.washington.edu/nightingales/P_generosa/Geo_Pool_F_GGCTAC_L006_R2_001.fastq.gz"
   ]
  },
  {
   "cell_type": "code",
   "execution_count": 5,
   "metadata": {
    "collapsed": false
   },
   "outputs": [
    {
     "name": "stdout",
     "output_type": "stream",
     "text": [
      "  % Total    % Received % Xferd  Average Speed   Time    Time     Time  Current\n",
      "                                 Dload  Upload   Total   Spent    Left  Speed\n",
      "100 10.4G  100 10.4G    0     0  71.6M      0  0:02:29  0:02:29 --:--:-- 75.8M\n"
     ]
    }
   ],
   "source": [
    "!curl -O http://owl.fish.washington.edu/nightingales/P_generosa/Geo_Pool_M_CTTGTA_L006_R1_001.fastq.gz"
   ]
  },
  {
   "cell_type": "code",
   "execution_count": 7,
   "metadata": {
    "collapsed": false
   },
   "outputs": [
    {
     "name": "stdout",
     "output_type": "stream",
     "text": [
      "  % Total    % Received % Xferd  Average Speed   Time    Time     Time  Current\n",
      "                                 Dload  Upload   Total   Spent    Left  Speed\n",
      "100 10.6G  100 10.6G    0     0  70.8M      0  0:02:34  0:02:34 --:--:-- 69.1M\n"
     ]
    }
   ],
   "source": [
    "!curl -O http://owl.fish.washington.edu/nightingales/P_generosa/Geo_Pool_M_CTTGTA_L006_R2_001.fastq.gz"
   ]
  },
  {
   "cell_type": "code",
   "execution_count": 14,
   "metadata": {
    "collapsed": false
   },
   "outputs": [
    {
     "name": "stdout",
     "output_type": "stream",
     "text": [
      "Started analysis of Geo_Pool_F_GGCTAC_L006_R1_001.fastq.gz\n",
      "Approx 5% complete for Geo_Pool_F_GGCTAC_L006_R1_001.fastq.gz\n",
      "Approx 10% complete for Geo_Pool_F_GGCTAC_L006_R1_001.fastq.gz\n",
      "Approx 15% complete for Geo_Pool_F_GGCTAC_L006_R1_001.fastq.gz\n",
      "Approx 20% complete for Geo_Pool_F_GGCTAC_L006_R1_001.fastq.gz\n",
      "Approx 25% complete for Geo_Pool_F_GGCTAC_L006_R1_001.fastq.gz\n",
      "Approx 30% complete for Geo_Pool_F_GGCTAC_L006_R1_001.fastq.gz\n",
      "Approx 35% complete for Geo_Pool_F_GGCTAC_L006_R1_001.fastq.gz\n",
      "Approx 40% complete for Geo_Pool_F_GGCTAC_L006_R1_001.fastq.gz\n",
      "Approx 45% complete for Geo_Pool_F_GGCTAC_L006_R1_001.fastq.gz\n",
      "Approx 50% complete for Geo_Pool_F_GGCTAC_L006_R1_001.fastq.gz\n",
      "Approx 55% complete for Geo_Pool_F_GGCTAC_L006_R1_001.fastq.gz\n",
      "Approx 60% complete for Geo_Pool_F_GGCTAC_L006_R1_001.fastq.gz\n",
      "Approx 65% complete for Geo_Pool_F_GGCTAC_L006_R1_001.fastq.gz\n",
      "Approx 70% complete for Geo_Pool_F_GGCTAC_L006_R1_001.fastq.gz\n",
      "Approx 75% complete for Geo_Pool_F_GGCTAC_L006_R1_001.fastq.gz\n",
      "Approx 80% complete for Geo_Pool_F_GGCTAC_L006_R1_001.fastq.gz\n",
      "Approx 85% complete for Geo_Pool_F_GGCTAC_L006_R1_001.fastq.gz\n",
      "Approx 90% complete for Geo_Pool_F_GGCTAC_L006_R1_001.fastq.gz\n",
      "Approx 95% complete for Geo_Pool_F_GGCTAC_L006_R1_001.fastq.gz\n",
      "Analysis complete for Geo_Pool_F_GGCTAC_L006_R1_001.fastq.gz\n"
     ]
    }
   ],
   "source": [
    "!/Applications/bioinfo/FastQC/fastqc \\\n",
    "Geo_Pool_F_GGCTAC_L006_R1_001.fastq.gz \\\n",
    "-o /Users/sr320/data-genomic/tentacle/"
   ]
  },
  {
   "cell_type": "code",
   "execution_count": 15,
   "metadata": {
    "collapsed": false
   },
   "outputs": [
    {
     "name": "stdout",
     "output_type": "stream",
     "text": [
      "Started analysis of Geo_Pool_F_GGCTAC_L006_R2_001.fastq.gz\n",
      "Approx 5% complete for Geo_Pool_F_GGCTAC_L006_R2_001.fastq.gz\n",
      "Approx 10% complete for Geo_Pool_F_GGCTAC_L006_R2_001.fastq.gz\n",
      "Approx 15% complete for Geo_Pool_F_GGCTAC_L006_R2_001.fastq.gz\n",
      "Approx 20% complete for Geo_Pool_F_GGCTAC_L006_R2_001.fastq.gz\n",
      "Approx 25% complete for Geo_Pool_F_GGCTAC_L006_R2_001.fastq.gz\n",
      "Approx 30% complete for Geo_Pool_F_GGCTAC_L006_R2_001.fastq.gz\n",
      "Approx 35% complete for Geo_Pool_F_GGCTAC_L006_R2_001.fastq.gz\n",
      "Approx 40% complete for Geo_Pool_F_GGCTAC_L006_R2_001.fastq.gz\n",
      "Approx 45% complete for Geo_Pool_F_GGCTAC_L006_R2_001.fastq.gz\n",
      "Approx 50% complete for Geo_Pool_F_GGCTAC_L006_R2_001.fastq.gz\n",
      "Approx 55% complete for Geo_Pool_F_GGCTAC_L006_R2_001.fastq.gz\n",
      "Approx 60% complete for Geo_Pool_F_GGCTAC_L006_R2_001.fastq.gz\n",
      "Approx 65% complete for Geo_Pool_F_GGCTAC_L006_R2_001.fastq.gz\n",
      "Approx 70% complete for Geo_Pool_F_GGCTAC_L006_R2_001.fastq.gz\n",
      "Approx 75% complete for Geo_Pool_F_GGCTAC_L006_R2_001.fastq.gz\n",
      "Approx 80% complete for Geo_Pool_F_GGCTAC_L006_R2_001.fastq.gz\n",
      "Approx 85% complete for Geo_Pool_F_GGCTAC_L006_R2_001.fastq.gz\n",
      "Approx 90% complete for Geo_Pool_F_GGCTAC_L006_R2_001.fastq.gz\n",
      "Approx 95% complete for Geo_Pool_F_GGCTAC_L006_R2_001.fastq.gz\n",
      "Analysis complete for Geo_Pool_F_GGCTAC_L006_R2_001.fastq.gz\n"
     ]
    }
   ],
   "source": [
    "!/Applications/bioinfo/FastQC/fastqc \\\n",
    "Geo_Pool_F_GGCTAC_L006_R2_001.fastq.gz \\\n",
    "-o /Users/sr320/data-genomic/tentacle/"
   ]
  },
  {
   "cell_type": "code",
   "execution_count": 16,
   "metadata": {
    "collapsed": false
   },
   "outputs": [
    {
     "name": "stdout",
     "output_type": "stream",
     "text": [
      "/bin/sh: -o: command not found\n",
      "Started analysis of Geo_Pool_M_CTTGTA_L006_R1_001.fastq.gz\n",
      "Approx 5% complete for Geo_Pool_M_CTTGTA_L006_R1_001.fastq.gz\n",
      "Approx 10% complete for Geo_Pool_M_CTTGTA_L006_R1_001.fastq.gz\n",
      "Approx 15% complete for Geo_Pool_M_CTTGTA_L006_R1_001.fastq.gz\n",
      "Approx 20% complete for Geo_Pool_M_CTTGTA_L006_R1_001.fastq.gz\n",
      "Approx 25% complete for Geo_Pool_M_CTTGTA_L006_R1_001.fastq.gz\n",
      "Approx 30% complete for Geo_Pool_M_CTTGTA_L006_R1_001.fastq.gz\n",
      "Approx 35% complete for Geo_Pool_M_CTTGTA_L006_R1_001.fastq.gz\n",
      "Approx 40% complete for Geo_Pool_M_CTTGTA_L006_R1_001.fastq.gz\n",
      "Approx 45% complete for Geo_Pool_M_CTTGTA_L006_R1_001.fastq.gz\n",
      "Approx 50% complete for Geo_Pool_M_CTTGTA_L006_R1_001.fastq.gz\n",
      "Approx 55% complete for Geo_Pool_M_CTTGTA_L006_R1_001.fastq.gz\n",
      "Approx 60% complete for Geo_Pool_M_CTTGTA_L006_R1_001.fastq.gz\n",
      "Approx 65% complete for Geo_Pool_M_CTTGTA_L006_R1_001.fastq.gz\n",
      "Approx 70% complete for Geo_Pool_M_CTTGTA_L006_R1_001.fastq.gz\n",
      "Approx 75% complete for Geo_Pool_M_CTTGTA_L006_R1_001.fastq.gz\n",
      "Approx 80% complete for Geo_Pool_M_CTTGTA_L006_R1_001.fastq.gz\n",
      "Approx 85% complete for Geo_Pool_M_CTTGTA_L006_R1_001.fastq.gz\n",
      "Approx 90% complete for Geo_Pool_M_CTTGTA_L006_R1_001.fastq.gz\n",
      "Approx 95% complete for Geo_Pool_M_CTTGTA_L006_R1_001.fastq.gz\n"
     ]
    }
   ],
   "source": [
    "!/Applications/bioinfo/FastQC/fastqc \\\n",
    "Geo_Pool_M_CTTGTA_L006_R1_001.fastq.gz| \\\n",
    "-o /Users/sr320/data-genomic/tentacle/"
   ]
  },
  {
   "cell_type": "code",
   "execution_count": 17,
   "metadata": {
    "collapsed": false
   },
   "outputs": [
    {
     "name": "stdout",
     "output_type": "stream",
     "text": [
      "/bin/sh: -o: command not found\n",
      "Started analysis of Geo_Pool_M_CTTGTA_L006_R2_001.fastq.gz\n",
      "Approx 5% complete for Geo_Pool_M_CTTGTA_L006_R2_001.fastq.gz\n",
      "Approx 10% complete for Geo_Pool_M_CTTGTA_L006_R2_001.fastq.gz\n",
      "Approx 15% complete for Geo_Pool_M_CTTGTA_L006_R2_001.fastq.gz\n",
      "Approx 20% complete for Geo_Pool_M_CTTGTA_L006_R2_001.fastq.gz\n",
      "Approx 25% complete for Geo_Pool_M_CTTGTA_L006_R2_001.fastq.gz\n",
      "Approx 30% complete for Geo_Pool_M_CTTGTA_L006_R2_001.fastq.gz\n",
      "Approx 35% complete for Geo_Pool_M_CTTGTA_L006_R2_001.fastq.gz\n",
      "Approx 40% complete for Geo_Pool_M_CTTGTA_L006_R2_001.fastq.gz\n",
      "Approx 45% complete for Geo_Pool_M_CTTGTA_L006_R2_001.fastq.gz\n",
      "Approx 50% complete for Geo_Pool_M_CTTGTA_L006_R2_001.fastq.gz\n",
      "Approx 55% complete for Geo_Pool_M_CTTGTA_L006_R2_001.fastq.gz\n",
      "Approx 60% complete for Geo_Pool_M_CTTGTA_L006_R2_001.fastq.gz\n",
      "Approx 65% complete for Geo_Pool_M_CTTGTA_L006_R2_001.fastq.gz\n",
      "Approx 70% complete for Geo_Pool_M_CTTGTA_L006_R2_001.fastq.gz\n",
      "Approx 75% complete for Geo_Pool_M_CTTGTA_L006_R2_001.fastq.gz\n",
      "Approx 80% complete for Geo_Pool_M_CTTGTA_L006_R2_001.fastq.gz\n",
      "Approx 85% complete for Geo_Pool_M_CTTGTA_L006_R2_001.fastq.gz\n",
      "Approx 90% complete for Geo_Pool_M_CTTGTA_L006_R2_001.fastq.gz\n",
      "Approx 95% complete for Geo_Pool_M_CTTGTA_L006_R2_001.fastq.gz\n"
     ]
    }
   ],
   "source": [
    "!/Applications/bioinfo/FastQC/fastqc \\\n",
    "Geo_Pool_M_CTTGTA_L006_R2_001.fastq.gz| \\\n",
    "-o /Users/sr320/data-genomic/tentacle/"
   ]
  },
  {
   "cell_type": "code",
   "execution_count": null,
   "metadata": {
    "collapsed": false
   },
   "outputs": [],
   "source": [
    "!/Applications/bioinfo/trim_galore_zip/trim_galore \\\n",
    "--paired \\\n",
    "--clip_R1 15 \\\n",
    "--clip_R2 15 \\\n",
    "--retain_unpaired \\\n",
    "--path_to_cutadapt /Users/sr320/.local/bin/cutadapt \\\n",
    "/Users/sr320/data-genomic/tentacle/Geo_Pool_F_GGCTAC_L006_R1_001.fastq \\\n",
    "/Users/sr320/data-genomic/tentacle/Geo_Pool_F_GGCTAC_L006_R2_001.fastq"
   ]
  },
  {
   "cell_type": "code",
   "execution_count": null,
   "metadata": {
    "collapsed": true
   },
   "outputs": [],
   "source": [
    "!/Applications/bioinfo/trim_galore_zip/trim_galore --help"
   ]
  },
  {
   "cell_type": "code",
   "execution_count": 26,
   "metadata": {
    "collapsed": false,
    "scrolled": false
   },
   "outputs": [
    {
     "name": "stdout",
     "output_type": "stream",
     "text": [
      "No quality encoding type selected. Assuming that the data provided uses Sanger encoded Phred scores (default)\n",
      "\n",
      "Path to Cutadapt set as: '/Users/sr320/.local/bin/cutadapt' (user defined)\n",
      "1.8.1\n",
      "Cutadapt seems to be working fine (tested command '/Users/sr320/.local/bin/cutadapt --version')\n",
      "\n",
      "\n",
      "AUTO-DETECTING ADAPTER TYPE\n",
      "===========================\n",
      "Attempting to auto-detect adapter type from the first 1 million sequences of the first file (>> /Users/sr320/data-genomic/tentacle/Geo_Pool_F_GGCTAC_L006_R2_001.fastq <<)\n",
      "\n",
      "Found perfect matches for the following adapter sequences:\n",
      "Adapter type\tCount\tSequence\tSequences analysed\tPercentage\n",
      "Illumina\t7004\tAGATCGGAAGAGC\t1000000\t0.70\n",
      "Nextera\t4\tCTGTCTCTTATA\t1000000\t0.00\n",
      "smallRNA\t1\tATGGAATTCTCG\t1000000\t0.00\n",
      "Using Illumina adapter for trimming (count: 7004). Second best hit was Nextera (count: 4)\n",
      "\n",
      "Writing report to 'Geo_Pool_F_GGCTAC_L006_R2_001.fastq_trimming_report.txt'\n",
      "\n",
      "SUMMARISING RUN PARAMETERS\n",
      "==========================\n",
      "Input filename: /Users/sr320/data-genomic/tentacle/Geo_Pool_F_GGCTAC_L006_R2_001.fastq\n",
      "Trimming mode: single-end\n",
      "Trim Galore version: 0.4.0\n",
      "Cutadapt version: 1.8.1\n",
      "Quality Phred score cutoff: 20\n",
      "Quality encoding type selected: ASCII+33\n",
      "Adapter sequence: 'AGATCGGAAGAGC' (Illumina TruSeq, Sanger iPCR; auto-detected)\n",
      "Maximum trimming error rate: 0.1 (default)\n",
      "Minimum required adapter overlap (stringency): 1 bp\n",
      "Minimum required sequence length before a sequence gets removed: 20 bp\n",
      "Running FastQC on the data once trimming has completed\n",
      "\n",
      "Writing final adapter and quality trimmed output to Geo_Pool_F_GGCTAC_L006_R2_001_trimmed.fq\n",
      "\n",
      "\n",
      "  >>> Now performing quality (cutoff 20) and adapter trimming in a single pass for the adapter sequence: 'AGATCGGAAGAGC' from file /Users/sr320/data-genomic/tentacle/Geo_Pool_F_GGCTAC_L006_R2_001.fastq <<< \n",
      "10000000 sequences processed\n",
      "20000000 sequences processed\n",
      "30000000 sequences processed\n",
      "40000000 sequences processed\n",
      "50000000 sequences processed\n",
      "60000000 sequences processed\n",
      "70000000 sequences processed\n",
      "80000000 sequences processed\n",
      "90000000 sequences processed\n",
      "100000000 sequences processed\n",
      "This is cutadapt 1.8.1 with Python 2.7.10\n",
      "Command line parameters: -f fastq -e 0.1 -q 20 -O 1 -a AGATCGGAAGAGC /Users/sr320/data-genomic/tentacle/Geo_Pool_F_GGCTAC_L006_R2_001.fastq\n",
      "Trimming 1 adapter with at most 10.0% errors in single-end mode ...\n",
      "Finished in 1237.58 s (12 us/read; 5.05 M reads/minute).\n",
      "\n",
      "=== Summary ===\n",
      "\n",
      "Total reads processed:             104,070,998\n",
      "Reads with adapters:                36,698,854 (35.3%)\n",
      "Reads written (passing filters):   104,070,998 (100.0%)\n",
      "\n",
      "Total basepairs processed: 10,511,170,798 bp\n",
      "Quality-trimmed:             150,777,819 bp (1.4%)\n",
      "Total written (filtered):  10,286,886,259 bp (97.9%)\n",
      "\n",
      "=== Adapter 1 ===\n",
      "\n",
      "Sequence: AGATCGGAAGAGC; Type: regular 3'; Length: 13; Trimmed: 36698854 times.\n",
      "\n",
      "No. of allowed errors:\n",
      "0-9 bp: 0; 10-13 bp: 1\n",
      "\n",
      "Bases preceding removed adapters:\n",
      "  A: 34.0%\n",
      "  C: 27.6%\n",
      "  G: 17.1%\n",
      "  T: 21.2%\n",
      "  none/other: 0.1%\n",
      "\n",
      "Overview of removed sequences\n",
      "length\tcount\texpect\tmax.err\terror counts\n",
      "1\t26153939\t26017749.5\t0\t26153939\n",
      "2\t6228369\t6504437.4\t0\t6228369\n",
      "3\t1938619\t1626109.3\t0\t1938619\n",
      "4\t582435\t406527.3\t0\t582435\n",
      "5\t209124\t101631.8\t0\t209124\n",
      "6\t148620\t25408.0\t0\t148620\n",
      "7\t141477\t6352.0\t0\t141477\n",
      "8\t118367\t1588.0\t0\t118367\n",
      "9\t119274\t397.0\t0\t117193 2081\n",
      "10\t112287\t99.2\t1\t110157 2130\n",
      "11\t79231\t24.8\t1\t77576 1655\n",
      "12\t88909\t6.2\t1\t87742 1167\n",
      "13\t62889\t1.6\t1\t61296 1593\n",
      "14\t88212\t1.6\t1\t87141 1071\n",
      "15\t32297\t1.6\t1\t31572 725\n",
      "16\t50140\t1.6\t1\t49221 919\n",
      "17\t73362\t1.6\t1\t72127 1235\n",
      "18\t18878\t1.6\t1\t18390 488\n",
      "19\t56164\t1.6\t1\t55364 800\n",
      "20\t25818\t1.6\t1\t25377 441\n",
      "21\t25577\t1.6\t1\t25209 368\n",
      "22\t30079\t1.6\t1\t29504 575\n",
      "23\t27440\t1.6\t1\t26515 925\n",
      "24\t31423\t1.6\t1\t30791 632\n",
      "25\t15234\t1.6\t1\t14903 331\n",
      "26\t18175\t1.6\t1\t17626 549\n",
      "27\t16789\t1.6\t1\t16340 449\n",
      "28\t19705\t1.6\t1\t19455 250\n",
      "29\t10913\t1.6\t1\t10351 562\n",
      "30\t29223\t1.6\t1\t28927 296\n",
      "31\t589\t1.6\t1\t419 170\n",
      "32\t16451\t1.6\t1\t16294 157\n",
      "33\t2311\t1.6\t1\t2176 135\n",
      "34\t7978\t1.6\t1\t7814 164\n",
      "35\t8906\t1.6\t1\t8469 437\n",
      "36\t7161\t1.6\t1\t6974 187\n",
      "37\t7135\t1.6\t1\t6704 431\n",
      "38\t5977\t1.6\t1\t5705 272\n",
      "39\t6110\t1.6\t1\t5791 319\n",
      "40\t5684\t1.6\t1\t5569 115\n",
      "41\t6169\t1.6\t1\t5450 719\n",
      "42\t9074\t1.6\t1\t8730 344\n",
      "43\t1019\t1.6\t1\t967 52\n",
      "44\t4070\t1.6\t1\t3829 241\n",
      "45\t6450\t1.6\t1\t6334 116\n",
      "46\t1059\t1.6\t1\t990 69\n",
      "47\t2522\t1.6\t1\t2472 50\n",
      "48\t2376\t1.6\t1\t2324 52\n",
      "49\t2482\t1.6\t1\t2400 82\n",
      "50\t2639\t1.6\t1\t2542 97\n",
      "51\t3781\t1.6\t1\t3720 61\n",
      "52\t1078\t1.6\t1\t1044 34\n",
      "53\t1123\t1.6\t1\t1099 24\n",
      "54\t1612\t1.6\t1\t1566 46\n",
      "55\t1690\t1.6\t1\t1638 52\n",
      "56\t1080\t1.6\t1\t1042 38\n",
      "57\t1340\t1.6\t1\t1252 88\n",
      "58\t1278\t1.6\t1\t1219 59\n",
      "59\t1014\t1.6\t1\t955 59\n",
      "60\t1079\t1.6\t1\t1021 58\n",
      "61\t1137\t1.6\t1\t1038 99\n",
      "62\t1170\t1.6\t1\t955 215\n",
      "63\t1591\t1.6\t1\t1147 444\n",
      "64\t3625\t1.6\t1\t1372 2253\n",
      "65\t7172\t1.6\t1\t1690 5482\n",
      "66\t4560\t1.6\t1\t1414 3146\n",
      "67\t1640\t1.6\t1\t634 1006\n",
      "68\t582\t1.6\t1\t180 402\n",
      "69\t177\t1.6\t1\t76 101\n",
      "70\t124\t1.6\t1\t50 74\n",
      "71\t56\t1.6\t1\t32 24\n",
      "72\t67\t1.6\t1\t33 34\n",
      "73\t114\t1.6\t1\t37 77\n",
      "74\t266\t1.6\t1\t228 38\n",
      "75\t44\t1.6\t1\t27 17\n",
      "76\t66\t1.6\t1\t27 39\n",
      "77\t61\t1.6\t1\t25 36\n",
      "78\t32\t1.6\t1\t17 15\n",
      "79\t52\t1.6\t1\t7 45\n",
      "80\t59\t1.6\t1\t20 39\n",
      "81\t30\t1.6\t1\t12 18\n",
      "82\t36\t1.6\t1\t13 23\n",
      "83\t42\t1.6\t1\t18 24\n",
      "84\t97\t1.6\t1\t8 89\n",
      "85\t57\t1.6\t1\t12 45\n",
      "86\t39\t1.6\t1\t10 29\n",
      "87\t32\t1.6\t1\t5 27\n",
      "88\t23\t1.6\t1\t9 14\n",
      "89\t25\t1.6\t1\t1 24\n",
      "90\t16\t1.6\t1\t6 10\n",
      "91\t65\t1.6\t1\t11 54\n",
      "92\t64\t1.6\t1\t8 56\n",
      "93\t27\t1.6\t1\t4 23\n",
      "94\t16\t1.6\t1\t3 13\n",
      "95\t14\t1.6\t1\t2 12\n",
      "96\t46\t1.6\t1\t3 43\n",
      "97\t16\t1.6\t1\t1 15\n",
      "98\t72\t1.6\t1\t4 68\n",
      "99\t79\t1.6\t1\t2 77\n",
      "100\t230\t1.6\t1\t1 229\n",
      "101\t1027\t1.6\t1\t8 1019\n",
      "\n",
      "\n",
      "RUN STATISTICS FOR INPUT FILE: /Users/sr320/data-genomic/tentacle/Geo_Pool_F_GGCTAC_L006_R2_001.fastq\n",
      "=============================================\n",
      "104070998 sequences processed in total\n",
      "Sequences removed because they became shorter than the length cutoff of 20 bp:\t776217 (0.7%)\n",
      "\n",
      "\n",
      "  >>> Now running FastQC on the data <<<\n",
      "\n",
      "Can't exec \"fastqc\": No such file or directory at /Applications/bioinfo/trim_galore_zip/trim_galore line 794.\n"
     ]
    }
   ],
   "source": [
    "!/Applications/bioinfo/trim_galore_zip/trim_galore \\\n",
    "--fastqc \\\n",
    "--path_to_cutadapt /Users/sr320/.local/bin/cutadapt \\\n",
    "/Users/sr320/data-genomic/tentacle/Geo_Pool_F_GGCTAC_L006_R2_001.fastq"
   ]
  },
  {
   "cell_type": "code",
   "execution_count": null,
   "metadata": {
    "collapsed": false
   },
   "outputs": [],
   "source": [
    "!/Applications/bioinfo/trim_galore_zip/trim_galore \\\n",
    "--fastqc \\\n",
    "--path_to_cutadapt /Users/sr320/.local/bin/cutadapt \\\n",
    "Geo_Pool_M_CTTGTA_L006_R1_001.fastq\n"
   ]
  },
  {
   "cell_type": "code",
   "execution_count": null,
   "metadata": {
    "collapsed": false,
    "scrolled": false
   },
   "outputs": [
    {
     "name": "stdout",
     "output_type": "stream",
     "text": [
      "No quality encoding type selected. Assuming that the data provided uses Sanger encoded Phred scores (default)\n",
      "\n",
      "Path to Cutadapt set as: '/Users/sr320/.local/bin/cutadapt' (user defined)\n",
      "1.8.1\n",
      "Cutadapt seems to be working fine (tested command '/Users/sr320/.local/bin/cutadapt --version')\n",
      "\n",
      "\n",
      "AUTO-DETECTING ADAPTER TYPE\n",
      "===========================\n",
      "Attempting to auto-detect adapter type from the first 1 million sequences of the first file (>> Geo_Pool_M_CTTGTA_L006_R2_001.fastq <<)\n",
      "\n",
      "Found perfect matches for the following adapter sequences:\n",
      "Adapter type\tCount\tSequence\tSequences analysed\tPercentage\n",
      "Illumina\t5574\tAGATCGGAAGAGC\t1000000\t0.56\n",
      "Nextera\t1\tCTGTCTCTTATA\t1000000\t0.00\n",
      "smallRNA\t0\tATGGAATTCTCG\t1000000\t0.00\n",
      "Using Illumina adapter for trimming (count: 5574). Second best hit was Nextera (count: 1)\n",
      "\n",
      "Writing report to 'Geo_Pool_M_CTTGTA_L006_R2_001.fastq_trimming_report.txt'\n",
      "\n",
      "SUMMARISING RUN PARAMETERS\n",
      "==========================\n",
      "Input filename: Geo_Pool_M_CTTGTA_L006_R2_001.fastq\n",
      "Trimming mode: single-end\n",
      "Trim Galore version: 0.4.0\n",
      "Cutadapt version: 1.8.1\n",
      "Quality Phred score cutoff: 20\n",
      "Quality encoding type selected: ASCII+33\n",
      "Adapter sequence: 'AGATCGGAAGAGC' (Illumina TruSeq, Sanger iPCR; auto-detected)\n",
      "Maximum trimming error rate: 0.1 (default)\n",
      "Minimum required adapter overlap (stringency): 1 bp\n",
      "Minimum required sequence length before a sequence gets removed: 20 bp\n",
      "Running FastQC on the data once trimming has completed\n",
      "\n",
      "Writing final adapter and quality trimmed output to Geo_Pool_M_CTTGTA_L006_R2_001_trimmed.fq\n",
      "\n",
      "\n",
      "  >>> Now performing quality (cutoff 20) and adapter trimming in a single pass for the adapter sequence: 'AGATCGGAAGAGC' from file Geo_Pool_M_CTTGTA_L006_R2_001.fastq <<< \n",
      "10000000 sequences processed\n",
      "20000000 sequences processed\n",
      "30000000 sequences processed\n",
      "40000000 sequences processed\n",
      "50000000 sequences processed\n"
     ]
    }
   ],
   "source": [
    "!/Applications/bioinfo/trim_galore_zip/trim_galore \\\n",
    "--fastqc \\\n",
    "--path_to_cutadapt /Users/sr320/.local/bin/cutadapt \\\n",
    "Geo_Pool_M_CTTGTA_L006_R2_001.fastq\n"
   ]
  },
  {
   "cell_type": "code",
   "execution_count": 30,
   "metadata": {
    "collapsed": false,
    "scrolled": false
   },
   "outputs": [
    {
     "name": "stdout",
     "output_type": "stream",
     "text": [
      "Started analysis of Geo_Pool_F_GGCTAC_L006_R1_001_trimmed.fq\n",
      "Approx 5% complete for Geo_Pool_F_GGCTAC_L006_R1_001_trimmed.fq\n",
      "Approx 10% complete for Geo_Pool_F_GGCTAC_L006_R1_001_trimmed.fq\n",
      "Approx 15% complete for Geo_Pool_F_GGCTAC_L006_R1_001_trimmed.fq\n",
      "Approx 20% complete for Geo_Pool_F_GGCTAC_L006_R1_001_trimmed.fq\n",
      "Approx 25% complete for Geo_Pool_F_GGCTAC_L006_R1_001_trimmed.fq\n",
      "Approx 30% complete for Geo_Pool_F_GGCTAC_L006_R1_001_trimmed.fq\n",
      "Approx 35% complete for Geo_Pool_F_GGCTAC_L006_R1_001_trimmed.fq\n",
      "Approx 40% complete for Geo_Pool_F_GGCTAC_L006_R1_001_trimmed.fq\n",
      "Approx 45% complete for Geo_Pool_F_GGCTAC_L006_R1_001_trimmed.fq\n",
      "Approx 50% complete for Geo_Pool_F_GGCTAC_L006_R1_001_trimmed.fq\n",
      "Approx 55% complete for Geo_Pool_F_GGCTAC_L006_R1_001_trimmed.fq\n",
      "Approx 60% complete for Geo_Pool_F_GGCTAC_L006_R1_001_trimmed.fq\n",
      "Approx 65% complete for Geo_Pool_F_GGCTAC_L006_R1_001_trimmed.fq\n",
      "Approx 70% complete for Geo_Pool_F_GGCTAC_L006_R1_001_trimmed.fq\n",
      "Approx 75% complete for Geo_Pool_F_GGCTAC_L006_R1_001_trimmed.fq\n",
      "Approx 80% complete for Geo_Pool_F_GGCTAC_L006_R1_001_trimmed.fq\n",
      "Approx 85% complete for Geo_Pool_F_GGCTAC_L006_R1_001_trimmed.fq\n",
      "Approx 90% complete for Geo_Pool_F_GGCTAC_L006_R1_001_trimmed.fq\n",
      "Approx 95% complete for Geo_Pool_F_GGCTAC_L006_R1_001_trimmed.fq\n",
      "Analysis complete for Geo_Pool_F_GGCTAC_L006_R1_001_trimmed.fq\n"
     ]
    }
   ],
   "source": [
    "!/Applications/bioinfo/FastQC/fastqc \\\n",
    "/Users/sr320/data-genomic/tentacle/Geo_Pool_F_GGCTAC_L006_R1_001_trimmed.fq \\\n",
    "-o /Users/sr320/data-genomic/tentacle/"
   ]
  },
  {
   "cell_type": "code",
   "execution_count": null,
   "metadata": {
    "collapsed": false
   },
   "outputs": [
    {
     "name": "stdout",
     "output_type": "stream",
     "text": [
      "Started analysis of Geo_Pool_F_GGCTAC_L006_R2_001_trimmed.fq\n",
      "Approx 5% complete for Geo_Pool_F_GGCTAC_L006_R2_001_trimmed.fq\n",
      "Approx 10% complete for Geo_Pool_F_GGCTAC_L006_R2_001_trimmed.fq\n",
      "Approx 15% complete for Geo_Pool_F_GGCTAC_L006_R2_001_trimmed.fq\n",
      "Approx 20% complete for Geo_Pool_F_GGCTAC_L006_R2_001_trimmed.fq\n",
      "Approx 25% complete for Geo_Pool_F_GGCTAC_L006_R2_001_trimmed.fq\n",
      "Approx 30% complete for Geo_Pool_F_GGCTAC_L006_R2_001_trimmed.fq\n",
      "Approx 35% complete for Geo_Pool_F_GGCTAC_L006_R2_001_trimmed.fq\n",
      "Approx 40% complete for Geo_Pool_F_GGCTAC_L006_R2_001_trimmed.fq\n",
      "Approx 45% complete for Geo_Pool_F_GGCTAC_L006_R2_001_trimmed.fq\n",
      "Approx 50% complete for Geo_Pool_F_GGCTAC_L006_R2_001_trimmed.fq\n",
      "Approx 55% complete for Geo_Pool_F_GGCTAC_L006_R2_001_trimmed.fq\n",
      "Approx 60% complete for Geo_Pool_F_GGCTAC_L006_R2_001_trimmed.fq\n",
      "Approx 65% complete for Geo_Pool_F_GGCTAC_L006_R2_001_trimmed.fq\n",
      "Approx 70% complete for Geo_Pool_F_GGCTAC_L006_R2_001_trimmed.fq\n",
      "Approx 75% complete for Geo_Pool_F_GGCTAC_L006_R2_001_trimmed.fq\n",
      "Approx 80% complete for Geo_Pool_F_GGCTAC_L006_R2_001_trimmed.fq\n",
      "Approx 85% complete for Geo_Pool_F_GGCTAC_L006_R2_001_trimmed.fq\n",
      "Approx 90% complete for Geo_Pool_F_GGCTAC_L006_R2_001_trimmed.fq\n",
      "Approx 95% complete for Geo_Pool_F_GGCTAC_L006_R2_001_trimmed.fq\n",
      "Analysis complete for Geo_Pool_F_GGCTAC_L006_R2_001_trimmed.fq\n"
     ]
    }
   ],
   "source": [
    "!/Applications/bioinfo/FastQC/fastqc \\\n",
    "/Users/sr320/data-genomic/tentacle/Geo_Pool_F_GGCTAC_L006_R2_001_trimmed.fq \\\n",
    "-o /Users/sr320/data-genomic/tentacle/"
   ]
  },
  {
   "cell_type": "code",
   "execution_count": null,
   "metadata": {
    "collapsed": true
   },
   "outputs": [],
   "source": []
  }
 ],
 "metadata": {
  "kernelspec": {
   "display_name": "Python 2",
   "language": "python",
   "name": "python2"
  },
  "language_info": {
   "codemirror_mode": {
    "name": "ipython",
    "version": 2
   },
   "file_extension": ".py",
   "mimetype": "text/x-python",
   "name": "python",
   "nbconvert_exporter": "python",
   "pygments_lexer": "ipython2",
   "version": "2.7.10"
  }
 },
 "nbformat": 4,
 "nbformat_minor": 0
}
