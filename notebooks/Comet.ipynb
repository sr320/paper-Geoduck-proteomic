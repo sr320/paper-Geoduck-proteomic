{
 "cells": [
  {
   "cell_type": "code",
   "execution_count": 1,
   "metadata": {
    "collapsed": false
   },
   "outputs": [
    {
     "name": "stdout",
     "output_type": "stream",
     "text": [
      "\u001b[31m2015_May_26_Geoduck_01.raw\u001b[m\u001b[m \u001b[31m2015_May_26_Geoduck_48.raw\u001b[m\u001b[m\r\n",
      "\u001b[31m2015_May_26_Geoduck_02.raw\u001b[m\u001b[m \u001b[31m2015_May_26_Geoduck_49.raw\u001b[m\u001b[m\r\n",
      "\u001b[31m2015_May_26_Geoduck_03.raw\u001b[m\u001b[m \u001b[31m2015_May_26_Geoduck_50.raw\u001b[m\u001b[m\r\n",
      "\u001b[31m2015_May_26_Geoduck_04.raw\u001b[m\u001b[m \u001b[31m2015_May_26_Geoduck_51.raw\u001b[m\u001b[m\r\n",
      "\u001b[31m2015_May_26_Geoduck_05.raw\u001b[m\u001b[m \u001b[31m2015_May_26_Geoduck_52.raw\u001b[m\u001b[m\r\n",
      "\u001b[31m2015_May_26_Geoduck_06.raw\u001b[m\u001b[m \u001b[31m2015_May_26_Geoduck_53.raw\u001b[m\u001b[m\r\n",
      "\u001b[31m2015_May_26_Geoduck_07.raw\u001b[m\u001b[m \u001b[31m2015_May_26_Geoduck_54.raw\u001b[m\u001b[m\r\n",
      "\u001b[31m2015_May_26_Geoduck_08.raw\u001b[m\u001b[m \u001b[31m2015_May_26_Geoduck_55.raw\u001b[m\u001b[m\r\n",
      "\u001b[31m2015_May_26_Geoduck_09.raw\u001b[m\u001b[m \u001b[31m2015_May_26_Geoduck_56.raw\u001b[m\u001b[m\r\n",
      "\u001b[31m2015_May_26_Geoduck_10.raw\u001b[m\u001b[m \u001b[31m2015_May_26_Geoduck_57.raw\u001b[m\u001b[m\r\n",
      "\u001b[31m2015_May_26_Geoduck_11.raw\u001b[m\u001b[m \u001b[31m2015_May_26_Geoduck_58.raw\u001b[m\u001b[m\r\n",
      "\u001b[31m2015_May_26_Geoduck_12.raw\u001b[m\u001b[m \u001b[31m2015_May_26_Geoduck_59.raw\u001b[m\u001b[m\r\n",
      "\u001b[31m2015_May_26_Geoduck_13.raw\u001b[m\u001b[m \u001b[31m2015_May_26_Geoduck_60.raw\u001b[m\u001b[m\r\n",
      "\u001b[31m2015_May_26_Geoduck_14.raw\u001b[m\u001b[m \u001b[31m2015_May_26_Geoduck_61.raw\u001b[m\u001b[m\r\n",
      "\u001b[31m2015_May_26_Geoduck_15.raw\u001b[m\u001b[m \u001b[31m2015_May_26_Geoduck_62.raw\u001b[m\u001b[m\r\n",
      "\u001b[31m2015_May_26_Geoduck_16.raw\u001b[m\u001b[m \u001b[31m2015_May_26_Geoduck_63.raw\u001b[m\u001b[m\r\n",
      "\u001b[31m2015_May_26_Geoduck_17.raw\u001b[m\u001b[m \u001b[31m2015_May_26_Geoduck_64.raw\u001b[m\u001b[m\r\n",
      "\u001b[31m2015_May_26_Geoduck_18.raw\u001b[m\u001b[m \u001b[31m2015_May_26_Geoduck_65.raw\u001b[m\u001b[m\r\n",
      "\u001b[31m2015_May_26_Geoduck_19.raw\u001b[m\u001b[m \u001b[31m2015_May_26_Geoduck_66.raw\u001b[m\u001b[m\r\n",
      "\u001b[31m2015_May_26_Geoduck_20.raw\u001b[m\u001b[m \u001b[31m2015_May_26_Geoduck_67.raw\u001b[m\u001b[m\r\n",
      "\u001b[31m2015_May_26_Geoduck_21.raw\u001b[m\u001b[m \u001b[31m2015_May_26_Geoduck_68.raw\u001b[m\u001b[m\r\n",
      "\u001b[31m2015_May_26_Geoduck_22.raw\u001b[m\u001b[m \u001b[31m2015_May_26_Geoduck_69.raw\u001b[m\u001b[m\r\n",
      "\u001b[31m2015_May_26_Geoduck_23.raw\u001b[m\u001b[m \u001b[31m2015_May_26_Geoduck_70.raw\u001b[m\u001b[m\r\n",
      "\u001b[31m2015_May_26_Geoduck_24.raw\u001b[m\u001b[m \u001b[31m2015_May_26_Geoduck_71.raw\u001b[m\u001b[m\r\n",
      "\u001b[31m2015_May_26_Geoduck_25.raw\u001b[m\u001b[m \u001b[31m2015_May_26_Geoduck_72.raw\u001b[m\u001b[m\r\n",
      "\u001b[31m2015_May_26_Geoduck_26.raw\u001b[m\u001b[m \u001b[31m2015_May_26_Geoduck_73.raw\u001b[m\u001b[m\r\n",
      "\u001b[31m2015_May_26_Geoduck_27.raw\u001b[m\u001b[m \u001b[31m2015_May_26_Geoduck_74.raw\u001b[m\u001b[m\r\n",
      "\u001b[31m2015_May_26_Geoduck_28.raw\u001b[m\u001b[m \u001b[31m2015_May_26_Geoduck_75.raw\u001b[m\u001b[m\r\n",
      "\u001b[31m2015_May_26_Geoduck_29.raw\u001b[m\u001b[m \u001b[31m2015_May_26_Geoduck_76.raw\u001b[m\u001b[m\r\n",
      "\u001b[31m2015_May_26_Geoduck_30.raw\u001b[m\u001b[m \u001b[31m2015_May_26_Geoduck_77.raw\u001b[m\u001b[m\r\n",
      "\u001b[31m2015_May_26_Geoduck_31.raw\u001b[m\u001b[m \u001b[31m2015_May_26_Geoduck_78.raw\u001b[m\u001b[m\r\n",
      "\u001b[31m2015_May_26_Geoduck_32.raw\u001b[m\u001b[m \u001b[31m2015_May_26_Geoduck_79.raw\u001b[m\u001b[m\r\n",
      "\u001b[31m2015_May_26_Geoduck_33.raw\u001b[m\u001b[m \u001b[31m2015_May_26_Geoduck_80.raw\u001b[m\u001b[m\r\n",
      "\u001b[31m2015_May_26_Geoduck_34.raw\u001b[m\u001b[m \u001b[31m2015_May_26_Geoduck_81.raw\u001b[m\u001b[m\r\n",
      "\u001b[31m2015_May_26_Geoduck_35.raw\u001b[m\u001b[m \u001b[31m2015_May_26_Geoduck_82.raw\u001b[m\u001b[m\r\n",
      "\u001b[31m2015_May_26_Geoduck_36.raw\u001b[m\u001b[m \u001b[31m2015_May_26_Geoduck_83.raw\u001b[m\u001b[m\r\n",
      "\u001b[31m2015_May_26_Geoduck_37.raw\u001b[m\u001b[m \u001b[31m2015_May_26_Geoduck_84.raw\u001b[m\u001b[m\r\n",
      "\u001b[31m2015_May_26_Geoduck_38.raw\u001b[m\u001b[m \u001b[31m2015_May_26_Geoduck_85.raw\u001b[m\u001b[m\r\n",
      "\u001b[31m2015_May_26_Geoduck_39.raw\u001b[m\u001b[m \u001b[31m2015_May_26_Geoduck_86.raw\u001b[m\u001b[m\r\n",
      "\u001b[31m2015_May_26_Geoduck_40.raw\u001b[m\u001b[m \u001b[31m2015_May_26_Geoduck_87.raw\u001b[m\u001b[m\r\n",
      "\u001b[31m2015_May_26_Geoduck_41.raw\u001b[m\u001b[m \u001b[31m2015_May_26_Geoduck_88.raw\u001b[m\u001b[m\r\n",
      "\u001b[31m2015_May_26_Geoduck_42.raw\u001b[m\u001b[m \u001b[31m2015_May_26_Geoduck_89.raw\u001b[m\u001b[m\r\n",
      "\u001b[31m2015_May_26_Geoduck_43.raw\u001b[m\u001b[m \u001b[31m2015_May_26_Geoduck_90.raw\u001b[m\u001b[m\r\n",
      "\u001b[31m2015_May_26_Geoduck_44.raw\u001b[m\u001b[m \u001b[31m2015_May_26_Geoduck_91.raw\u001b[m\u001b[m\r\n",
      "\u001b[31m2015_May_26_Geoduck_45.raw\u001b[m\u001b[m \u001b[31m2015_May_26_Geoduck_92.raw\u001b[m\u001b[m\r\n",
      "\u001b[31m2015_May_26_Geoduck_46.raw\u001b[m\u001b[m \u001b[31m2015_May_26_Geoduck_93.raw\u001b[m\u001b[m\r\n",
      "\u001b[31m2015_May_26_Geoduck_47.raw\u001b[m\u001b[m \u001b[31mgeoduck final sequence.csv\u001b[m\u001b[m\r\n"
     ]
    }
   ],
   "source": [
    "#raw data....\n",
    "\n",
    "!ls /Volumes/web-1/oyster/geoduck\\ raw\\ files"
   ]
  },
  {
   "cell_type": "markdown",
   "metadata": {
    "collapsed": true
   },
   "source": [
    "# Open kitematic and open docker commmand line (CLI)"
   ]
  },
  {
   "cell_type": "code",
   "execution_count": null,
   "metadata": {
    "collapsed": true
   },
   "outputs": [],
   "source": []
  },
  {
   "cell_type": "code",
   "execution_count": null,
   "metadata": {
    "collapsed": true
   },
   "outputs": [],
   "source": []
  },
  {
   "cell_type": "code",
   "execution_count": null,
   "metadata": {
    "collapsed": true
   },
   "outputs": [],
   "source": [
    "run --rm biodckr/comet \\\n",
    "-P/Users/sr320/git-repos/paper-Geoduck-proteomic/comet.params/ETS_1.comet.params \\\n"
   ]
  }
 ],
 "metadata": {
  "kernelspec": {
   "display_name": "Python 2",
   "language": "python",
   "name": "python2"
  },
  "language_info": {
   "codemirror_mode": {
    "name": "ipython",
    "version": 2
   },
   "file_extension": ".py",
   "mimetype": "text/x-python",
   "name": "python",
   "nbconvert_exporter": "python",
   "pygments_lexer": "ipython2",
   "version": "2.7.10"
  }
 },
 "nbformat": 4,
 "nbformat_minor": 0
}
