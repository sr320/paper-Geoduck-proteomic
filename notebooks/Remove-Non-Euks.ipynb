{
 "cells": [
  {
   "cell_type": "markdown",
   "metadata": {},
   "source": [
    "# Removing non-Euk sequences"
   ]
  },
  {
   "cell_type": "code",
   "execution_count": 1,
   "metadata": {
    "collapsed": true
   },
   "outputs": [],
   "source": [
    "#Will base on transcriptome comparison with nt database"
   ]
  },
  {
   "cell_type": "code",
   "execution_count": 2,
   "metadata": {
    "collapsed": false
   },
   "outputs": [
    {
     "name": "stdout",
     "output_type": "stream",
     "text": [
      "comp100710_c0_seq1 Bacteria 1e-108\r\n",
      "comp101011_c0_seq1 Bacteria 2e-67\r\n",
      "comp101670_c0_seq1 Bacteria 4e-79\r\n",
      "comp101927_c3_seq1 N/A 1e-26\r\n",
      "comp102287_c0_seq1 Bacteria 6e-27\r\n",
      "comp102799_c0_seq1 Bacteria 4e-114\r\n",
      "comp103084_c0_seq1 Bacteria 6e-56\r\n",
      "comp103338_c0_seq1 Bacteria 3e-85\r\n",
      "comp103338_c1_seq1 Bacteria 1e-109\r\n",
      "comp103338_c2_seq1 Bacteria 9e-25\r\n"
     ]
    }
   ],
   "source": [
    "!head /Users/sr320/git-repos/paper-pano-go/jupyter-nbs/analyses/Non-Eukaryota-Geoduck-v2.sorted"
   ]
  },
  {
   "cell_type": "code",
   "execution_count": 3,
   "metadata": {
    "collapsed": false
   },
   "outputs": [
    {
     "name": "stdout",
     "output_type": "stream",
     "text": [
      "     425 /Users/sr320/git-repos/paper-pano-go/jupyter-nbs/analyses/Non-Eukaryota-Geoduck-v2.sorted\r\n"
     ]
    }
   ],
   "source": [
    "!wc -l /Users/sr320/git-repos/paper-pano-go/jupyter-nbs/analyses/Non-Eukaryota-Geoduck-v2.sorted"
   ]
  },
  {
   "cell_type": "code",
   "execution_count": 5,
   "metadata": {
    "collapsed": false
   },
   "outputs": [
    {
     "name": "stdout",
     "output_type": "stream",
     "text": [
      ">cds.comp100047_c0_seq2|m.5982 comp100047_c0_seq2|g.5982  ORF comp100047_c0_seq2|g.5982 comp100047_c0_seq2|m.5982 type:internal len:142 (-) comp100047_c0_seq2:3-425(-)\r\n",
      "NAECRDLYKIFTQILSVRSQEGKIVIPDEFATKIRNWLGNKEELFKEAHNQKIITFYNEY\r\n",
      "TREENTFNPIRGKRPMSVPDMPERKYIDQLSRKTQSQCDFCKYKTFTAEDTFGRIDSNFS\r\n",
      "CSASNAFKLDHWHALFLLKTH\r\n",
      ">cds.comp100068_c0_seq1|m.5983 comp100068_c0_seq1|g.5983  ORF comp100068_c0_seq1|g.5983 comp100068_c0_seq1|m.5983 type:internal len:106 (-) comp100068_c0_seq1:1-315(-)\r\n",
      "LFLDKSGKRICSFNNLTAVIEKATERASRIRLAKGLSQPKYLSCGNVDKVPAPGYLTASF\r\n",
      "TQLSVNKTRKDKGRNHLLLWDQTSSYSYIGPGIHYKDGKIRVNTT\r\n",
      ">cds.comp100097_c2_seq1|m.5984 comp100097_c2_seq1|g.5984  ORF comp100097_c2_seq1|g.5984 comp100097_c2_seq1|m.5984 type:internal len:227 (+) comp100097_c2_seq1:2-679(+)\r\n",
      "GTENLRICLKVIETYLLLGPREFLELYSGDLVHSLSNLLSDLRTEGVLLVLRVIELVLKS\r\n",
      "FPTEGPALFKSMLPEFLRAVLNKDEHPVVMSLYLTLFGRIVLQNQEFFWNFLDQMAMESH\r\n",
      "TDSSTILKSMLAAWVESIDSMTQPERRKLSALALASLLTVNYSVILESFGSIVSVCVQVL\r\n",
      "HDVCRVPVDEETAIQMDALVIRDGDNLGEDEHETEHEKRKRALTRK\r\n",
      ">cds.comp100100_c0_seq1|m.5985 comp100100_c0_seq1|g.5985  ORF comp100100_c0_seq1|g.5985 comp100100_c0_seq1|m.5985 type:5prime_partial len:390 (-) comp100100_c0_seq1:109-1278(-)\r\n",
      "VEPINRQATDGVKKKKKKKTKLSDGVLPSNVKANSFTKFSQAPDNFTGSKLSSGSACSSG\r\n",
      "SCTAGLMLKVGEFCQSIRTSSSETNNGASEHSNSEQCREGAKSDAAIQGIGLELTRKPPI\r\n",
      "PAKAGKPSNNGATISPDILRHTDKSGTKGHKRQKSLPKQHYPMVEAIGASDFRKNGTCSH\r\n",
      "DNPRLNSDPSILTTAPNKWSLKKSNSAPSPSNSKQTLSQSGKISGSQPPIFNSVNKPLNT\r\n",
      "GTTSPGGRNKKLPQCGVQALFYGSEDQFGANQTGGNKIIRKEGFAKGLNSHITNGLDPSK\r\n",
      "YTLDPSKCGGLLSNEGGSVMDNSHSLIITRNSPGAVNGTCNINGEHGLHDDCSDTKSDEG\r\n",
      "TVGGINIVEGSNPETKQIGTWKKIFGLIK*\r\n",
      ">cds.comp100100_c0_seq2|m.5986 comp100100_c0_seq2|g.5986  ORF comp100100_c0_seq2|g.5986 comp100100_c0_seq2|m.5986 type:internal len:223 (-) comp100100_c0_seq2:1-666(-)\r\n",
      "VEPINRQATDGVKKKKKKKTKLSDGVLPSNVKANSFTKFSQAPDNFTGSKLSSGSACSSG\r\n",
      "SCTAGLMLKVGEFCQSIRTSSSETNNGASEHSNSEQCREGAKSDAAIQGIGLELTRKPPI\r\n",
      "PAKAGKPSNNGATISPDILRHTDKSGTKGHKRQKSLPKQHYPMVEAIGASDFRKNGTCSH\r\n",
      "DNPRLNSDPSILTTAPNKWSLKKSNSAPSPSNSKQTLPQCGA\r\n",
      ">cds.comp100104_c0_seq1|m.5987 comp100104_c0_seq1|g.5987  ORF comp100104_c0_seq1|g.5987 comp100104_c0_seq1|m.5987 type:internal len:385 (-) comp100104_c0_seq1:2-1153(-)\r\n",
      "EKMDKILSEFTEIMFEALLFVKNVNCIRISNMTDEGIIEEYSVHASMSLEDKKNRQIFFN\r\n",
      "EIHAIIKENTNDKAAILKEGKKEIGYEMVIEDSNQRLTEWYIVQIFGFENSSDEITSAFR\r\n",
      "DKMLGQSPLGGVAVPLKKVSVSTEQFREKDFRHDSRTEGKYDGSKQHDASHEITKNNSTV\r\n",
      "NGNEFCGKAFCFLPLPIKTNLPVHVHGHFVLDHEARQHLGGGEPGYKQTWNESILSNIVA\r\n",
      "NCWISAIKYIQTSLVLANLQNVSCEKAMVCLMENYHGHFPLLRNGSEGMDHYWTYLVRSF\r\n",
      "YNTVVKNHHALFPVVRFSEFKKSDFDKGTLERKFEHELTWVAIGQNSLQGVFNMIKKHVP\r\n",
      "LTGSLYHNFYVHFSENDARELESI\r\n",
      ">cds.comp100104_c1_seq1|m.5988 comp100104_c1_seq1|g.5988  ORF comp100104_c1_seq1|g.5988 comp100104_c1_seq1|m.5988 type:internal len:141 (+) comp100104_c1_seq1:2-421(+)\r\n",
      "PALCVFNNSCFTKADIEGIHNLGIGSKGDDPTKTGQYGVGFNAVYHLTDTPSFLTKGPEV\r\n",
      "EKGETLCIFDPLCKNIPKATEVEPGIRCDVGVLKQNFPDVLLGYLEKEGLFDSGKGTLFR\r\n",
      "FPLRCKKSDISSEIITKEKM\r\n",
      ">cds.comp100104_c3_seq1|m.5990 comp100104_c3_seq1|g.5990  ORF comp100104_c3_seq1|g.5990 comp100104_c3_seq1|m.5990 type:3prime_partial len:136 (+) comp100104_c3_seq1:1-405(+)\r\n",
      "MEDGTEYIDYKEQHSSIVAPDINSILRPTYELVIDDTDYETSSTMNILHGRILPDVAIEF\r\n",
      "GVKPKKIKCLDELSCAIPFGQKEKLVTRLQRLLDGYPCDSSIMKELLQNADDANASEMHF\r\n",
      "IKDYRTHSTEKIFGK\r\n",
      ">cds.comp100105_c0_seq1|m.5991 comp100105_c0_seq1|g.5991  ORF comp100105_c0_seq1|g.5991 comp100105_c0_seq1|m.5991 type:5prime_partial len:283 (-) comp100105_c0_seq1:13-861(-)\r\n",
      "ASQPYTENKCSFQISDSIQALSDVSPPGYEDNSDYQSLEGVHHGYYGDQSPTEFYPMIPE\r\n",
      "QKYRPPPIKRMCSGGFIPQEAHTQAQTESYFDQQHQYQMVPNIKTEMPWSQHEFPGCGRD\r\n",
      "LSGSWSPTDLRTNMSRVGYHPLHNLGEMGTQGPENKPMIQAAALAGYSGSGPIQLWQFLL\r\n",
      "EQLTDKSCQHFISWTGDGWEFKLADPDEVARRWGMRKNKPKMNYEKLSRGLRYYYDKNII\r\n",
      "HKTAGKRYVYRFVCDLQSLLGYTPEELWEACDIKPQKDKDDE*\r\n",
      ">cds.comp100108_c0_seq1|m.5992 comp100108_c0_seq1|g.5992  ORF comp100108_c0_seq1|g.5992 comp100108_c0_seq1|m.5992 type:internal len:141 (+) comp100108_c0_seq1:2-421(+)\r\n",
      "AVTGIEADMWLSAISFLKNPTKDMLKEVKPLINMKDTTDKALLSVGTLIHSYCLRHGNCE\r\n",
      "RDDMVKAVISAMQNKIAKGCKIKPDNFKTSLLALRGIGNAGYAVSAIPTLEICVKITSNP\r\n"
     ]
    }
   ],
   "source": [
    "!head -50 ../Supplemental-files/S1-Pgenerosa-gonad-protein.fa"
   ]
  },
  {
   "cell_type": "code",
   "execution_count": 6,
   "metadata": {
    "collapsed": false
   },
   "outputs": [
    {
     "name": "stdout",
     "output_type": "stream",
     "text": [
      "\r\n",
      "Converted 36003 FASTA records in 249520 lines to tabular format\r\n",
      "Total sequence length: 11788989\r\n",
      "\r\n"
     ]
    }
   ],
   "source": [
    "!perl -e '$count=0; $len=0; while(<>) {s/\\r?\\n//; s/\\t/ /g; if (s/^>//) { if ($. != 1) {print \"\\n\"} s/ |$/\\t/; $count++; $_ .= \"\\t\";} else {s/ //g; $len += length($_)} print $_;} print \"\\n\"; warn \"\\nConverted $count FASTA records in $. lines to tabular format\\nTotal sequence length: $len\\n\\n\";' \\\n",
    "../Supplemental-files/S1-Pgenerosa-gonad-protein.fa > ../Supplemental-files/S1-Pgenerosa-gonad-protein.tab\n"
   ]
  },
  {
   "cell_type": "code",
   "execution_count": 8,
   "metadata": {
    "collapsed": false
   },
   "outputs": [
    {
     "name": "stdout",
     "output_type": "stream",
     "text": [
      "cds.comp100047_c0_seq2|m.5982\tcomp100047_c0_seq2|g.5982  ORF comp100047_c0_seq2|g.5982 comp100047_c0_seq2|m.5982 type:internal len:142 (-) comp100047_c0_seq2:3-425(-)\tNAECRDLYKIFTQILSVRSQEGKIVIPDEFATKIRNWLGNKEELFKEAHNQKIITFYNEYTREENTFNPIRGKRPMSVPDMPERKYIDQLSRKTQSQCDFCKYKTFTAEDTFGRIDSNFSCSASNAFKLDHWHALFLLKTH\r\n"
     ]
    }
   ],
   "source": [
    "!head -1 ../Supplemental-files/S1-Pgenerosa-gonad-protein.tab"
   ]
  },
  {
   "cell_type": "code",
   "execution_count": 15,
   "metadata": {
    "collapsed": true
   },
   "outputs": [],
   "source": [
    "#change pipe to tab????"
   ]
  },
  {
   "cell_type": "code",
   "execution_count": 10,
   "metadata": {
    "collapsed": true
   },
   "outputs": [],
   "source": [
    "!sort ../Supplemental-files/S1-Pgenerosa-gonad-protein.tab > ../Supplemental-files/S1-Pgenerosa-gonad-protein.tab.sorted"
   ]
  },
  {
   "cell_type": "code",
   "execution_count": 14,
   "metadata": {
    "collapsed": false
   },
   "outputs": [
    {
     "name": "stdout",
     "output_type": "stream",
     "text": [
      "       0\r\n"
     ]
    }
   ],
   "source": [
    "!join /Users/sr320/git-repos/paper-pano-go/jupyter-nbs/analyses/Non-Eukaryota-Geoduck-v2.sorted \\\n",
    "../Supplemental-files/S1-Pgenerosa-gonad-protein.tab.sorted | wc -l"
   ]
  },
  {
   "cell_type": "code",
   "execution_count": null,
   "metadata": {
    "collapsed": true
   },
   "outputs": [],
   "source": []
  }
 ],
 "metadata": {
  "kernelspec": {
   "display_name": "Python 2",
   "language": "python",
   "name": "python2"
  },
  "language_info": {
   "codemirror_mode": {
    "name": "ipython",
    "version": 2
   },
   "file_extension": ".py",
   "mimetype": "text/x-python",
   "name": "python",
   "nbconvert_exporter": "python",
   "pygments_lexer": "ipython2",
   "version": "2.7.11"
  }
 },
 "nbformat": 4,
 "nbformat_minor": 0
}
